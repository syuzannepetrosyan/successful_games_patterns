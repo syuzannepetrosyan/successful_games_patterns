{
 "cells": [
  {
   "cell_type": "markdown",
   "metadata": {},
   "source": [
    "## **Введение**"
   ]
  },
  {
   "cell_type": "markdown",
   "metadata": {},
   "source": [
    "Данный проект представляет собой исследование рынка компьютерных игр, выполненное для интернет-магазина \"Стримчик\".\n",
    "\n",
    "**Цель исследования:** провести анализ данных и выявить закономерности, влияющие на коммерческую успешность игры.\n",
    "\n",
    "Для анализа представлены следующие данные:\n",
    "- данные о **жанрах** игр;\n",
    "- данные о **продажах в различных регионах**;\n",
    "- данные об **оценках пользователей и экспертов**;\n",
    "- данные о **рейтинге ESRB**."
   ]
  },
  {
   "cell_type": "markdown",
   "metadata": {},
   "source": [
    "## **Откройте файл с данными и изучите общую информацию**"
   ]
  },
  {
   "cell_type": "code",
   "execution_count": 130,
   "metadata": {},
   "outputs": [],
   "source": [
    "# Импортируем необходимые библиотеки\n",
    "\n",
    "import pandas as pd\n",
    "import matplotlib as mpl\n",
    "import numpy as np\n",
    "from scipy import stats as st\n",
    "import matplotlib.pyplot as plt\n",
    "import seaborn as sns"
   ]
  },
  {
   "cell_type": "code",
   "execution_count": 131,
   "metadata": {},
   "outputs": [],
   "source": [
    "# Откроем файл с данными и сохраним в переменную data:\n",
    "\n",
    "data = pd.read_csv ('/datasets/games.csv')"
   ]
  },
  {
   "cell_type": "code",
   "execution_count": 132,
   "metadata": {},
   "outputs": [
    {
     "data": {
      "text/html": [
       "<div>\n",
       "<style scoped>\n",
       "    .dataframe tbody tr th:only-of-type {\n",
       "        vertical-align: middle;\n",
       "    }\n",
       "\n",
       "    .dataframe tbody tr th {\n",
       "        vertical-align: top;\n",
       "    }\n",
       "\n",
       "    .dataframe thead th {\n",
       "        text-align: right;\n",
       "    }\n",
       "</style>\n",
       "<table border=\"1\" class=\"dataframe\">\n",
       "  <thead>\n",
       "    <tr style=\"text-align: right;\">\n",
       "      <th></th>\n",
       "      <th>Name</th>\n",
       "      <th>Platform</th>\n",
       "      <th>Year_of_Release</th>\n",
       "      <th>Genre</th>\n",
       "      <th>NA_sales</th>\n",
       "      <th>EU_sales</th>\n",
       "      <th>JP_sales</th>\n",
       "      <th>Other_sales</th>\n",
       "      <th>Critic_Score</th>\n",
       "      <th>User_Score</th>\n",
       "      <th>Rating</th>\n",
       "    </tr>\n",
       "  </thead>\n",
       "  <tbody>\n",
       "    <tr>\n",
       "      <th>0</th>\n",
       "      <td>Wii Sports</td>\n",
       "      <td>Wii</td>\n",
       "      <td>2006.0</td>\n",
       "      <td>Sports</td>\n",
       "      <td>41.36</td>\n",
       "      <td>28.96</td>\n",
       "      <td>3.77</td>\n",
       "      <td>8.45</td>\n",
       "      <td>76.0</td>\n",
       "      <td>8</td>\n",
       "      <td>E</td>\n",
       "    </tr>\n",
       "    <tr>\n",
       "      <th>1</th>\n",
       "      <td>Super Mario Bros.</td>\n",
       "      <td>NES</td>\n",
       "      <td>1985.0</td>\n",
       "      <td>Platform</td>\n",
       "      <td>29.08</td>\n",
       "      <td>3.58</td>\n",
       "      <td>6.81</td>\n",
       "      <td>0.77</td>\n",
       "      <td>NaN</td>\n",
       "      <td>NaN</td>\n",
       "      <td>NaN</td>\n",
       "    </tr>\n",
       "    <tr>\n",
       "      <th>2</th>\n",
       "      <td>Mario Kart Wii</td>\n",
       "      <td>Wii</td>\n",
       "      <td>2008.0</td>\n",
       "      <td>Racing</td>\n",
       "      <td>15.68</td>\n",
       "      <td>12.76</td>\n",
       "      <td>3.79</td>\n",
       "      <td>3.29</td>\n",
       "      <td>82.0</td>\n",
       "      <td>8.3</td>\n",
       "      <td>E</td>\n",
       "    </tr>\n",
       "    <tr>\n",
       "      <th>3</th>\n",
       "      <td>Wii Sports Resort</td>\n",
       "      <td>Wii</td>\n",
       "      <td>2009.0</td>\n",
       "      <td>Sports</td>\n",
       "      <td>15.61</td>\n",
       "      <td>10.93</td>\n",
       "      <td>3.28</td>\n",
       "      <td>2.95</td>\n",
       "      <td>80.0</td>\n",
       "      <td>8</td>\n",
       "      <td>E</td>\n",
       "    </tr>\n",
       "    <tr>\n",
       "      <th>4</th>\n",
       "      <td>Pokemon Red/Pokemon Blue</td>\n",
       "      <td>GB</td>\n",
       "      <td>1996.0</td>\n",
       "      <td>Role-Playing</td>\n",
       "      <td>11.27</td>\n",
       "      <td>8.89</td>\n",
       "      <td>10.22</td>\n",
       "      <td>1.00</td>\n",
       "      <td>NaN</td>\n",
       "      <td>NaN</td>\n",
       "      <td>NaN</td>\n",
       "    </tr>\n",
       "    <tr>\n",
       "      <th>5</th>\n",
       "      <td>Tetris</td>\n",
       "      <td>GB</td>\n",
       "      <td>1989.0</td>\n",
       "      <td>Puzzle</td>\n",
       "      <td>23.20</td>\n",
       "      <td>2.26</td>\n",
       "      <td>4.22</td>\n",
       "      <td>0.58</td>\n",
       "      <td>NaN</td>\n",
       "      <td>NaN</td>\n",
       "      <td>NaN</td>\n",
       "    </tr>\n",
       "    <tr>\n",
       "      <th>6</th>\n",
       "      <td>New Super Mario Bros.</td>\n",
       "      <td>DS</td>\n",
       "      <td>2006.0</td>\n",
       "      <td>Platform</td>\n",
       "      <td>11.28</td>\n",
       "      <td>9.14</td>\n",
       "      <td>6.50</td>\n",
       "      <td>2.88</td>\n",
       "      <td>89.0</td>\n",
       "      <td>8.5</td>\n",
       "      <td>E</td>\n",
       "    </tr>\n",
       "    <tr>\n",
       "      <th>7</th>\n",
       "      <td>Wii Play</td>\n",
       "      <td>Wii</td>\n",
       "      <td>2006.0</td>\n",
       "      <td>Misc</td>\n",
       "      <td>13.96</td>\n",
       "      <td>9.18</td>\n",
       "      <td>2.93</td>\n",
       "      <td>2.84</td>\n",
       "      <td>58.0</td>\n",
       "      <td>6.6</td>\n",
       "      <td>E</td>\n",
       "    </tr>\n",
       "    <tr>\n",
       "      <th>8</th>\n",
       "      <td>New Super Mario Bros. Wii</td>\n",
       "      <td>Wii</td>\n",
       "      <td>2009.0</td>\n",
       "      <td>Platform</td>\n",
       "      <td>14.44</td>\n",
       "      <td>6.94</td>\n",
       "      <td>4.70</td>\n",
       "      <td>2.24</td>\n",
       "      <td>87.0</td>\n",
       "      <td>8.4</td>\n",
       "      <td>E</td>\n",
       "    </tr>\n",
       "    <tr>\n",
       "      <th>9</th>\n",
       "      <td>Duck Hunt</td>\n",
       "      <td>NES</td>\n",
       "      <td>1984.0</td>\n",
       "      <td>Shooter</td>\n",
       "      <td>26.93</td>\n",
       "      <td>0.63</td>\n",
       "      <td>0.28</td>\n",
       "      <td>0.47</td>\n",
       "      <td>NaN</td>\n",
       "      <td>NaN</td>\n",
       "      <td>NaN</td>\n",
       "    </tr>\n",
       "  </tbody>\n",
       "</table>\n",
       "</div>"
      ],
      "text/plain": [
       "                        Name Platform  Year_of_Release         Genre  \\\n",
       "0                 Wii Sports      Wii           2006.0        Sports   \n",
       "1          Super Mario Bros.      NES           1985.0      Platform   \n",
       "2             Mario Kart Wii      Wii           2008.0        Racing   \n",
       "3          Wii Sports Resort      Wii           2009.0        Sports   \n",
       "4   Pokemon Red/Pokemon Blue       GB           1996.0  Role-Playing   \n",
       "5                     Tetris       GB           1989.0        Puzzle   \n",
       "6      New Super Mario Bros.       DS           2006.0      Platform   \n",
       "7                   Wii Play      Wii           2006.0          Misc   \n",
       "8  New Super Mario Bros. Wii      Wii           2009.0      Platform   \n",
       "9                  Duck Hunt      NES           1984.0       Shooter   \n",
       "\n",
       "   NA_sales  EU_sales  JP_sales  Other_sales  Critic_Score User_Score Rating  \n",
       "0     41.36     28.96      3.77         8.45          76.0          8      E  \n",
       "1     29.08      3.58      6.81         0.77           NaN        NaN    NaN  \n",
       "2     15.68     12.76      3.79         3.29          82.0        8.3      E  \n",
       "3     15.61     10.93      3.28         2.95          80.0          8      E  \n",
       "4     11.27      8.89     10.22         1.00           NaN        NaN    NaN  \n",
       "5     23.20      2.26      4.22         0.58           NaN        NaN    NaN  \n",
       "6     11.28      9.14      6.50         2.88          89.0        8.5      E  \n",
       "7     13.96      9.18      2.93         2.84          58.0        6.6      E  \n",
       "8     14.44      6.94      4.70         2.24          87.0        8.4      E  \n",
       "9     26.93      0.63      0.28         0.47           NaN        NaN    NaN  "
      ]
     },
     "metadata": {},
     "output_type": "display_data"
    }
   ],
   "source": [
    "# Выведем на экран первые 10 строк датасета:\n",
    "\n",
    "display (data.head (10))"
   ]
  },
  {
   "cell_type": "code",
   "execution_count": 133,
   "metadata": {},
   "outputs": [
    {
     "name": "stdout",
     "output_type": "stream",
     "text": [
      "<class 'pandas.core.frame.DataFrame'>\n",
      "RangeIndex: 16715 entries, 0 to 16714\n",
      "Data columns (total 11 columns):\n",
      " #   Column           Non-Null Count  Dtype  \n",
      "---  ------           --------------  -----  \n",
      " 0   Name             16713 non-null  object \n",
      " 1   Platform         16715 non-null  object \n",
      " 2   Year_of_Release  16446 non-null  float64\n",
      " 3   Genre            16713 non-null  object \n",
      " 4   NA_sales         16715 non-null  float64\n",
      " 5   EU_sales         16715 non-null  float64\n",
      " 6   JP_sales         16715 non-null  float64\n",
      " 7   Other_sales      16715 non-null  float64\n",
      " 8   Critic_Score     8137 non-null   float64\n",
      " 9   User_Score       10014 non-null  object \n",
      " 10  Rating           9949 non-null   object \n",
      "dtypes: float64(6), object(5)\n",
      "memory usage: 1.4+ MB\n",
      "None\n"
     ]
    }
   ],
   "source": [
    "# Выведем на экран общую информацию о датасете:\n",
    "\n",
    "print (data.info())"
   ]
  },
  {
   "cell_type": "code",
   "execution_count": 134,
   "metadata": {},
   "outputs": [
    {
     "name": "stdout",
     "output_type": "stream",
     "text": [
      "Name                  2\n",
      "Platform              0\n",
      "Year_of_Release     269\n",
      "Genre                 2\n",
      "NA_sales              0\n",
      "EU_sales              0\n",
      "JP_sales              0\n",
      "Other_sales           0\n",
      "Critic_Score       8578\n",
      "User_Score         6701\n",
      "Rating             6766\n",
      "dtype: int64\n"
     ]
    }
   ],
   "source": [
    "# Проверим, содержит ли датасет пропуски в данных:\n",
    "\n",
    "print (data.isna().sum()) "
   ]
  },
  {
   "cell_type": "code",
   "execution_count": 135,
   "metadata": {},
   "outputs": [
    {
     "name": "stdout",
     "output_type": "stream",
     "text": [
      "0\n"
     ]
    }
   ],
   "source": [
    "#  Проверим датасет на наличие явных дубликатов: \n",
    "print (data.duplicated().sum())"
   ]
  },
  {
   "cell_type": "markdown",
   "metadata": {},
   "source": [
    "**Вывод:** Мы видим, что датасет содержит пропуски в некоторых столбцах, а вот полных дубликатов нет. Что касается типов данных, то данные в ряде столбцов представлены в некорректных типах (например, значения в столбце Year_of_Release выражены вещественными числами, тогда как год может быть всегда только целым числом). Также хотелось бы отметить использование обоих регистров в названиях столбцов, что может усложнять восприятие данных и также требует обработки."
   ]
  },
  {
   "cell_type": "markdown",
   "metadata": {},
   "source": [
    "## **Подготовьте данные**"
   ]
  },
  {
   "cell_type": "markdown",
   "metadata": {},
   "source": [
    "### **Названия столбцов**"
   ]
  },
  {
   "cell_type": "code",
   "execution_count": 136,
   "metadata": {
    "scrolled": true
   },
   "outputs": [
    {
     "name": "stdout",
     "output_type": "stream",
     "text": [
      "<class 'pandas.core.frame.DataFrame'>\n",
      "RangeIndex: 16715 entries, 0 to 16714\n",
      "Data columns (total 11 columns):\n",
      " #   Column           Non-Null Count  Dtype  \n",
      "---  ------           --------------  -----  \n",
      " 0   name             16713 non-null  object \n",
      " 1   platform         16715 non-null  object \n",
      " 2   year_of_release  16446 non-null  float64\n",
      " 3   genre            16713 non-null  object \n",
      " 4   na_sales         16715 non-null  float64\n",
      " 5   eu_sales         16715 non-null  float64\n",
      " 6   jp_sales         16715 non-null  float64\n",
      " 7   other_sales      16715 non-null  float64\n",
      " 8   critic_score     8137 non-null   float64\n",
      " 9   user_score       10014 non-null  object \n",
      " 10  rating           9949 non-null   object \n",
      "dtypes: float64(6), object(5)\n",
      "memory usage: 1.4+ MB\n",
      "None\n"
     ]
    }
   ],
   "source": [
    "# Приведем названия столбцов к нижнему регистру:\n",
    "\n",
    "data.columns = data.columns.str.lower()\n",
    "print (data.info())"
   ]
  },
  {
   "cell_type": "markdown",
   "metadata": {},
   "source": [
    "### **Типы данных**"
   ]
  },
  {
   "cell_type": "code",
   "execution_count": 137,
   "metadata": {
    "scrolled": true
   },
   "outputs": [
    {
     "name": "stdout",
     "output_type": "stream",
     "text": [
      "<class 'pandas.core.frame.DataFrame'>\n",
      "RangeIndex: 16715 entries, 0 to 16714\n",
      "Data columns (total 11 columns):\n",
      " #   Column           Non-Null Count  Dtype  \n",
      "---  ------           --------------  -----  \n",
      " 0   name             16713 non-null  object \n",
      " 1   platform         16715 non-null  object \n",
      " 2   year_of_release  16446 non-null  float64\n",
      " 3   genre            16713 non-null  object \n",
      " 4   na_sales         16715 non-null  float64\n",
      " 5   eu_sales         16715 non-null  float64\n",
      " 6   jp_sales         16715 non-null  float64\n",
      " 7   other_sales      16715 non-null  float64\n",
      " 8   critic_score     8137 non-null   float64\n",
      " 9   user_score       10014 non-null  object \n",
      " 10  rating           9949 non-null   object \n",
      "dtypes: float64(6), object(5)\n",
      "memory usage: 1.4+ MB\n",
      "None\n"
     ]
    }
   ],
   "source": [
    "# Приведем данные к нужным типам:\n",
    "\n",
    "data.loc[~data['year_of_release'].isna(), 'year_of_release'] = data.loc[\n",
    "    ~data ['year_of_release'].isna(), 'year_of_release'].astype ('int') \n",
    "\n",
    "print (data.info())"
   ]
  },
  {
   "cell_type": "markdown",
   "metadata": {},
   "source": [
    "Мы заменили тип данных в столбце year_of_release (поскольку год выпуска - всегда целое число)."
   ]
  },
  {
   "cell_type": "markdown",
   "metadata": {},
   "source": [
    "### **Пропуски**"
   ]
  },
  {
   "cell_type": "code",
   "execution_count": 138,
   "metadata": {},
   "outputs": [
    {
     "name": "stdout",
     "output_type": "stream",
     "text": [
      "name                  2\n",
      "platform              0\n",
      "year_of_release     269\n",
      "genre                 2\n",
      "na_sales              0\n",
      "eu_sales              0\n",
      "jp_sales              0\n",
      "other_sales           0\n",
      "critic_score       8578\n",
      "user_score         6701\n",
      "rating             6766\n",
      "dtype: int64\n"
     ]
    }
   ],
   "source": [
    "# Проверим количество пропусков в каждом столбце:\n",
    "\n",
    "print (data.isna().sum())"
   ]
  },
  {
   "cell_type": "markdown",
   "metadata": {},
   "source": [
    "Мы видим, что есть как пропуски, которые нельзя адекватно восполнить (например, название игры, ее жанр, рейтинг или год выпуска), так и те, которые восполнить можно (оценка критиков и пользователей).\n",
    "\n",
    "В первой группе случаев целесообразно использовать заглушку. "
   ]
  },
  {
   "cell_type": "code",
   "execution_count": 139,
   "metadata": {},
   "outputs": [
    {
     "name": "stdout",
     "output_type": "stream",
     "text": [
      "name                  0\n",
      "platform              0\n",
      "year_of_release     269\n",
      "genre                 0\n",
      "na_sales              0\n",
      "eu_sales              0\n",
      "jp_sales              0\n",
      "other_sales           0\n",
      "critic_score       8578\n",
      "user_score         6701\n",
      "rating                0\n",
      "dtype: int64\n"
     ]
    }
   ],
   "source": [
    "# Заменим пропуски в столбцах name, year_of_release, genre и rating на unknown:\n",
    "\n",
    "data ['name'] = data['name'].fillna ('unknown')\n",
    "data ['genre'] = data['genre'].fillna ('unknown')\n",
    "data ['rating'] = data['rating'].fillna ('unknown')\n",
    "\n",
    "print (data.isna().sum())"
   ]
  },
  {
   "cell_type": "markdown",
   "metadata": {},
   "source": [
    "В столбце user_score встречается значение 'tbd'. Скорее всего оно обозначает \"to be determined\" и таким образом отмечались данные, по которым не конкретизировано значение оценки пользователей. Для того чтобы выбрать оптимальный способ обработки этих значений, необходимо понять, сколько таких строк содержит датасет:"
   ]
  },
  {
   "cell_type": "code",
   "execution_count": 140,
   "metadata": {
    "scrolled": true
   },
   "outputs": [
    {
     "data": {
      "text/html": [
       "<div>\n",
       "<style scoped>\n",
       "    .dataframe tbody tr th:only-of-type {\n",
       "        vertical-align: middle;\n",
       "    }\n",
       "\n",
       "    .dataframe tbody tr th {\n",
       "        vertical-align: top;\n",
       "    }\n",
       "\n",
       "    .dataframe thead th {\n",
       "        text-align: right;\n",
       "    }\n",
       "</style>\n",
       "<table border=\"1\" class=\"dataframe\">\n",
       "  <thead>\n",
       "    <tr style=\"text-align: right;\">\n",
       "      <th></th>\n",
       "      <th>name</th>\n",
       "      <th>platform</th>\n",
       "      <th>year_of_release</th>\n",
       "      <th>genre</th>\n",
       "      <th>na_sales</th>\n",
       "      <th>eu_sales</th>\n",
       "      <th>jp_sales</th>\n",
       "      <th>other_sales</th>\n",
       "      <th>critic_score</th>\n",
       "      <th>user_score</th>\n",
       "      <th>rating</th>\n",
       "    </tr>\n",
       "  </thead>\n",
       "  <tbody>\n",
       "    <tr>\n",
       "      <th>119</th>\n",
       "      <td>Zumba Fitness</td>\n",
       "      <td>Wii</td>\n",
       "      <td>2010.0</td>\n",
       "      <td>Sports</td>\n",
       "      <td>3.45</td>\n",
       "      <td>2.59</td>\n",
       "      <td>0.0</td>\n",
       "      <td>0.66</td>\n",
       "      <td>NaN</td>\n",
       "      <td>tbd</td>\n",
       "      <td>E</td>\n",
       "    </tr>\n",
       "    <tr>\n",
       "      <th>301</th>\n",
       "      <td>Namco Museum: 50th Anniversary</td>\n",
       "      <td>PS2</td>\n",
       "      <td>2005.0</td>\n",
       "      <td>Misc</td>\n",
       "      <td>2.08</td>\n",
       "      <td>1.35</td>\n",
       "      <td>0.0</td>\n",
       "      <td>0.54</td>\n",
       "      <td>61.0</td>\n",
       "      <td>tbd</td>\n",
       "      <td>E10+</td>\n",
       "    </tr>\n",
       "    <tr>\n",
       "      <th>520</th>\n",
       "      <td>Zumba Fitness 2</td>\n",
       "      <td>Wii</td>\n",
       "      <td>2011.0</td>\n",
       "      <td>Sports</td>\n",
       "      <td>1.51</td>\n",
       "      <td>1.03</td>\n",
       "      <td>0.0</td>\n",
       "      <td>0.27</td>\n",
       "      <td>NaN</td>\n",
       "      <td>tbd</td>\n",
       "      <td>T</td>\n",
       "    </tr>\n",
       "    <tr>\n",
       "      <th>645</th>\n",
       "      <td>uDraw Studio</td>\n",
       "      <td>Wii</td>\n",
       "      <td>2010.0</td>\n",
       "      <td>Misc</td>\n",
       "      <td>1.65</td>\n",
       "      <td>0.57</td>\n",
       "      <td>0.0</td>\n",
       "      <td>0.20</td>\n",
       "      <td>71.0</td>\n",
       "      <td>tbd</td>\n",
       "      <td>E</td>\n",
       "    </tr>\n",
       "    <tr>\n",
       "      <th>657</th>\n",
       "      <td>Frogger's Adventures: Temple of the Frog</td>\n",
       "      <td>GBA</td>\n",
       "      <td>NaN</td>\n",
       "      <td>Adventure</td>\n",
       "      <td>2.15</td>\n",
       "      <td>0.18</td>\n",
       "      <td>0.0</td>\n",
       "      <td>0.07</td>\n",
       "      <td>73.0</td>\n",
       "      <td>tbd</td>\n",
       "      <td>E</td>\n",
       "    </tr>\n",
       "    <tr>\n",
       "      <th>...</th>\n",
       "      <td>...</td>\n",
       "      <td>...</td>\n",
       "      <td>...</td>\n",
       "      <td>...</td>\n",
       "      <td>...</td>\n",
       "      <td>...</td>\n",
       "      <td>...</td>\n",
       "      <td>...</td>\n",
       "      <td>...</td>\n",
       "      <td>...</td>\n",
       "      <td>...</td>\n",
       "    </tr>\n",
       "    <tr>\n",
       "      <th>16695</th>\n",
       "      <td>Planet Monsters</td>\n",
       "      <td>GBA</td>\n",
       "      <td>2001.0</td>\n",
       "      <td>Action</td>\n",
       "      <td>0.01</td>\n",
       "      <td>0.00</td>\n",
       "      <td>0.0</td>\n",
       "      <td>0.00</td>\n",
       "      <td>67.0</td>\n",
       "      <td>tbd</td>\n",
       "      <td>E</td>\n",
       "    </tr>\n",
       "    <tr>\n",
       "      <th>16697</th>\n",
       "      <td>Bust-A-Move 3000</td>\n",
       "      <td>GC</td>\n",
       "      <td>2003.0</td>\n",
       "      <td>Puzzle</td>\n",
       "      <td>0.01</td>\n",
       "      <td>0.00</td>\n",
       "      <td>0.0</td>\n",
       "      <td>0.00</td>\n",
       "      <td>53.0</td>\n",
       "      <td>tbd</td>\n",
       "      <td>E</td>\n",
       "    </tr>\n",
       "    <tr>\n",
       "      <th>16698</th>\n",
       "      <td>Mega Brain Boost</td>\n",
       "      <td>DS</td>\n",
       "      <td>2008.0</td>\n",
       "      <td>Puzzle</td>\n",
       "      <td>0.01</td>\n",
       "      <td>0.00</td>\n",
       "      <td>0.0</td>\n",
       "      <td>0.00</td>\n",
       "      <td>48.0</td>\n",
       "      <td>tbd</td>\n",
       "      <td>E</td>\n",
       "    </tr>\n",
       "    <tr>\n",
       "      <th>16704</th>\n",
       "      <td>Plushees</td>\n",
       "      <td>DS</td>\n",
       "      <td>2008.0</td>\n",
       "      <td>Simulation</td>\n",
       "      <td>0.01</td>\n",
       "      <td>0.00</td>\n",
       "      <td>0.0</td>\n",
       "      <td>0.00</td>\n",
       "      <td>NaN</td>\n",
       "      <td>tbd</td>\n",
       "      <td>E</td>\n",
       "    </tr>\n",
       "    <tr>\n",
       "      <th>16706</th>\n",
       "      <td>Men in Black II: Alien Escape</td>\n",
       "      <td>GC</td>\n",
       "      <td>2003.0</td>\n",
       "      <td>Shooter</td>\n",
       "      <td>0.01</td>\n",
       "      <td>0.00</td>\n",
       "      <td>0.0</td>\n",
       "      <td>0.00</td>\n",
       "      <td>NaN</td>\n",
       "      <td>tbd</td>\n",
       "      <td>T</td>\n",
       "    </tr>\n",
       "  </tbody>\n",
       "</table>\n",
       "<p>2424 rows × 11 columns</p>\n",
       "</div>"
      ],
      "text/plain": [
       "                                           name platform  year_of_release  \\\n",
       "119                               Zumba Fitness      Wii           2010.0   \n",
       "301              Namco Museum: 50th Anniversary      PS2           2005.0   \n",
       "520                             Zumba Fitness 2      Wii           2011.0   \n",
       "645                                uDraw Studio      Wii           2010.0   \n",
       "657    Frogger's Adventures: Temple of the Frog      GBA              NaN   \n",
       "...                                         ...      ...              ...   \n",
       "16695                           Planet Monsters      GBA           2001.0   \n",
       "16697                          Bust-A-Move 3000       GC           2003.0   \n",
       "16698                          Mega Brain Boost       DS           2008.0   \n",
       "16704                                  Plushees       DS           2008.0   \n",
       "16706             Men in Black II: Alien Escape       GC           2003.0   \n",
       "\n",
       "            genre  na_sales  eu_sales  jp_sales  other_sales  critic_score  \\\n",
       "119        Sports      3.45      2.59       0.0         0.66           NaN   \n",
       "301          Misc      2.08      1.35       0.0         0.54          61.0   \n",
       "520        Sports      1.51      1.03       0.0         0.27           NaN   \n",
       "645          Misc      1.65      0.57       0.0         0.20          71.0   \n",
       "657     Adventure      2.15      0.18       0.0         0.07          73.0   \n",
       "...           ...       ...       ...       ...          ...           ...   \n",
       "16695      Action      0.01      0.00       0.0         0.00          67.0   \n",
       "16697      Puzzle      0.01      0.00       0.0         0.00          53.0   \n",
       "16698      Puzzle      0.01      0.00       0.0         0.00          48.0   \n",
       "16704  Simulation      0.01      0.00       0.0         0.00           NaN   \n",
       "16706     Shooter      0.01      0.00       0.0         0.00           NaN   \n",
       "\n",
       "      user_score rating  \n",
       "119          tbd      E  \n",
       "301          tbd   E10+  \n",
       "520          tbd      T  \n",
       "645          tbd      E  \n",
       "657          tbd      E  \n",
       "...          ...    ...  \n",
       "16695        tbd      E  \n",
       "16697        tbd      E  \n",
       "16698        tbd      E  \n",
       "16704        tbd      E  \n",
       "16706        tbd      T  \n",
       "\n",
       "[2424 rows x 11 columns]"
      ]
     },
     "metadata": {},
     "output_type": "display_data"
    }
   ],
   "source": [
    "#Выведем на экран информацию о строках, содержащих \"tbd\" в столбце user_score:\n",
    "\n",
    "display (data[data['user_score']=='tbd'])"
   ]
  },
  {
   "cell_type": "markdown",
   "metadata": {},
   "source": [
    "Мы видим, что таких строк больше 2000, то есть речь не о единичных строках, которые можно было бы безболезненно удалить из датасета. В таком случае представляется необходимым заменить это значение на пропуск (так как с точки зрения анализа данных оно не содержит никакой информации, равно как и пропуски)."
   ]
  },
  {
   "cell_type": "code",
   "execution_count": 141,
   "metadata": {},
   "outputs": [
    {
     "data": {
      "text/html": [
       "<div>\n",
       "<style scoped>\n",
       "    .dataframe tbody tr th:only-of-type {\n",
       "        vertical-align: middle;\n",
       "    }\n",
       "\n",
       "    .dataframe tbody tr th {\n",
       "        vertical-align: top;\n",
       "    }\n",
       "\n",
       "    .dataframe thead th {\n",
       "        text-align: right;\n",
       "    }\n",
       "</style>\n",
       "<table border=\"1\" class=\"dataframe\">\n",
       "  <thead>\n",
       "    <tr style=\"text-align: right;\">\n",
       "      <th></th>\n",
       "      <th>name</th>\n",
       "      <th>platform</th>\n",
       "      <th>year_of_release</th>\n",
       "      <th>genre</th>\n",
       "      <th>na_sales</th>\n",
       "      <th>eu_sales</th>\n",
       "      <th>jp_sales</th>\n",
       "      <th>other_sales</th>\n",
       "      <th>critic_score</th>\n",
       "      <th>user_score</th>\n",
       "      <th>rating</th>\n",
       "    </tr>\n",
       "  </thead>\n",
       "  <tbody>\n",
       "  </tbody>\n",
       "</table>\n",
       "</div>"
      ],
      "text/plain": [
       "Empty DataFrame\n",
       "Columns: [name, platform, year_of_release, genre, na_sales, eu_sales, jp_sales, other_sales, critic_score, user_score, rating]\n",
       "Index: []"
      ]
     },
     "metadata": {},
     "output_type": "display_data"
    }
   ],
   "source": [
    "# Заменим значение tbd на пропуск\n",
    "\n",
    "data = data.replace ({'user_score':{'tbd':'Nan'}})\n",
    "display (data[data['user_score']=='tbd'])"
   ]
  },
  {
   "cell_type": "markdown",
   "metadata": {},
   "source": [
    "После преобразования можно изменить тип данных в этом столбце на float:"
   ]
  },
  {
   "cell_type": "code",
   "execution_count": 142,
   "metadata": {},
   "outputs": [],
   "source": [
    "# Изменим тип данных в столбце user_score на float:\n",
    "\n",
    "data['user_score'] = pd.to_numeric(data['user_score'], errors='coerce')\n",
    "data['user_score'] = data['user_score'].replace('tbd', np.nan)"
   ]
  },
  {
   "cell_type": "markdown",
   "metadata": {},
   "source": [
    "### Суммарные продажи по всем регионам"
   ]
  },
  {
   "cell_type": "code",
   "execution_count": 143,
   "metadata": {},
   "outputs": [
    {
     "data": {
      "text/html": [
       "<div>\n",
       "<style scoped>\n",
       "    .dataframe tbody tr th:only-of-type {\n",
       "        vertical-align: middle;\n",
       "    }\n",
       "\n",
       "    .dataframe tbody tr th {\n",
       "        vertical-align: top;\n",
       "    }\n",
       "\n",
       "    .dataframe thead th {\n",
       "        text-align: right;\n",
       "    }\n",
       "</style>\n",
       "<table border=\"1\" class=\"dataframe\">\n",
       "  <thead>\n",
       "    <tr style=\"text-align: right;\">\n",
       "      <th></th>\n",
       "      <th>name</th>\n",
       "      <th>platform</th>\n",
       "      <th>year_of_release</th>\n",
       "      <th>genre</th>\n",
       "      <th>na_sales</th>\n",
       "      <th>eu_sales</th>\n",
       "      <th>jp_sales</th>\n",
       "      <th>other_sales</th>\n",
       "      <th>critic_score</th>\n",
       "      <th>user_score</th>\n",
       "      <th>rating</th>\n",
       "      <th>total_sales</th>\n",
       "    </tr>\n",
       "  </thead>\n",
       "  <tbody>\n",
       "    <tr>\n",
       "      <th>0</th>\n",
       "      <td>Wii Sports</td>\n",
       "      <td>Wii</td>\n",
       "      <td>2006.0</td>\n",
       "      <td>Sports</td>\n",
       "      <td>41.36</td>\n",
       "      <td>28.96</td>\n",
       "      <td>3.77</td>\n",
       "      <td>8.45</td>\n",
       "      <td>76.0</td>\n",
       "      <td>8.0</td>\n",
       "      <td>E</td>\n",
       "      <td>82.54</td>\n",
       "    </tr>\n",
       "    <tr>\n",
       "      <th>1</th>\n",
       "      <td>Super Mario Bros.</td>\n",
       "      <td>NES</td>\n",
       "      <td>1985.0</td>\n",
       "      <td>Platform</td>\n",
       "      <td>29.08</td>\n",
       "      <td>3.58</td>\n",
       "      <td>6.81</td>\n",
       "      <td>0.77</td>\n",
       "      <td>NaN</td>\n",
       "      <td>NaN</td>\n",
       "      <td>unknown</td>\n",
       "      <td>40.24</td>\n",
       "    </tr>\n",
       "    <tr>\n",
       "      <th>2</th>\n",
       "      <td>Mario Kart Wii</td>\n",
       "      <td>Wii</td>\n",
       "      <td>2008.0</td>\n",
       "      <td>Racing</td>\n",
       "      <td>15.68</td>\n",
       "      <td>12.76</td>\n",
       "      <td>3.79</td>\n",
       "      <td>3.29</td>\n",
       "      <td>82.0</td>\n",
       "      <td>8.3</td>\n",
       "      <td>E</td>\n",
       "      <td>35.52</td>\n",
       "    </tr>\n",
       "    <tr>\n",
       "      <th>3</th>\n",
       "      <td>Wii Sports Resort</td>\n",
       "      <td>Wii</td>\n",
       "      <td>2009.0</td>\n",
       "      <td>Sports</td>\n",
       "      <td>15.61</td>\n",
       "      <td>10.93</td>\n",
       "      <td>3.28</td>\n",
       "      <td>2.95</td>\n",
       "      <td>80.0</td>\n",
       "      <td>8.0</td>\n",
       "      <td>E</td>\n",
       "      <td>32.77</td>\n",
       "    </tr>\n",
       "    <tr>\n",
       "      <th>4</th>\n",
       "      <td>Pokemon Red/Pokemon Blue</td>\n",
       "      <td>GB</td>\n",
       "      <td>1996.0</td>\n",
       "      <td>Role-Playing</td>\n",
       "      <td>11.27</td>\n",
       "      <td>8.89</td>\n",
       "      <td>10.22</td>\n",
       "      <td>1.00</td>\n",
       "      <td>NaN</td>\n",
       "      <td>NaN</td>\n",
       "      <td>unknown</td>\n",
       "      <td>31.38</td>\n",
       "    </tr>\n",
       "  </tbody>\n",
       "</table>\n",
       "</div>"
      ],
      "text/plain": [
       "                       name platform  year_of_release         genre  na_sales  \\\n",
       "0                Wii Sports      Wii           2006.0        Sports     41.36   \n",
       "1         Super Mario Bros.      NES           1985.0      Platform     29.08   \n",
       "2            Mario Kart Wii      Wii           2008.0        Racing     15.68   \n",
       "3         Wii Sports Resort      Wii           2009.0        Sports     15.61   \n",
       "4  Pokemon Red/Pokemon Blue       GB           1996.0  Role-Playing     11.27   \n",
       "\n",
       "   eu_sales  jp_sales  other_sales  critic_score  user_score   rating  \\\n",
       "0     28.96      3.77         8.45          76.0         8.0        E   \n",
       "1      3.58      6.81         0.77           NaN         NaN  unknown   \n",
       "2     12.76      3.79         3.29          82.0         8.3        E   \n",
       "3     10.93      3.28         2.95          80.0         8.0        E   \n",
       "4      8.89     10.22         1.00           NaN         NaN  unknown   \n",
       "\n",
       "   total_sales  \n",
       "0        82.54  \n",
       "1        40.24  \n",
       "2        35.52  \n",
       "3        32.77  \n",
       "4        31.38  "
      ]
     },
     "metadata": {},
     "output_type": "display_data"
    }
   ],
   "source": [
    "# Добавим столбец total_sales с информацией о суммарных продажах во всех регионах:\n",
    "\n",
    "data['total_sales'] = data['na_sales'] + data['eu_sales'] + data ['jp_sales'] + data ['other_sales']\n",
    "display (data.head())"
   ]
  },
  {
   "cell_type": "markdown",
   "metadata": {},
   "source": [
    "## **Проведите исследовательский анализ данных**"
   ]
  },
  {
   "cell_type": "markdown",
   "metadata": {},
   "source": [
    "### Количество игр в различные годы"
   ]
  },
  {
   "cell_type": "code",
   "execution_count": 144,
   "metadata": {
    "scrolled": true
   },
   "outputs": [
    {
     "data": {
      "text/plain": [
       "2008.0    1427\n",
       "2009.0    1426\n",
       "2010.0    1255\n",
       "2007.0    1197\n",
       "2011.0    1136\n",
       "2006.0    1006\n",
       "2005.0     939\n",
       "2002.0     829\n",
       "2003.0     775\n",
       "2004.0     762\n",
       "2012.0     653\n",
       "2015.0     606\n",
       "2014.0     581\n",
       "2013.0     544\n",
       "2016.0     502\n",
       "2001.0     482\n",
       "1998.0     379\n",
       "2000.0     350\n",
       "1999.0     338\n",
       "1997.0     289\n",
       "1996.0     263\n",
       "1995.0     219\n",
       "1994.0     121\n",
       "1993.0      62\n",
       "1981.0      46\n",
       "1992.0      43\n",
       "1991.0      41\n",
       "1982.0      36\n",
       "1986.0      21\n",
       "1989.0      17\n",
       "1983.0      17\n",
       "1987.0      16\n",
       "1990.0      16\n",
       "1988.0      15\n",
       "1984.0      14\n",
       "1985.0      14\n",
       "1980.0       9\n",
       "Name: year_of_release, dtype: int64"
      ]
     },
     "execution_count": 144,
     "metadata": {},
     "output_type": "execute_result"
    },
    {
     "data": {
      "image/png": "[encoded data removed]",
      "text/plain": [
       "<Figure size 432x288 with 1 Axes>"
      ]
     },
     "metadata": {
      "needs_background": "light"
     },
     "output_type": "display_data"
    }
   ],
   "source": [
    "# Построим гистограмму и отразим количество выпускаемых игр в каждый год:\n",
    "\n",
    "data['year_of_release'].hist(bins = 100)\n",
    "data['year_of_release'].value_counts()"
   ]
  },
  {
   "cell_type": "markdown",
   "metadata": {},
   "source": [
    "Мы видим, как число выпускаемых игр изменялось с течением времени. Первый скачок произошел в середине 1990-х гг (число выпускаемых игр увеличилось вдвое), затем наблюдался планомерный рост до конца десятилетия, а в начале 2000-х случилось еще одно удвоение показателя. Пикового значения число выпускаемых игр достигло в 2008-2009 гг, а затем стало снижаться и достигло в 2016 году значений 2001 года. \n"
   ]
  },
  {
   "cell_type": "markdown",
   "metadata": {},
   "source": [
    "### Динамика продаж на различных платформах и срок жизни платформ:"
   ]
  },
  {
   "cell_type": "code",
   "execution_count": 98,
   "metadata": {},
   "outputs": [
    {
     "data": {
      "text/plain": [
       "platform\n",
       "PCFX       0.03\n",
       "GG         0.04\n",
       "3DO        0.10\n",
       "TG16       0.16\n",
       "WS         1.42\n",
       "NG         1.44\n",
       "SCD        1.86\n",
       "DC        15.95\n",
       "GEN       30.77\n",
       "SAT       33.59\n",
       "PSV       54.07\n",
       "WiiU      82.19\n",
       "2600      96.98\n",
       "XOne     159.32\n",
       "GC       198.93\n",
       "SNES     200.04\n",
       "N64      218.68\n",
       "NES      251.05\n",
       "GB       255.46\n",
       "XB       257.74\n",
       "3DS      259.00\n",
       "PC       259.52\n",
       "PSP      294.05\n",
       "PS4      314.14\n",
       "GBA      317.85\n",
       "PS       730.86\n",
       "DS       806.12\n",
       "Wii      907.51\n",
       "PS3      939.65\n",
       "X360     971.42\n",
       "PS2     1255.77\n",
       "Name: total_sales, dtype: float64"
      ]
     },
     "execution_count": 98,
     "metadata": {},
     "output_type": "execute_result"
    }
   ],
   "source": [
    "# Выведем на экран общее число продаж на каждой из платформ за все годы:\n",
    "\n",
    "data.groupby ('platform')['total_sales'].sum().sort_values()"
   ]
  },
  {
   "cell_type": "markdown",
   "metadata": {},
   "source": [
    "Мы видим, что с большим отрывом лидируют следующие платформы: PS, DS, Wii, PS3, X360 и PS2. Посмотрим на динамику продаж на этих платформах по годам"
   ]
  },
  {
   "cell_type": "code",
   "execution_count": 99,
   "metadata": {
    "scrolled": true
   },
   "outputs": [
    {
     "data": {
      "text/html": [
       "<div>\n",
       "<style scoped>\n",
       "    .dataframe tbody tr th:only-of-type {\n",
       "        vertical-align: middle;\n",
       "    }\n",
       "\n",
       "    .dataframe tbody tr th {\n",
       "        vertical-align: top;\n",
       "    }\n",
       "\n",
       "    .dataframe thead th {\n",
       "        text-align: right;\n",
       "    }\n",
       "</style>\n",
       "<table border=\"1\" class=\"dataframe\">\n",
       "  <thead>\n",
       "    <tr style=\"text-align: right;\">\n",
       "      <th>platform</th>\n",
       "      <th>DS</th>\n",
       "      <th>PS</th>\n",
       "      <th>PS2</th>\n",
       "      <th>PS3</th>\n",
       "      <th>Wii</th>\n",
       "      <th>X360</th>\n",
       "    </tr>\n",
       "    <tr>\n",
       "      <th>year_of_release</th>\n",
       "      <th></th>\n",
       "      <th></th>\n",
       "      <th></th>\n",
       "      <th></th>\n",
       "      <th></th>\n",
       "      <th></th>\n",
       "    </tr>\n",
       "  </thead>\n",
       "  <tbody>\n",
       "    <tr>\n",
       "      <th>1985.0</th>\n",
       "      <td>0.02</td>\n",
       "      <td>NaN</td>\n",
       "      <td>NaN</td>\n",
       "      <td>NaN</td>\n",
       "      <td>NaN</td>\n",
       "      <td>NaN</td>\n",
       "    </tr>\n",
       "    <tr>\n",
       "      <th>1994.0</th>\n",
       "      <td>NaN</td>\n",
       "      <td>6.03</td>\n",
       "      <td>NaN</td>\n",
       "      <td>NaN</td>\n",
       "      <td>NaN</td>\n",
       "      <td>NaN</td>\n",
       "    </tr>\n",
       "    <tr>\n",
       "      <th>1995.0</th>\n",
       "      <td>NaN</td>\n",
       "      <td>35.96</td>\n",
       "      <td>NaN</td>\n",
       "      <td>NaN</td>\n",
       "      <td>NaN</td>\n",
       "      <td>NaN</td>\n",
       "    </tr>\n",
       "    <tr>\n",
       "      <th>1996.0</th>\n",
       "      <td>NaN</td>\n",
       "      <td>94.70</td>\n",
       "      <td>NaN</td>\n",
       "      <td>NaN</td>\n",
       "      <td>NaN</td>\n",
       "      <td>NaN</td>\n",
       "    </tr>\n",
       "    <tr>\n",
       "      <th>1997.0</th>\n",
       "      <td>NaN</td>\n",
       "      <td>136.17</td>\n",
       "      <td>NaN</td>\n",
       "      <td>NaN</td>\n",
       "      <td>NaN</td>\n",
       "      <td>NaN</td>\n",
       "    </tr>\n",
       "    <tr>\n",
       "      <th>1998.0</th>\n",
       "      <td>NaN</td>\n",
       "      <td>169.49</td>\n",
       "      <td>NaN</td>\n",
       "      <td>NaN</td>\n",
       "      <td>NaN</td>\n",
       "      <td>NaN</td>\n",
       "    </tr>\n",
       "    <tr>\n",
       "      <th>1999.0</th>\n",
       "      <td>NaN</td>\n",
       "      <td>144.53</td>\n",
       "      <td>NaN</td>\n",
       "      <td>NaN</td>\n",
       "      <td>NaN</td>\n",
       "      <td>NaN</td>\n",
       "    </tr>\n",
       "    <tr>\n",
       "      <th>2000.0</th>\n",
       "      <td>NaN</td>\n",
       "      <td>96.37</td>\n",
       "      <td>39.17</td>\n",
       "      <td>NaN</td>\n",
       "      <td>NaN</td>\n",
       "      <td>NaN</td>\n",
       "    </tr>\n",
       "    <tr>\n",
       "      <th>2001.0</th>\n",
       "      <td>NaN</td>\n",
       "      <td>35.59</td>\n",
       "      <td>166.43</td>\n",
       "      <td>NaN</td>\n",
       "      <td>NaN</td>\n",
       "      <td>NaN</td>\n",
       "    </tr>\n",
       "    <tr>\n",
       "      <th>2002.0</th>\n",
       "      <td>NaN</td>\n",
       "      <td>6.67</td>\n",
       "      <td>205.38</td>\n",
       "      <td>NaN</td>\n",
       "      <td>NaN</td>\n",
       "      <td>NaN</td>\n",
       "    </tr>\n",
       "    <tr>\n",
       "      <th>2003.0</th>\n",
       "      <td>NaN</td>\n",
       "      <td>2.07</td>\n",
       "      <td>184.31</td>\n",
       "      <td>NaN</td>\n",
       "      <td>NaN</td>\n",
       "      <td>NaN</td>\n",
       "    </tr>\n",
       "    <tr>\n",
       "      <th>2004.0</th>\n",
       "      <td>17.27</td>\n",
       "      <td>NaN</td>\n",
       "      <td>211.81</td>\n",
       "      <td>NaN</td>\n",
       "      <td>NaN</td>\n",
       "      <td>NaN</td>\n",
       "    </tr>\n",
       "    <tr>\n",
       "      <th>2005.0</th>\n",
       "      <td>130.14</td>\n",
       "      <td>NaN</td>\n",
       "      <td>160.66</td>\n",
       "      <td>NaN</td>\n",
       "      <td>NaN</td>\n",
       "      <td>8.25</td>\n",
       "    </tr>\n",
       "    <tr>\n",
       "      <th>2006.0</th>\n",
       "      <td>119.81</td>\n",
       "      <td>NaN</td>\n",
       "      <td>103.42</td>\n",
       "      <td>20.96</td>\n",
       "      <td>137.15</td>\n",
       "      <td>51.62</td>\n",
       "    </tr>\n",
       "    <tr>\n",
       "      <th>2007.0</th>\n",
       "      <td>146.94</td>\n",
       "      <td>NaN</td>\n",
       "      <td>75.99</td>\n",
       "      <td>73.19</td>\n",
       "      <td>152.77</td>\n",
       "      <td>95.41</td>\n",
       "    </tr>\n",
       "    <tr>\n",
       "      <th>2008.0</th>\n",
       "      <td>145.31</td>\n",
       "      <td>NaN</td>\n",
       "      <td>53.90</td>\n",
       "      <td>118.52</td>\n",
       "      <td>171.32</td>\n",
       "      <td>135.26</td>\n",
       "    </tr>\n",
       "    <tr>\n",
       "      <th>2009.0</th>\n",
       "      <td>119.54</td>\n",
       "      <td>NaN</td>\n",
       "      <td>26.40</td>\n",
       "      <td>130.93</td>\n",
       "      <td>206.97</td>\n",
       "      <td>120.29</td>\n",
       "    </tr>\n",
       "    <tr>\n",
       "      <th>2010.0</th>\n",
       "      <td>85.02</td>\n",
       "      <td>NaN</td>\n",
       "      <td>5.64</td>\n",
       "      <td>142.17</td>\n",
       "      <td>127.95</td>\n",
       "      <td>170.03</td>\n",
       "    </tr>\n",
       "    <tr>\n",
       "      <th>2011.0</th>\n",
       "      <td>26.18</td>\n",
       "      <td>NaN</td>\n",
       "      <td>0.45</td>\n",
       "      <td>156.78</td>\n",
       "      <td>59.65</td>\n",
       "      <td>143.84</td>\n",
       "    </tr>\n",
       "    <tr>\n",
       "      <th>2012.0</th>\n",
       "      <td>11.01</td>\n",
       "      <td>NaN</td>\n",
       "      <td>NaN</td>\n",
       "      <td>107.36</td>\n",
       "      <td>21.71</td>\n",
       "      <td>99.74</td>\n",
       "    </tr>\n",
       "    <tr>\n",
       "      <th>2013.0</th>\n",
       "      <td>1.54</td>\n",
       "      <td>NaN</td>\n",
       "      <td>NaN</td>\n",
       "      <td>113.25</td>\n",
       "      <td>8.59</td>\n",
       "      <td>88.58</td>\n",
       "    </tr>\n",
       "    <tr>\n",
       "      <th>2014.0</th>\n",
       "      <td>NaN</td>\n",
       "      <td>NaN</td>\n",
       "      <td>NaN</td>\n",
       "      <td>47.76</td>\n",
       "      <td>3.75</td>\n",
       "      <td>34.74</td>\n",
       "    </tr>\n",
       "    <tr>\n",
       "      <th>2015.0</th>\n",
       "      <td>NaN</td>\n",
       "      <td>NaN</td>\n",
       "      <td>NaN</td>\n",
       "      <td>16.82</td>\n",
       "      <td>1.14</td>\n",
       "      <td>11.96</td>\n",
       "    </tr>\n",
       "    <tr>\n",
       "      <th>2016.0</th>\n",
       "      <td>NaN</td>\n",
       "      <td>NaN</td>\n",
       "      <td>NaN</td>\n",
       "      <td>3.60</td>\n",
       "      <td>0.18</td>\n",
       "      <td>1.52</td>\n",
       "    </tr>\n",
       "  </tbody>\n",
       "</table>\n",
       "</div>"
      ],
      "text/plain": [
       "platform             DS      PS     PS2     PS3     Wii    X360\n",
       "year_of_release                                                \n",
       "1985.0             0.02     NaN     NaN     NaN     NaN     NaN\n",
       "1994.0              NaN    6.03     NaN     NaN     NaN     NaN\n",
       "1995.0              NaN   35.96     NaN     NaN     NaN     NaN\n",
       "1996.0              NaN   94.70     NaN     NaN     NaN     NaN\n",
       "1997.0              NaN  136.17     NaN     NaN     NaN     NaN\n",
       "1998.0              NaN  169.49     NaN     NaN     NaN     NaN\n",
       "1999.0              NaN  144.53     NaN     NaN     NaN     NaN\n",
       "2000.0              NaN   96.37   39.17     NaN     NaN     NaN\n",
       "2001.0              NaN   35.59  166.43     NaN     NaN     NaN\n",
       "2002.0              NaN    6.67  205.38     NaN     NaN     NaN\n",
       "2003.0              NaN    2.07  184.31     NaN     NaN     NaN\n",
       "2004.0            17.27     NaN  211.81     NaN     NaN     NaN\n",
       "2005.0           130.14     NaN  160.66     NaN     NaN    8.25\n",
       "2006.0           119.81     NaN  103.42   20.96  137.15   51.62\n",
       "2007.0           146.94     NaN   75.99   73.19  152.77   95.41\n",
       "2008.0           145.31     NaN   53.90  118.52  171.32  135.26\n",
       "2009.0           119.54     NaN   26.40  130.93  206.97  120.29\n",
       "2010.0            85.02     NaN    5.64  142.17  127.95  170.03\n",
       "2011.0            26.18     NaN    0.45  156.78   59.65  143.84\n",
       "2012.0            11.01     NaN     NaN  107.36   21.71   99.74\n",
       "2013.0             1.54     NaN     NaN  113.25    8.59   88.58\n",
       "2014.0              NaN     NaN     NaN   47.76    3.75   34.74\n",
       "2015.0              NaN     NaN     NaN   16.82    1.14   11.96\n",
       "2016.0              NaN     NaN     NaN    3.60    0.18    1.52"
      ]
     },
     "metadata": {},
     "output_type": "display_data"
    }
   ],
   "source": [
    "# Создадим срез из исходного датасета с информацией о лидирующих платформах:\n",
    "\n",
    "top_platforms = data.query ('platform == \"PS\" or platform == \"DS\" or platform == \"Wii\" or platform == \"PS3\" or platform == \"X360\" or platform == \"PS2\"')\n",
    "\n",
    "# Построим распределение по годам для этих платформ:\n",
    "\n",
    "top_per_year = top_platforms.pivot_table (index = 'year_of_release', columns = 'platform', values = 'total_sales', aggfunc = 'sum')\n",
    "display (top_per_year)\n"
   ]
  },
  {
   "cell_type": "code",
   "execution_count": 100,
   "metadata": {},
   "outputs": [
    {
     "data": {
      "text/plain": [
       "platform\n",
       "DS      11\n",
       "PS      10\n",
       "PS2     12\n",
       "PS3     11\n",
       "Wii     11\n",
       "X360    12\n",
       "dtype: int64"
      ]
     },
     "metadata": {},
     "output_type": "display_data"
    }
   ],
   "source": [
    "# Посчитаем общее число ненулевых значений для каждой платформы:\n",
    "\n",
    "display (len(top_per_year) - top_per_year.isna().sum())"
   ]
  },
  {
   "cell_type": "markdown",
   "metadata": {},
   "source": [
    "Таким образом на примере лидирующих по продажам платформ мы видим, что срок жизни одной платформы составляет **от 10 до 12 лет**."
   ]
  },
  {
   "cell_type": "markdown",
   "metadata": {},
   "source": [
    "### Актуальный период"
   ]
  },
  {
   "cell_type": "markdown",
   "metadata": {},
   "source": [
    "Для целей анализа необходимо учитывать данные за последние 3 года, поскольку более ранние данные могут оказаться нерелевантными к текущим реалиям. Поэтому в качестве актуального периода будем рассматривать период 2014-2016 гг."
   ]
  },
  {
   "cell_type": "code",
   "execution_count": 101,
   "metadata": {},
   "outputs": [
    {
     "name": "stdout",
     "output_type": "stream",
     "text": [
      "<class 'pandas.core.frame.DataFrame'>\n",
      "Int64Index: 1689 entries, 31 to 16714\n",
      "Data columns (total 12 columns):\n",
      " #   Column           Non-Null Count  Dtype  \n",
      "---  ------           --------------  -----  \n",
      " 0   name             1689 non-null   object \n",
      " 1   platform         1689 non-null   object \n",
      " 2   year_of_release  1689 non-null   float64\n",
      " 3   genre            1689 non-null   object \n",
      " 4   na_sales         1689 non-null   float64\n",
      " 5   eu_sales         1689 non-null   float64\n",
      " 6   jp_sales         1689 non-null   float64\n",
      " 7   other_sales      1689 non-null   float64\n",
      " 8   critic_score     718 non-null    float64\n",
      " 9   user_score       888 non-null    float64\n",
      " 10  rating           1689 non-null   object \n",
      " 11  total_sales      1689 non-null   float64\n",
      "dtypes: float64(8), object(4)\n",
      "memory usage: 171.5+ KB\n",
      "None\n"
     ]
    }
   ],
   "source": [
    "data = data.query('year_of_release >= 2014')\n",
    "print (data.info())"
   ]
  },
  {
   "cell_type": "code",
   "execution_count": 102,
   "metadata": {},
   "outputs": [
    {
     "data": {
      "text/plain": [
       "array(['PS4', '3DS', 'XOne', 'WiiU', 'PS3', 'X360', 'PC', 'Wii', 'PSV',\n",
       "       'PSP'], dtype=object)"
      ]
     },
     "execution_count": 102,
     "metadata": {},
     "output_type": "execute_result"
    }
   ],
   "source": [
    "# Выведем на экран список всех платформ из датасета:\n",
    "\n",
    "data['platform'].unique()"
   ]
  },
  {
   "cell_type": "code",
   "execution_count": 103,
   "metadata": {},
   "outputs": [
    {
     "data": {
      "text/plain": [
       "platform\n",
       "PSP       0.36\n",
       "Wii       5.07\n",
       "PSV      22.40\n",
       "PC       27.05\n",
       "WiiU     42.98\n",
       "X360     48.22\n",
       "PS3      68.18\n",
       "3DS      86.68\n",
       "XOne    140.36\n",
       "PS4     288.15\n",
       "Name: total_sales, dtype: float64"
      ]
     },
     "execution_count": 103,
     "metadata": {},
     "output_type": "execute_result"
    }
   ],
   "source": [
    "# Посчитаем общее количество продаж по каждой из платформ за рассматриваемый период:\n",
    "\n",
    "data.groupby ('platform')['total_sales'].sum().sort_values()"
   ]
  },
  {
   "cell_type": "markdown",
   "metadata": {},
   "source": [
    "Мы видим, что наибольшее количество продаж было на PS4 (свыше 280 млн копий), а наименьшее - у PSP (около 360 тыс. копий). Однако надо учитывать, что это данные за весь рассматриваемый период в совокупности и на протяжении 5 лет динамика могла быть различной."
   ]
  },
  {
   "cell_type": "code",
   "execution_count": 104,
   "metadata": {},
   "outputs": [
    {
     "data": {
      "text/html": [
       "<div>\n",
       "<style scoped>\n",
       "    .dataframe tbody tr th:only-of-type {\n",
       "        vertical-align: middle;\n",
       "    }\n",
       "\n",
       "    .dataframe tbody tr th {\n",
       "        vertical-align: top;\n",
       "    }\n",
       "\n",
       "    .dataframe thead th {\n",
       "        text-align: right;\n",
       "    }\n",
       "</style>\n",
       "<table border=\"1\" class=\"dataframe\">\n",
       "  <thead>\n",
       "    <tr style=\"text-align: right;\">\n",
       "      <th>year_of_release</th>\n",
       "      <th>2014.0</th>\n",
       "      <th>2015.0</th>\n",
       "      <th>2016.0</th>\n",
       "    </tr>\n",
       "    <tr>\n",
       "      <th>platform</th>\n",
       "      <th></th>\n",
       "      <th></th>\n",
       "      <th></th>\n",
       "    </tr>\n",
       "  </thead>\n",
       "  <tbody>\n",
       "    <tr>\n",
       "      <th>3DS</th>\n",
       "      <td>43.76</td>\n",
       "      <td>27.78</td>\n",
       "      <td>15.14</td>\n",
       "    </tr>\n",
       "    <tr>\n",
       "      <th>PC</th>\n",
       "      <td>13.28</td>\n",
       "      <td>8.52</td>\n",
       "      <td>5.25</td>\n",
       "    </tr>\n",
       "    <tr>\n",
       "      <th>PS3</th>\n",
       "      <td>47.76</td>\n",
       "      <td>16.82</td>\n",
       "      <td>3.60</td>\n",
       "    </tr>\n",
       "    <tr>\n",
       "      <th>PS4</th>\n",
       "      <td>100.00</td>\n",
       "      <td>118.90</td>\n",
       "      <td>69.25</td>\n",
       "    </tr>\n",
       "    <tr>\n",
       "      <th>PSP</th>\n",
       "      <td>0.24</td>\n",
       "      <td>0.12</td>\n",
       "      <td>NaN</td>\n",
       "    </tr>\n",
       "    <tr>\n",
       "      <th>PSV</th>\n",
       "      <td>11.90</td>\n",
       "      <td>6.25</td>\n",
       "      <td>4.25</td>\n",
       "    </tr>\n",
       "    <tr>\n",
       "      <th>Wii</th>\n",
       "      <td>3.75</td>\n",
       "      <td>1.14</td>\n",
       "      <td>0.18</td>\n",
       "    </tr>\n",
       "    <tr>\n",
       "      <th>WiiU</th>\n",
       "      <td>22.03</td>\n",
       "      <td>16.35</td>\n",
       "      <td>4.60</td>\n",
       "    </tr>\n",
       "    <tr>\n",
       "      <th>X360</th>\n",
       "      <td>34.74</td>\n",
       "      <td>11.96</td>\n",
       "      <td>1.52</td>\n",
       "    </tr>\n",
       "    <tr>\n",
       "      <th>XOne</th>\n",
       "      <td>54.07</td>\n",
       "      <td>60.14</td>\n",
       "      <td>26.15</td>\n",
       "    </tr>\n",
       "  </tbody>\n",
       "</table>\n",
       "</div>"
      ],
      "text/plain": [
       "year_of_release  2014.0  2015.0  2016.0\n",
       "platform                               \n",
       "3DS               43.76   27.78   15.14\n",
       "PC                13.28    8.52    5.25\n",
       "PS3               47.76   16.82    3.60\n",
       "PS4              100.00  118.90   69.25\n",
       "PSP                0.24    0.12     NaN\n",
       "PSV               11.90    6.25    4.25\n",
       "Wii                3.75    1.14    0.18\n",
       "WiiU              22.03   16.35    4.60\n",
       "X360              34.74   11.96    1.52\n",
       "XOne              54.07   60.14   26.15"
      ]
     },
     "metadata": {},
     "output_type": "display_data"
    }
   ],
   "source": [
    "# Построим сводную таблицу с разбивкой по годам для продаж на каждой из платформ:\n",
    "\n",
    "sales_per_year = data.pivot_table (index = 'platform', columns = 'year_of_release', values = 'total_sales', aggfunc = 'sum')\n",
    "display (sales_per_year)"
   ]
  },
  {
   "cell_type": "code",
   "execution_count": 146,
   "metadata": {
    "scrolled": false
   },
   "outputs": [
    {
     "data": {
      "image/png": "[encoded data removed]",
      "text/plain": [
       "<Figure size 1440x2160 with 12 Axes>"
      ]
     },
     "metadata": {
      "needs_background": "light"
     },
     "output_type": "display_data"
    }
   ],
   "source": [
    "# Постройте график «ящик с усами» по глобальным продажам игр в разбивке по платформам. \n",
    "\n",
    "sales_per_year.groupby ('platform').boxplot(figsize = (20,30));"
   ]
  },
  {
   "cell_type": "markdown",
   "metadata": {},
   "source": [
    "Теперь перед нами данные о динамике продаж для каждой платформы по годам. Так, мы видим взрывной рост продаж PS4 и XOne между 2013 и 2014 годами (в 4 и 3 раза соответственно), но основная тенденция - снижение количества продаж - актуальна для всех платформ без исключения.\n",
    "\n",
    "Тем не менее можно выделить три лидирующие платформы: PS4, XOne и 3DS."
   ]
  },
  {
   "cell_type": "markdown",
   "metadata": {},
   "source": [
    "### Влияние на продажи отзывов пользователей и критиков"
   ]
  },
  {
   "cell_type": "markdown",
   "metadata": {},
   "source": [
    "Сначала проверим взаимосвязь продаж и отзывов критиков для самой популярной платформы:"
   ]
  },
  {
   "cell_type": "code",
   "execution_count": 106,
   "metadata": {},
   "outputs": [
    {
     "data": {
      "image/png": "[encoded data removed]",
      "text/plain": [
       "<Figure size 432x288 with 1 Axes>"
      ]
     },
     "metadata": {
      "needs_background": "light"
     },
     "output_type": "display_data"
    }
   ],
   "source": [
    "# Построим диаграмму рассеяния для продаж игр на платформе PS4 и отзывов критиков:\n",
    "\n",
    "data [data['platform']=='PS4'].plot(x='critic_score', y='total_sales', kind='scatter');"
   ]
  },
  {
   "cell_type": "code",
   "execution_count": 107,
   "metadata": {},
   "outputs": [
    {
     "data": {
      "text/plain": [
       "0.40266141068104083"
      ]
     },
     "execution_count": 107,
     "metadata": {},
     "output_type": "execute_result"
    }
   ],
   "source": [
    "# Посчитаем корреляцию между отзывами критиков и продажами для этой платформы:\n",
    "\n",
    "data [data['platform']=='PS4']['critic_score'].corr (data [data['platform']=='PS4']['total_sales'])"
   ]
  },
  {
   "cell_type": "markdown",
   "metadata": {},
   "source": [
    "Мы видим, что перед нами слабая положительная корреляция, то есть с ростом оценки других пользователей растут продажи игры (хоть и незначительно). В целом наверное это логично: положительные отзывы на игру могут способствовать принятию решения о ее покупке.\n",
    "\n",
    "Теперь посмотрим на зависимость продаж от отзывов пользователей:"
   ]
  },
  {
   "cell_type": "code",
   "execution_count": 108,
   "metadata": {},
   "outputs": [
    {
     "data": {
      "image/png": "[encoded data removed]",
      "text/plain": [
       "<Figure size 432x288 with 1 Axes>"
      ]
     },
     "metadata": {
      "needs_background": "light"
     },
     "output_type": "display_data"
    }
   ],
   "source": [
    "# Построим диаграмму рассеяния для продаж игр на платформе PS4 и отзывов пользователей:\n",
    "\n",
    "data [data['platform']=='PS4'].plot(x='user_score', y='total_sales', kind='scatter');"
   ]
  },
  {
   "cell_type": "code",
   "execution_count": 109,
   "metadata": {},
   "outputs": [
    {
     "data": {
      "text/plain": [
       "-0.040131589472697356"
      ]
     },
     "execution_count": 109,
     "metadata": {},
     "output_type": "execute_result"
    }
   ],
   "source": [
    "# Посчитаем корреляцию между отзывами пользователей и продажами для этой платформы:\n",
    "\n",
    "data [data['platform']=='PS4']['user_score'].corr (data [data['platform']=='PS4']['total_sales'])"
   ]
  },
  {
   "cell_type": "markdown",
   "metadata": {},
   "source": [
    "А здесь корреляции практически нет.\n",
    "\n",
    "Теперь проделаем то же самое для других платформ:"
   ]
  },
  {
   "cell_type": "code",
   "execution_count": 110,
   "metadata": {},
   "outputs": [
    {
     "name": "stdout",
     "output_type": "stream",
     "text": [
      "['3DS' 'XOne' 'WiiU' 'PS3' 'X360' 'PC' 'Wii' 'PSV' 'PSP']\n"
     ]
    }
   ],
   "source": [
    "# Создадим переменную other_platforms и поместим в нее список с названиями остальных платформ:\n",
    "\n",
    "other_platforms = data[data['platform']!= 'PS4']['platform'].unique()\n",
    "print (other_platforms)"
   ]
  },
  {
   "cell_type": "code",
   "execution_count": 111,
   "metadata": {},
   "outputs": [
    {
     "name": "stdout",
     "output_type": "stream",
     "text": [
      "Корреляция между отзывами критиков и продажами для 3DS : 0.314117492869051\n",
      "Корреляция между отзывами критиков и продажами для XOne : 0.42867694370333226\n",
      "Корреляция между отзывами критиков и продажами для WiiU : 0.370201412480884\n",
      "Корреляция между отзывами критиков и продажами для PS3 : 0.44657460493190704\n",
      "Корреляция между отзывами критиков и продажами для X360 : 0.5257228356581523\n",
      "Корреляция между отзывами критиков и продажами для PC : 0.17463413769350036\n",
      "Корреляция между отзывами критиков и продажами для Wii : nan\n",
      "Корреляция между отзывами критиков и продажами для PSV : 0.04266490657009526\n",
      "Корреляция между отзывами критиков и продажами для PSP : nan\n"
     ]
    },
    {
     "data": {
      "image/png": "[encoded data removed]",
      "text/plain": [
       "<Figure size 432x288 with 1 Axes>"
      ]
     },
     "metadata": {
      "needs_background": "light"
     },
     "output_type": "display_data"
    },
    {
     "data": {
      "image/png": "[encoded data removed]",
      "text/plain": [
       "<Figure size 432x288 with 1 Axes>"
      ]
     },
     "metadata": {
      "needs_background": "light"
     },
     "output_type": "display_data"
    },
    {
     "data": {
      "image/png": "[encoded data removed]",
      "text/plain": [
       "<Figure size 432x288 with 1 Axes>"
      ]
     },
     "metadata": {
      "needs_background": "light"
     },
     "output_type": "display_data"
    },
    {
     "data": {
      "image/png": "[encoded data removed]",
      "text/plain": [
       "<Figure size 432x288 with 1 Axes>"
      ]
     },
     "metadata": {
      "needs_background": "light"
     },
     "output_type": "display_data"
    },
    {
     "data": {
      "image/png": "[encoded data removed]",
      "text/plain": [
       "<Figure size 432x288 with 1 Axes>"
      ]
     },
     "metadata": {
      "needs_background": "light"
     },
     "output_type": "display_data"
    },
    {
     "data": {
      "image/png": "[encoded data removed]",
      "text/plain": [
       "<Figure size 432x288 with 1 Axes>"
      ]
     },
     "metadata": {
      "needs_background": "light"
     },
     "output_type": "display_data"
    },
    {
     "data": {
      "image/png": "[encoded data removed]",
      "text/plain": [
       "<Figure size 432x288 with 1 Axes>"
      ]
     },
     "metadata": {
      "needs_background": "light"
     },
     "output_type": "display_data"
    },
    {
     "data": {
      "image/png": "[encoded data removed]",
      "text/plain": [
       "<Figure size 432x288 with 1 Axes>"
      ]
     },
     "metadata": {
      "needs_background": "light"
     },
     "output_type": "display_data"
    },
    {
     "data": {
      "image/png": "[encoded data removed]",
      "text/plain": [
       "<Figure size 432x288 with 1 Axes>"
      ]
     },
     "metadata": {
      "needs_background": "light"
     },
     "output_type": "display_data"
    }
   ],
   "source": [
    "# Построим графики взаимосвязи отзывов критиков и продажами и посчитаем корреляцию:\n",
    "\n",
    "for item in other_platforms:\n",
    "    data [data['platform']==item].plot(\n",
    "        x='critic_score', y='total_sales', kind='scatter', title = item)\n",
    "    print ('Корреляция между отзывами критиков и продажами для',item, ':', \n",
    "           data [data['platform']==item]['critic_score'].corr (data [data['platform']==item]['total_sales']))"
   ]
  },
  {
   "cell_type": "markdown",
   "metadata": {},
   "source": [
    "**Вывод:** применительно к влиянию отзывов критиков мы видим приблизительно одинаковый коэффициент корреляции Пирсона для разных платформ (около 0,3), что позволяет сделать вывод о том, что в среднем эта взаимосвязь носит слабый характер. Однако есть примеры чуть более сильных (0,5) или более слабых (0.04) взаимосвязей."
   ]
  },
  {
   "cell_type": "code",
   "execution_count": 112,
   "metadata": {
    "scrolled": true
   },
   "outputs": [
    {
     "name": "stdout",
     "output_type": "stream",
     "text": [
      "Корреляция между отзывами критиков и продажами для 3DS : 0.2151932718527028\n",
      "Корреляция между отзывами критиков и продажами для XOne : -0.0703839280647581\n",
      "Корреляция между отзывами критиков и продажами для WiiU : 0.40792645792170773\n",
      "Корреляция между отзывами критиков и продажами для PS3 : -0.16676141347662118\n",
      "Корреляция между отзывами критиков и продажами для X360 : -0.138444570945665\n",
      "Корреляция между отзывами критиков и продажами для PC : -0.07159665703472451\n",
      "Корреляция между отзывами критиков и продажами для Wii : 1.0\n",
      "Корреляция между отзывами критиков и продажами для PSV : -0.16845504978064446\n",
      "Корреляция между отзывами критиков и продажами для PSP : nan\n"
     ]
    },
    {
     "data": {
      "image/png": "[encoded data removed]",
      "text/plain": [
       "<Figure size 432x288 with 1 Axes>"
      ]
     },
     "metadata": {
      "needs_background": "light"
     },
     "output_type": "display_data"
    },
    {
     "data": {
      "image/png": "[encoded data removed]",
      "text/plain": [
       "<Figure size 432x288 with 1 Axes>"
      ]
     },
     "metadata": {
      "needs_background": "light"
     },
     "output_type": "display_data"
    },
    {
     "data": {
      "image/png": "[encoded data removed]",
      "text/plain": [
       "<Figure size 432x288 with 1 Axes>"
      ]
     },
     "metadata": {
      "needs_background": "light"
     },
     "output_type": "display_data"
    },
    {
     "data": {
      "image/png": "[encoded data removed]",
      "text/plain": [
       "<Figure size 432x288 with 1 Axes>"
      ]
     },
     "metadata": {
      "needs_background": "light"
     },
     "output_type": "display_data"
    },
    {
     "data": {
      "image/png": "[encoded data removed]",
      "text/plain": [
       "<Figure size 432x288 with 1 Axes>"
      ]
     },
     "metadata": {
      "needs_background": "light"
     },
     "output_type": "display_data"
    },
    {
     "data": {
      "image/png": "[encoded data removed]",
      "text/plain": [
       "<Figure size 432x288 with 1 Axes>"
      ]
     },
     "metadata": {
      "needs_background": "light"
     },
     "output_type": "display_data"
    },
    {
     "data": {
      "image/png": "[encoded data removed]",
      "text/plain": [
       "<Figure size 432x288 with 1 Axes>"
      ]
     },
     "metadata": {
      "needs_background": "light"
     },
     "output_type": "display_data"
    },
    {
     "data": {
      "image/png": "[encoded data removed]",
      "text/plain": [
       "<Figure size 432x288 with 1 Axes>"
      ]
     },
     "metadata": {
      "needs_background": "light"
     },
     "output_type": "display_data"
    },
    {
     "data": {
      "image/png": "[encoded data removed]",
      "text/plain": [
       "<Figure size 432x288 with 1 Axes>"
      ]
     },
     "metadata": {
      "needs_background": "light"
     },
     "output_type": "display_data"
    }
   ],
   "source": [
    "# Построим графики взаимосвязи отзывов пользователей и продаж и посчитаем корреляцию:\n",
    "\n",
    "for item in other_platforms:\n",
    "    data [data['platform']==item].plot(\n",
    "        x='user_score', y='total_sales', kind='scatter', title = item)\n",
    "    print ('Корреляция между отзывами критиков и продажами для',item, ':', \n",
    "           data [data['platform']==item]['user_score'].corr (data [data['platform']==item]['total_sales']))"
   ]
  },
  {
   "cell_type": "markdown",
   "metadata": {},
   "source": [
    "**Вывод:** что касается взаимосвязи продаж и отзывов пользователей, то здесь ситуация более полярная для различных платформ. Есть как примеры практически отсутствующей взаимосвязи, так и примеры сильной корреляции (например, платформа DS)."
   ]
  },
  {
   "cell_type": "markdown",
   "metadata": {},
   "source": [
    "### Распределение игр по жанрам и прибыльность жанров"
   ]
  },
  {
   "cell_type": "code",
   "execution_count": 113,
   "metadata": {
    "scrolled": true
   },
   "outputs": [
    {
     "data": {
      "text/plain": [
       "Action          619\n",
       "Role-Playing    221\n",
       "Adventure       185\n",
       "Sports          161\n",
       "Shooter         128\n",
       "Misc            113\n",
       "Racing           69\n",
       "Fighting         60\n",
       "Simulation       44\n",
       "Platform         38\n",
       "Strategy         37\n",
       "Puzzle           14\n",
       "Name: genre, dtype: int64"
      ]
     },
     "execution_count": 113,
     "metadata": {},
     "output_type": "execute_result"
    }
   ],
   "source": [
    "# Выведем на экран информацию о распределении игр по жанрам:\n",
    "\n",
    "data['genre'].value_counts()"
   ]
  },
  {
   "cell_type": "markdown",
   "metadata": {},
   "source": [
    "Мы видим, что самым распространенным жанром с большим отрывом является экшен, за которым следуют ролевые и приключенческие игры.\n",
    "Но распространенность жанра не обязательно означает его прибыльность, поэтому необходимо дополнительно исследовать вопрос продаж игр каждого из жанров."
   ]
  },
  {
   "cell_type": "code",
   "execution_count": 114,
   "metadata": {},
   "outputs": [
    {
     "data": {
      "text/plain": [
       "genre\n",
       "Action          199.36\n",
       "Adventure        17.55\n",
       "Fighting         28.22\n",
       "Misc             37.55\n",
       "Platform         18.09\n",
       "Puzzle            2.21\n",
       "Racing           27.52\n",
       "Role-Playing    101.44\n",
       "Shooter         170.94\n",
       "Simulation       13.13\n",
       "Sports          109.48\n",
       "Strategy          3.96\n",
       "Name: total_sales, dtype: float64"
      ]
     },
     "execution_count": 114,
     "metadata": {},
     "output_type": "execute_result"
    }
   ],
   "source": [
    "# Выведем на экран информацию о продажах игр каждого жанра:\n",
    "\n",
    "data.groupby ('genre')['total_sales'].sum()"
   ]
  },
  {
   "cell_type": "markdown",
   "metadata": {},
   "source": [
    "Больше всего продаж, разумеется, у экшенов (но мы помним, что их и выпущено было в разы больше, чем игр других жанров). За ними следуют шутеры, ролевые и спортивные игры. Однако количество выпущенных игр для разных жанров существенно различается, поэтому правильнее посчитать прибыльность с учетом этих данных."
   ]
  },
  {
   "cell_type": "code",
   "execution_count": 115,
   "metadata": {},
   "outputs": [
    {
     "name": "stdout",
     "output_type": "stream",
     "text": [
      "Прибыльность для жанра Shooter составляет 1.33546875\n",
      "Прибыльность для жанра Action составляет 0.3220678513731825\n",
      "Прибыльность для жанра Role-Playing составляет 0.4590045248868778\n",
      "Прибыльность для жанра Sports составляет 0.6799999999999999\n",
      "Прибыльность для жанра Fighting составляет 0.47033333333333344\n",
      "Прибыльность для жанра Racing составляет 0.398840579710145\n",
      "Прибыльность для жанра Misc составляет 0.3323008849557521\n",
      "Прибыльность для жанра Platform составляет 0.47605263157894756\n",
      "Прибыльность для жанра Simulation составляет 0.2984090909090909\n",
      "Прибыльность для жанра Adventure составляет 0.09486486486486487\n",
      "Прибыльность для жанра Puzzle составляет 0.15785714285714283\n",
      "Прибыльность для жанра Strategy составляет 0.107027027027027\n"
     ]
    }
   ],
   "source": [
    "# Посчитаем для каждого жанра прибыльность с учетом количества выпущенных игр (в расчете на одну игру):\n",
    "\n",
    "genres = data['genre'].unique()\n",
    "\n",
    "for item in genres:\n",
    "    genre_sales = data[data['genre']==item]['total_sales'].sum() / data[data['genre']==item]['genre'].count()\n",
    "    print ('Прибыльность для жанра', item, 'составляет', genre_sales)"
   ]
  },
  {
   "cell_type": "markdown",
   "metadata": {},
   "source": [
    "Мы видим, что несмотря на популярность экшенов, шутеры в более чем 4 раза лучше продаются. Также неплохие продажи из расчета на одну игру у игр-платформеров, файтингов и спортивных игр. Самые низкие продаж показатели у приключенческих игр, стратегий и головоломок."
   ]
  },
  {
   "cell_type": "markdown",
   "metadata": {},
   "source": [
    "## **Составьте портрет пользователя каждого региона**"
   ]
  },
  {
   "cell_type": "markdown",
   "metadata": {},
   "source": [
    "### Северная Америка"
   ]
  },
  {
   "cell_type": "markdown",
   "metadata": {},
   "source": [
    "Начнем анализ с Северной Америки: определим самые популярные в этом регионе платформы и жанры, а также изучим влияние рейтинга ESRB на продажи."
   ]
  },
  {
   "cell_type": "code",
   "execution_count": 116,
   "metadata": {},
   "outputs": [
    {
     "data": {
      "text/plain": [
       "platform\n",
       "PSP      0.00\n",
       "Wii      2.08\n",
       "PSV      2.52\n",
       "PC       7.23\n",
       "WiiU    19.36\n",
       "PS3     22.05\n",
       "3DS     22.64\n",
       "X360    28.30\n",
       "XOne    81.27\n",
       "PS4     98.61\n",
       "Name: na_sales, dtype: float64"
      ]
     },
     "execution_count": 116,
     "metadata": {},
     "output_type": "execute_result"
    }
   ],
   "source": [
    "# Определим самые популярные в Северной Америке платформы:\n",
    "\n",
    "data.groupby ('platform')['na_sales'].sum().sort_values()"
   ]
  },
  {
   "cell_type": "markdown",
   "metadata": {},
   "source": [
    "Самые популярные платформы в Северной Америке - PS4, XOne, X360, 3DS и PS3."
   ]
  },
  {
   "cell_type": "code",
   "execution_count": 117,
   "metadata": {},
   "outputs": [
    {
     "data": {
      "text/plain": [
       "genre\n",
       "Puzzle           0.65\n",
       "Strategy         0.98\n",
       "Simulation       2.63\n",
       "Adventure        5.64\n",
       "Platform         6.79\n",
       "Racing           8.74\n",
       "Fighting        12.43\n",
       "Misc            15.05\n",
       "Role-Playing    33.47\n",
       "Sports          46.13\n",
       "Action          72.53\n",
       "Shooter         79.02\n",
       "Name: na_sales, dtype: float64"
      ]
     },
     "execution_count": 117,
     "metadata": {},
     "output_type": "execute_result"
    }
   ],
   "source": [
    "# Определим самые популярные в Северной Америке жанры:\n",
    "\n",
    "data.groupby ('genre')['na_sales'].sum().sort_values()"
   ]
  },
  {
   "cell_type": "markdown",
   "metadata": {},
   "source": [
    "Среди жанров самыми популярными оказались экшены, шутеры, спортивные и ролевые игры, а также игры, не относящиеся к рассматриваемым жанрам."
   ]
  },
  {
   "cell_type": "code",
   "execution_count": 118,
   "metadata": {},
   "outputs": [
    {
     "data": {
      "text/html": [
       "<div>\n",
       "<style scoped>\n",
       "    .dataframe tbody tr th:only-of-type {\n",
       "        vertical-align: middle;\n",
       "    }\n",
       "\n",
       "    .dataframe tbody tr th {\n",
       "        vertical-align: top;\n",
       "    }\n",
       "\n",
       "    .dataframe thead th {\n",
       "        text-align: right;\n",
       "    }\n",
       "</style>\n",
       "<table border=\"1\" class=\"dataframe\">\n",
       "  <thead>\n",
       "    <tr style=\"text-align: right;\">\n",
       "      <th></th>\n",
       "      <th>na_sales</th>\n",
       "      <th>proportion</th>\n",
       "    </tr>\n",
       "    <tr>\n",
       "      <th>rating</th>\n",
       "      <th></th>\n",
       "      <th></th>\n",
       "    </tr>\n",
       "  </thead>\n",
       "  <tbody>\n",
       "    <tr>\n",
       "      <th>E</th>\n",
       "      <td>50.74</td>\n",
       "      <td>17.862423</td>\n",
       "    </tr>\n",
       "    <tr>\n",
       "      <th>E10+</th>\n",
       "      <td>33.23</td>\n",
       "      <td>11.698233</td>\n",
       "    </tr>\n",
       "    <tr>\n",
       "      <th>M</th>\n",
       "      <td>96.42</td>\n",
       "      <td>33.943533</td>\n",
       "    </tr>\n",
       "    <tr>\n",
       "      <th>T</th>\n",
       "      <td>38.95</td>\n",
       "      <td>13.711892</td>\n",
       "    </tr>\n",
       "    <tr>\n",
       "      <th>unknown</th>\n",
       "      <td>64.72</td>\n",
       "      <td>22.783919</td>\n",
       "    </tr>\n",
       "  </tbody>\n",
       "</table>\n",
       "</div>"
      ],
      "text/plain": [
       "         na_sales  proportion\n",
       "rating                       \n",
       "E           50.74   17.862423\n",
       "E10+        33.23   11.698233\n",
       "M           96.42   33.943533\n",
       "T           38.95   13.711892\n",
       "unknown     64.72   22.783919"
      ]
     },
     "metadata": {},
     "output_type": "display_data"
    }
   ],
   "source": [
    "# Выведем на экран количество продаж всех игр, которым был присвоен определенный рейтинг:\n",
    "\n",
    "na = data.pivot_table (index = 'rating', values = 'na_sales', aggfunc = 'sum')\n",
    "na ['proportion'] = na ['na_sales'] / na ['na_sales'].sum() * 100\n",
    "display (na)"
   ]
  },
  {
   "cell_type": "markdown",
   "metadata": {},
   "source": [
    "Мы видим, что около трети проданных в Северной Америке игр получили рейтинг \"M\" (\"Mature\"), то есть они предназначены для взрослых старше 17 лет. 17% игр - рейтинг \"E\" (\"Everyone\"), по 13% и 11% -  рейтинги \"Т\" (\"Teen\" - для лиц старше 13 лет) и \"E10+\" (\"Everyone 10 and older\" - для лиц старше 10 лет) соответственно. О рейтингах оставшихся чуть менее 23% игр информации не представлено."
   ]
  },
  {
   "cell_type": "markdown",
   "metadata": {},
   "source": [
    "###  Европа"
   ]
  },
  {
   "cell_type": "code",
   "execution_count": 119,
   "metadata": {},
   "outputs": [
    {
     "data": {
      "text/plain": [
       "platform\n",
       "PSP       0.00\n",
       "Wii       2.59\n",
       "PSV       3.53\n",
       "WiiU     13.15\n",
       "X360     15.49\n",
       "3DS      16.12\n",
       "PC       17.97\n",
       "PS3      25.54\n",
       "XOne     46.25\n",
       "PS4     130.04\n",
       "Name: eu_sales, dtype: float64"
      ]
     },
     "execution_count": 119,
     "metadata": {},
     "output_type": "execute_result"
    }
   ],
   "source": [
    "# Определим самые популярные в Европе платформы:\n",
    "\n",
    "data.groupby ('platform')['eu_sales'].sum().sort_values()"
   ]
  },
  {
   "cell_type": "markdown",
   "metadata": {},
   "source": [
    "Самые популярные платформы в Европе - PS4, XOne, PS3, PC и 3DS."
   ]
  },
  {
   "cell_type": "code",
   "execution_count": 120,
   "metadata": {},
   "outputs": [
    {
     "data": {
      "text/plain": [
       "genre\n",
       "Puzzle           0.52\n",
       "Strategy         1.79\n",
       "Adventure        6.49\n",
       "Fighting         6.69\n",
       "Platform         6.80\n",
       "Simulation       7.30\n",
       "Misc            12.86\n",
       "Racing          14.13\n",
       "Role-Playing    28.17\n",
       "Sports          45.73\n",
       "Shooter         65.52\n",
       "Action          74.68\n",
       "Name: eu_sales, dtype: float64"
      ]
     },
     "execution_count": 120,
     "metadata": {},
     "output_type": "execute_result"
    }
   ],
   "source": [
    "# Определим самые популярные в Европе жанры:\n",
    "\n",
    "data.groupby ('genre')['eu_sales'].sum().sort_values()"
   ]
  },
  {
   "cell_type": "markdown",
   "metadata": {},
   "source": [
    "В Европе также самым популярным жанром игр является экшены. За ними следуют шутеры, спортивные и ролевые игры, а также гонки."
   ]
  },
  {
   "cell_type": "code",
   "execution_count": 121,
   "metadata": {},
   "outputs": [
    {
     "data": {
      "text/html": [
       "<div>\n",
       "<style scoped>\n",
       "    .dataframe tbody tr th:only-of-type {\n",
       "        vertical-align: middle;\n",
       "    }\n",
       "\n",
       "    .dataframe tbody tr th {\n",
       "        vertical-align: top;\n",
       "    }\n",
       "\n",
       "    .dataframe thead th {\n",
       "        text-align: right;\n",
       "    }\n",
       "</style>\n",
       "<table border=\"1\" class=\"dataframe\">\n",
       "  <thead>\n",
       "    <tr style=\"text-align: right;\">\n",
       "      <th></th>\n",
       "      <th>eu_sales</th>\n",
       "      <th>proportion</th>\n",
       "    </tr>\n",
       "    <tr>\n",
       "      <th>rating</th>\n",
       "      <th></th>\n",
       "      <th></th>\n",
       "    </tr>\n",
       "  </thead>\n",
       "  <tbody>\n",
       "    <tr>\n",
       "      <th>E</th>\n",
       "      <td>58.06</td>\n",
       "      <td>21.449682</td>\n",
       "    </tr>\n",
       "    <tr>\n",
       "      <th>E10+</th>\n",
       "      <td>26.16</td>\n",
       "      <td>9.664549</td>\n",
       "    </tr>\n",
       "    <tr>\n",
       "      <th>M</th>\n",
       "      <td>93.44</td>\n",
       "      <td>34.520467</td>\n",
       "    </tr>\n",
       "    <tr>\n",
       "      <th>T</th>\n",
       "      <td>34.07</td>\n",
       "      <td>12.586818</td>\n",
       "    </tr>\n",
       "    <tr>\n",
       "      <th>unknown</th>\n",
       "      <td>58.95</td>\n",
       "      <td>21.778484</td>\n",
       "    </tr>\n",
       "  </tbody>\n",
       "</table>\n",
       "</div>"
      ],
      "text/plain": [
       "         eu_sales  proportion\n",
       "rating                       \n",
       "E           58.06   21.449682\n",
       "E10+        26.16    9.664549\n",
       "M           93.44   34.520467\n",
       "T           34.07   12.586818\n",
       "unknown     58.95   21.778484"
      ]
     },
     "metadata": {},
     "output_type": "display_data"
    }
   ],
   "source": [
    "# Выведем на экран количество продаж в Европе всех игр, которым был присвоен определенный рейтинг:\n",
    "\n",
    "eu = data.pivot_table (index = 'rating', values = 'eu_sales', aggfunc = 'sum')\n",
    "eu ['proportion'] = eu ['eu_sales'] / eu ['eu_sales'].sum() * 100\n",
    "display (eu)"
   ]
  },
  {
   "cell_type": "markdown",
   "metadata": {},
   "source": [
    "Что касается рейтинга, то ситуация аналогична североамериканской: около трети  игр с рейтингом \"M\" (\"Mature\"), 21% у игр с рейтингом \"Е\", 12% и 9% - у игр с рейтингами \"Т\" и \"Е10+\". У почти 22% игр не указан рейтинг."
   ]
  },
  {
   "cell_type": "markdown",
   "metadata": {},
   "source": [
    "### Япония"
   ]
  },
  {
   "cell_type": "code",
   "execution_count": 122,
   "metadata": {},
   "outputs": [
    {
     "data": {
      "text/plain": [
       "platform\n",
       "PC       0.00\n",
       "Wii      0.00\n",
       "X360     0.08\n",
       "XOne     0.32\n",
       "PSP      0.36\n",
       "WiiU     7.31\n",
       "PS3     11.22\n",
       "PSV     14.54\n",
       "PS4     15.02\n",
       "3DS     44.24\n",
       "Name: jp_sales, dtype: float64"
      ]
     },
     "execution_count": 122,
     "metadata": {},
     "output_type": "execute_result"
    }
   ],
   "source": [
    "# Определим самые популярные в Японии платформы:\n",
    "\n",
    "data.groupby ('platform')['jp_sales'].sum().sort_values()"
   ]
  },
  {
   "cell_type": "markdown",
   "metadata": {},
   "source": [
    "Самые популярные платформы в Японии - 3DS, PS4, PSV, PS3 и WiiU."
   ]
  },
  {
   "cell_type": "code",
   "execution_count": 123,
   "metadata": {},
   "outputs": [
    {
     "data": {
      "text/plain": [
       "genre\n",
       "Puzzle           0.93\n",
       "Strategy         0.95\n",
       "Racing           1.76\n",
       "Simulation       2.31\n",
       "Platform         2.69\n",
       "Sports           3.26\n",
       "Adventure        3.60\n",
       "Shooter          4.87\n",
       "Misc             5.61\n",
       "Fighting         6.37\n",
       "Action          29.58\n",
       "Role-Playing    31.16\n",
       "Name: jp_sales, dtype: float64"
      ]
     },
     "execution_count": 123,
     "metadata": {},
     "output_type": "execute_result"
    }
   ],
   "source": [
    "# Определим самые популярные в Японии жанры:\n",
    "\n",
    "data.groupby ('genre')['jp_sales'].sum().sort_values()"
   ]
  },
  {
   "cell_type": "markdown",
   "metadata": {},
   "source": [
    "Мы видим, что в Японии самым популярным жанром стал не экшен (он на втором месте), а ролевые игры. Пятерку самых популярных жанров замыкают файтинги, прочие игры и шутеры."
   ]
  },
  {
   "cell_type": "code",
   "execution_count": 124,
   "metadata": {},
   "outputs": [
    {
     "data": {
      "text/html": [
       "<div>\n",
       "<style scoped>\n",
       "    .dataframe tbody tr th:only-of-type {\n",
       "        vertical-align: middle;\n",
       "    }\n",
       "\n",
       "    .dataframe tbody tr th {\n",
       "        vertical-align: top;\n",
       "    }\n",
       "\n",
       "    .dataframe thead th {\n",
       "        text-align: right;\n",
       "    }\n",
       "</style>\n",
       "<table border=\"1\" class=\"dataframe\">\n",
       "  <thead>\n",
       "    <tr style=\"text-align: right;\">\n",
       "      <th></th>\n",
       "      <th>jp_sales</th>\n",
       "      <th>proportion</th>\n",
       "    </tr>\n",
       "    <tr>\n",
       "      <th>rating</th>\n",
       "      <th></th>\n",
       "      <th></th>\n",
       "    </tr>\n",
       "  </thead>\n",
       "  <tbody>\n",
       "    <tr>\n",
       "      <th>E</th>\n",
       "      <td>8.94</td>\n",
       "      <td>9.603609</td>\n",
       "    </tr>\n",
       "    <tr>\n",
       "      <th>E10+</th>\n",
       "      <td>4.46</td>\n",
       "      <td>4.791062</td>\n",
       "    </tr>\n",
       "    <tr>\n",
       "      <th>M</th>\n",
       "      <td>8.01</td>\n",
       "      <td>8.604576</td>\n",
       "    </tr>\n",
       "    <tr>\n",
       "      <th>T</th>\n",
       "      <td>14.78</td>\n",
       "      <td>15.877108</td>\n",
       "    </tr>\n",
       "    <tr>\n",
       "      <th>unknown</th>\n",
       "      <td>56.90</td>\n",
       "      <td>61.123644</td>\n",
       "    </tr>\n",
       "  </tbody>\n",
       "</table>\n",
       "</div>"
      ],
      "text/plain": [
       "         jp_sales  proportion\n",
       "rating                       \n",
       "E            8.94    9.603609\n",
       "E10+         4.46    4.791062\n",
       "M            8.01    8.604576\n",
       "T           14.78   15.877108\n",
       "unknown     56.90   61.123644"
      ]
     },
     "metadata": {},
     "output_type": "display_data"
    }
   ],
   "source": [
    "# Выведем на экран количество продаж в Японии всех игр, которым был присвоен определенный рейтинг:\n",
    "\n",
    "jp = data.pivot_table (index = 'rating', values = 'jp_sales', aggfunc = 'sum')\n",
    "jp ['proportion'] = jp ['jp_sales'] / jp ['jp_sales'].sum() * 100\n",
    "display (jp)"
   ]
  },
  {
   "cell_type": "markdown",
   "metadata": {},
   "source": [
    "Распределение продаж в зависимости от рейтинга в Японии также существенно отличается. Более 60% проданных игр вообще не имеют указания на рейтинг ESRB, у 15% рейтинг \"Т\", у 9% - рейтинг \"Е\", у 8% - рейтинг \"М\" и лишь у менее чем 5% рейтинг \"Е10+\"."
   ]
  },
  {
   "cell_type": "markdown",
   "metadata": {},
   "source": [
    "## **Проверьте гипотезы**"
   ]
  },
  {
   "cell_type": "markdown",
   "metadata": {},
   "source": [
    "### \"Средние пользовательские рейтинги платформ Xbox One и PC одинаковые\""
   ]
  },
  {
   "cell_type": "markdown",
   "metadata": {},
   "source": [
    "Сформулируем нулевую гипотезу следующим образом: \n",
    "\n",
    "**\"Средний пользовательский рейтинг платформы XOne равен среднему пользовательскому рейтингу платформы PC\"**.\n",
    "\n",
    "Альтернативная гипотеза будет выглядеть так: \n",
    "\n",
    "**\"Средний пользовательский рейтинг платформы XOne не равен среднему пользовательскому рейтингу платформы PC\"**.\n",
    "\n",
    "Поскольку мы имеем дело с двумя генеральными совокупностями, для проверки гипотезы о равенстве их средних необходимо использовать t-test."
   ]
  },
  {
   "cell_type": "code",
   "execution_count": 125,
   "metadata": {},
   "outputs": [
    {
     "name": "stdout",
     "output_type": "stream",
     "text": [
      "p-значение: 0.10450507919348513\n",
      "Не удалось отвергнуть нулевую гипотезу\n"
     ]
    }
   ],
   "source": [
    "# Используем t-test для проверки нулевой гипотезы:\n",
    "\n",
    "xbox_rating = data[data['platform']=='XOne']['user_score']\n",
    "pc_rating = data[data['platform']=='PC']['user_score']\n",
    "\n",
    "alpha = .05\n",
    "\n",
    "results = st.ttest_ind(xbox_rating, pc_rating, nan_policy='omit')\n",
    "\n",
    "print('p-значение:', results.pvalue)\n",
    "\n",
    "if results.pvalue < alpha:\n",
    "    print ('Отвергаем нулевую гипотезу')\n",
    "else:\n",
    "    print ('Не удалось отвергнуть нулевую гипотезу')"
   ]
  },
  {
   "cell_type": "markdown",
   "metadata": {},
   "source": [
    "T-test показал, что средние рейтинги пользователей платформ платформ Xbox One и PC одинаковы, поскольку вероятность случайно получить такое же значение равна 10%, что не позволяет сделать вывод о значительном различии между средними пользовательскими рейтингами для каждой из платформ."
   ]
  },
  {
   "cell_type": "markdown",
   "metadata": {},
   "source": [
    "### \"Средние пользовательские рейтинги жанров Action (англ. «действие», экшен-игры) и Sports (англ. «спортивные соревнования») разные\""
   ]
  },
  {
   "cell_type": "markdown",
   "metadata": {},
   "source": [
    "Сформулируем нулевую гипотезу следующим образом: \n",
    "\n",
    "**\"Средний пользовательский рейтинг жанра Action равен среднему пользовательскому рейтингу жанра Sports\"**\n",
    "\n",
    "Альтернативная гипотеза: \n",
    "\n",
    "**\"Средний пользовательский рейтинг жанра Action не равен среднему пользовательскому рейтингу жанра Sports\"**\n",
    "\n",
    "Поскольку мы имеем дело с двумя генеральными совокупностями, для проверки гипотезы о равенстве их средних необходимо использовать t-test."
   ]
  },
  {
   "cell_type": "code",
   "execution_count": 126,
   "metadata": {},
   "outputs": [
    {
     "name": "stdout",
     "output_type": "stream",
     "text": [
      "p-значение: 2.8711147985107304e-19\n",
      "Отвергаем нулевую гипотезу\n"
     ]
    }
   ],
   "source": [
    "# Используем t-test для проверки нулевой гипотезы:\n",
    "\n",
    "action_rating = data[data['genre']=='Action']['user_score']\n",
    "sports_rating = data[data['genre']=='Sports']['user_score']\n",
    "\n",
    "alpha = .05\n",
    "\n",
    "results = st.ttest_ind(action_rating, sports_rating, nan_policy='omit')\n",
    "\n",
    "print('p-значение:', results.pvalue)\n",
    "\n",
    "if results.pvalue < alpha:\n",
    "    print ('Отвергаем нулевую гипотезу')\n",
    "else:\n",
    "    print ('Не удалось отвергнуть нулевую гипотезу')"
   ]
  },
  {
   "cell_type": "markdown",
   "metadata": {},
   "source": [
    "T-test показал, что средние рейтинги пользователей игр жанров Action и Sports не одинаковы, соответственно, нулевая гипотеза об их равенстве опровергнута. Следовательно, альтернативная гипотеза, вынесенная в задание и подзаголовок, верна."
   ]
  },
  {
   "cell_type": "markdown",
   "metadata": {},
   "source": [
    "## **Вывод**"
   ]
  },
  {
   "cell_type": "markdown",
   "metadata": {},
   "source": [
    "Было проведено исследование закономерностей, влияющих на успешность компьютерных игр. \n",
    "\n",
    "**Цель исследования:** выявить, какие факторы влияют на успех компьютерной игры для планирования рекламных кампаний.\n",
    "\n",
    "Исследование включало в себя различные этапы:\n",
    "\n",
    "**Шаг 1.** Подготовка данных.   \n",
    "На данном этапе была осуществлена подготовка данных к дальнейшему исследованию: названия столбцов были приведены к нижнему регистру, скорректированы типы данных, обработаны пропуски и посчитаны суммарные продажи по всем регионам.\n",
    "\n",
    "\n",
    "\n",
    "**Шаг 2.** Исследовательский анализ данных.   \n",
    "В первую очередь был проведен анализ динамики релизов игр в разные годы. Для целей анализа было решено использовать данные за актуальный период - 3 года, то есть за период с 2014 по 2016 гг включительно. Анализ показал, что количество выпускаемых игр росло различными темпами с середины 1990-х годов вплоть до 2008-2009 гг, после чего стало наблюдаться падение количества релизов.\n",
    "\n",
    "Далее был произведен анализ продаж на различных платформах. Лидером по количеству продаж стала платформа PS4 (свыше 280 млн проданных копий), а наименьшее число продаж набрала платформа PSP (менее 360 тыс копий) за рассматриваемый период, что наверняка связано со снятием консолей PSP с продажи в 2011 году и, как следствие, неактуальностью выпускаемых на этой платформе игр. Исследование также выявило, что средний срок жизни платформы составляет 11 лет. \n",
    "\n",
    "Дальнейший анализ включал в себя изучение влияния на продажи отзывов (как самих пользователей, так и критиков). Анализ показал, что влияние отзывов критиков на продажи приблизительно одинаково для различных платформ (и в целом не может быть охарактеризовано как существенное), тогда как влияние отзывов пользователей на продажи сильно различается от платформы к платформе и может быть как незначительным, так и очень заметным.\n",
    "\n",
    "Следующим шагом в исследовательском анализе стало рассмотрение распределения игр по жанрам. Были выявлены самые распространенные жанры (ими стали экшен, ролевые и приключенческие игры), самые прибыльные (шутеры, платформеры и спортивные игры) и наименее прибыльные (приключенческие игры, стратегии и головоломки).\n",
    "\n",
    "\n",
    "\n",
    "**Шаг 3.** Составление портрета пользователей в различных регионах\n",
    "Дальнейший анализ предполагал исследование продаж в различных регионах (Северная Америка, Европа и Япония) и составление портрета пользователя для каждого из региона.\n",
    "\n",
    "Были получены следующие результаты:\n",
    "- **Северная Америка**: \n",
    "    - самые популярные платформы: PS4, XOne, X360, 3DS и PS3.;\n",
    "    - самые популярные жанры: экшены, шутеры, спортивные и ролевые игры, а также игры, не относящиеся к рассматриваемым жанрам;\n",
    "    - рейтинг ESRB: преобладают игры с рейтингом \"М\".\n",
    "- **Европа**:\n",
    "    - самые популярные платформы: PS4, XOne, PS3, PC и 3DS;\n",
    "    - самые популярные жанры: экшены, шутеры, спортивные и ролевые игры, а также симуляторы гонок;\n",
    "    - рейтинг ESRB: преобладают игры с рейтингом \"М\".\n",
    "- **Япония**:\n",
    "    - самые популярные платформы: 3DS, PS4, PSV, PS3 и WiiU;\n",
    "    - самые популярные жанры: ролевые игры, экшены, файтинги, игры, не относящиеся к рассматриваемым жанрам и шутеры.\n",
    "    - рейтинг ESRB: игры с рейтингами \"Е\", \"Т\" и \"М\" представлены практически одинаково, у подавляющего большинства проданных игр не указан рейтинг.\n",
    "    \n",
    "    \n",
    "    \n",
    "**Шаг 4.** Проверка гипотез.\n",
    "Для целей исследования было сформулировано две нулевые гипотезы: \n",
    "\n",
    "Гипотеза №1: \"Средний пользовательский рейтинг платформы XOne равен среднему пользовательскому рейтингу платформы PC\";       \n",
    "Гипотеза №2: \"Средний пользовательский рейтинг жанра Action равен среднему пользовательскому рейтингу жанра Sports\".\n",
    "\n",
    "Для проверки каждой из гипотез был проведен t-test, который показал следующие результаты: \n",
    "\n",
    "Гипотеза №1: не удалось опровергнуть       \n",
    "Гипотеза №2: была опровергнута\n"
   ]
  }
 ],
 "metadata": {
  "ExecuteTimeLog": [
   {
    "duration": 454,
    "start_time": "2022-08-24T13:53:20.622Z"
   },
   {
    "duration": 193,
    "start_time": "2022-08-24T13:54:36.267Z"
   },
   {
    "duration": 23,
    "start_time": "2022-08-24T13:54:56.066Z"
   },
   {
    "duration": 16,
    "start_time": "2022-08-24T13:55:15.836Z"
   },
   {
    "duration": 3,
    "start_time": "2022-08-24T13:58:34.269Z"
   },
   {
    "duration": 4,
    "start_time": "2022-08-24T14:03:04.045Z"
   },
   {
    "duration": 67,
    "start_time": "2022-08-24T14:03:15.087Z"
   },
   {
    "duration": 6,
    "start_time": "2022-08-24T14:03:32.712Z"
   },
   {
    "duration": 8,
    "start_time": "2022-08-24T14:05:08.844Z"
   },
   {
    "duration": 8,
    "start_time": "2022-08-24T14:06:08.681Z"
   },
   {
    "duration": 7,
    "start_time": "2022-08-24T14:06:36.146Z"
   },
   {
    "duration": 8,
    "start_time": "2022-08-24T14:10:10.903Z"
   },
   {
    "duration": 8,
    "start_time": "2022-08-24T14:12:23.848Z"
   },
   {
    "duration": 7,
    "start_time": "2022-08-24T14:14:02.910Z"
   },
   {
    "duration": 8,
    "start_time": "2022-08-24T14:14:07.516Z"
   },
   {
    "duration": 7,
    "start_time": "2022-08-24T14:14:40.165Z"
   },
   {
    "duration": 7,
    "start_time": "2022-08-24T14:18:19.871Z"
   },
   {
    "duration": 7,
    "start_time": "2022-08-24T14:18:45.321Z"
   },
   {
    "duration": 8,
    "start_time": "2022-08-24T14:23:12.446Z"
   },
   {
    "duration": 8,
    "start_time": "2022-08-24T14:25:58.353Z"
   },
   {
    "duration": 8,
    "start_time": "2022-08-24T14:27:44.813Z"
   },
   {
    "duration": 7,
    "start_time": "2022-08-24T14:35:22.022Z"
   },
   {
    "duration": 3,
    "start_time": "2022-08-24T14:35:39.978Z"
   },
   {
    "duration": 10,
    "start_time": "2022-08-24T14:35:43.164Z"
   },
   {
    "duration": 5,
    "start_time": "2022-08-24T14:37:58.522Z"
   },
   {
    "duration": 4,
    "start_time": "2022-08-24T14:38:10.253Z"
   },
   {
    "duration": 3,
    "start_time": "2022-08-24T14:38:22.646Z"
   },
   {
    "duration": 65,
    "start_time": "2022-08-24T14:38:22.651Z"
   },
   {
    "duration": 18,
    "start_time": "2022-08-24T14:38:22.718Z"
   },
   {
    "duration": 18,
    "start_time": "2022-08-24T14:38:22.738Z"
   },
   {
    "duration": 4,
    "start_time": "2022-08-24T14:38:22.758Z"
   },
   {
    "duration": 40,
    "start_time": "2022-08-24T14:38:22.764Z"
   },
   {
    "duration": 0,
    "start_time": "2022-08-24T14:38:22.806Z"
   },
   {
    "duration": 9,
    "start_time": "2022-08-24T14:38:29.181Z"
   },
   {
    "duration": 6,
    "start_time": "2022-08-24T14:42:20.514Z"
   },
   {
    "duration": 4,
    "start_time": "2022-08-24T14:42:22.709Z"
   },
   {
    "duration": 18,
    "start_time": "2022-08-24T14:42:47.031Z"
   },
   {
    "duration": 44,
    "start_time": "2022-08-25T15:46:33.195Z"
   },
   {
    "duration": 454,
    "start_time": "2022-08-25T15:46:37.600Z"
   },
   {
    "duration": 97,
    "start_time": "2022-08-25T15:46:38.056Z"
   },
   {
    "duration": 23,
    "start_time": "2022-08-25T15:46:38.155Z"
   },
   {
    "duration": 16,
    "start_time": "2022-08-25T15:46:38.179Z"
   },
   {
    "duration": 6,
    "start_time": "2022-08-25T15:46:38.197Z"
   },
   {
    "duration": 38,
    "start_time": "2022-08-25T15:46:38.205Z"
   },
   {
    "duration": 0,
    "start_time": "2022-08-25T15:46:38.244Z"
   },
   {
    "duration": 0,
    "start_time": "2022-08-25T15:46:38.245Z"
   },
   {
    "duration": 4,
    "start_time": "2022-08-25T15:46:48.065Z"
   },
   {
    "duration": 12,
    "start_time": "2022-08-25T15:46:51.153Z"
   },
   {
    "duration": 3,
    "start_time": "2022-08-25T15:47:22.083Z"
   },
   {
    "duration": 13,
    "start_time": "2022-08-25T15:47:54.810Z"
   },
   {
    "duration": 21,
    "start_time": "2022-08-25T15:48:06.213Z"
   },
   {
    "duration": 8,
    "start_time": "2022-08-25T15:49:17.210Z"
   },
   {
    "duration": 12,
    "start_time": "2022-08-25T15:49:24.229Z"
   },
   {
    "duration": 14,
    "start_time": "2022-08-25T15:52:07.448Z"
   },
   {
    "duration": 12,
    "start_time": "2022-08-25T15:52:24.854Z"
   },
   {
    "duration": 533,
    "start_time": "2022-08-26T18:29:14.572Z"
   },
   {
    "duration": 207,
    "start_time": "2022-08-26T18:29:15.107Z"
   },
   {
    "duration": 26,
    "start_time": "2022-08-26T18:29:15.315Z"
   },
   {
    "duration": 16,
    "start_time": "2022-08-26T18:29:15.344Z"
   },
   {
    "duration": 16,
    "start_time": "2022-08-26T18:29:15.362Z"
   },
   {
    "duration": 97,
    "start_time": "2022-08-26T18:29:15.380Z"
   },
   {
    "duration": 0,
    "start_time": "2022-08-26T18:29:15.479Z"
   },
   {
    "duration": 0,
    "start_time": "2022-08-26T18:29:15.491Z"
   },
   {
    "duration": 23,
    "start_time": "2022-08-26T18:29:26.930Z"
   },
   {
    "duration": 10,
    "start_time": "2022-08-26T18:30:21.259Z"
   },
   {
    "duration": 13,
    "start_time": "2022-08-26T18:31:17.111Z"
   },
   {
    "duration": 6,
    "start_time": "2022-08-26T18:31:56.643Z"
   },
   {
    "duration": 70,
    "start_time": "2022-08-26T18:32:21.218Z"
   },
   {
    "duration": 112,
    "start_time": "2022-08-26T18:32:27.035Z"
   },
   {
    "duration": 20,
    "start_time": "2022-08-26T18:32:35.809Z"
   },
   {
    "duration": 18,
    "start_time": "2022-08-26T18:34:11.531Z"
   },
   {
    "duration": 19,
    "start_time": "2022-08-26T18:36:11.887Z"
   },
   {
    "duration": 6,
    "start_time": "2022-08-26T18:36:56.139Z"
   },
   {
    "duration": 104,
    "start_time": "2022-08-26T18:37:08.055Z"
   },
   {
    "duration": 9,
    "start_time": "2022-08-26T18:37:19.625Z"
   },
   {
    "duration": 13,
    "start_time": "2022-08-26T18:37:28.280Z"
   },
   {
    "duration": 10,
    "start_time": "2022-08-26T18:37:33.574Z"
   },
   {
    "duration": 12,
    "start_time": "2022-08-26T18:37:45.911Z"
   },
   {
    "duration": 2,
    "start_time": "2022-08-26T18:38:05.430Z"
   },
   {
    "duration": 70,
    "start_time": "2022-08-26T18:38:05.434Z"
   },
   {
    "duration": 17,
    "start_time": "2022-08-26T18:38:05.508Z"
   },
   {
    "duration": 70,
    "start_time": "2022-08-26T18:38:05.527Z"
   },
   {
    "duration": 22,
    "start_time": "2022-08-26T18:38:05.598Z"
   },
   {
    "duration": 9,
    "start_time": "2022-08-26T18:38:05.621Z"
   },
   {
    "duration": 204,
    "start_time": "2022-08-26T18:38:05.631Z"
   },
   {
    "duration": 0,
    "start_time": "2022-08-26T18:38:05.837Z"
   },
   {
    "duration": 0,
    "start_time": "2022-08-26T18:38:05.838Z"
   },
   {
    "duration": 0,
    "start_time": "2022-08-26T18:38:05.840Z"
   },
   {
    "duration": 13,
    "start_time": "2022-08-26T18:38:56.868Z"
   },
   {
    "duration": 6,
    "start_time": "2022-08-26T18:39:33.244Z"
   },
   {
    "duration": 7,
    "start_time": "2022-08-26T18:40:00.045Z"
   },
   {
    "duration": 5,
    "start_time": "2022-08-26T18:40:12.850Z"
   },
   {
    "duration": 3,
    "start_time": "2022-08-26T18:40:21.216Z"
   },
   {
    "duration": 7,
    "start_time": "2022-08-26T18:40:24.932Z"
   },
   {
    "duration": 6,
    "start_time": "2022-08-26T18:40:54.347Z"
   },
   {
    "duration": 8,
    "start_time": "2022-08-26T18:40:57.007Z"
   },
   {
    "duration": 4,
    "start_time": "2022-08-26T18:41:07.583Z"
   },
   {
    "duration": 9,
    "start_time": "2022-08-26T18:41:15.230Z"
   },
   {
    "duration": 5,
    "start_time": "2022-08-26T18:47:56.950Z"
   },
   {
    "duration": 13,
    "start_time": "2022-08-26T18:48:00.803Z"
   },
   {
    "duration": 336,
    "start_time": "2022-08-26T18:48:03.413Z"
   },
   {
    "duration": 360,
    "start_time": "2022-08-26T18:48:22.707Z"
   },
   {
    "duration": 8,
    "start_time": "2022-08-26T18:49:16.455Z"
   },
   {
    "duration": 8,
    "start_time": "2022-08-26T18:49:21.354Z"
   },
   {
    "duration": 8,
    "start_time": "2022-08-26T18:49:46.848Z"
   },
   {
    "duration": 10,
    "start_time": "2022-08-26T18:49:49.126Z"
   },
   {
    "duration": 508,
    "start_time": "2022-08-26T18:50:04.467Z"
   },
   {
    "duration": 70,
    "start_time": "2022-08-26T18:50:04.977Z"
   },
   {
    "duration": 27,
    "start_time": "2022-08-26T18:50:05.049Z"
   },
   {
    "duration": 25,
    "start_time": "2022-08-26T18:50:05.078Z"
   },
   {
    "duration": 21,
    "start_time": "2022-08-26T18:50:05.105Z"
   },
   {
    "duration": 7,
    "start_time": "2022-08-26T18:50:05.128Z"
   },
   {
    "duration": 99,
    "start_time": "2022-08-26T18:50:05.137Z"
   },
   {
    "duration": 0,
    "start_time": "2022-08-26T18:50:05.239Z"
   },
   {
    "duration": 0,
    "start_time": "2022-08-26T18:50:05.239Z"
   },
   {
    "duration": 5,
    "start_time": "2022-08-26T18:54:20.832Z"
   },
   {
    "duration": 8,
    "start_time": "2022-08-26T18:54:25.804Z"
   },
   {
    "duration": 10,
    "start_time": "2022-08-26T18:54:30.642Z"
   },
   {
    "duration": 27,
    "start_time": "2022-08-26T18:56:02.182Z"
   },
   {
    "duration": 16,
    "start_time": "2022-08-26T18:56:27.666Z"
   },
   {
    "duration": 14,
    "start_time": "2022-08-26T19:01:35.742Z"
   },
   {
    "duration": 13,
    "start_time": "2022-08-26T19:06:59.149Z"
   },
   {
    "duration": 42,
    "start_time": "2022-08-26T19:07:42.743Z"
   },
   {
    "duration": 29,
    "start_time": "2022-08-26T19:09:30.390Z"
   },
   {
    "duration": 15,
    "start_time": "2022-08-26T19:25:40.316Z"
   },
   {
    "duration": 71,
    "start_time": "2022-08-26T19:38:25.112Z"
   },
   {
    "duration": 7,
    "start_time": "2022-08-26T19:38:33.157Z"
   },
   {
    "duration": 21,
    "start_time": "2022-08-26T19:38:54.294Z"
   },
   {
    "duration": 18,
    "start_time": "2022-08-26T19:39:05.406Z"
   },
   {
    "duration": 64,
    "start_time": "2022-08-26T19:39:38.118Z"
   },
   {
    "duration": 17,
    "start_time": "2022-08-26T19:39:47.594Z"
   },
   {
    "duration": 21,
    "start_time": "2022-08-26T19:40:20.157Z"
   },
   {
    "duration": 7,
    "start_time": "2022-08-26T19:40:25.033Z"
   },
   {
    "duration": 22,
    "start_time": "2022-08-26T19:41:08.457Z"
   },
   {
    "duration": 7,
    "start_time": "2022-08-26T19:41:17.611Z"
   },
   {
    "duration": 20,
    "start_time": "2022-08-26T19:41:33.668Z"
   },
   {
    "duration": 27,
    "start_time": "2022-08-26T19:41:50.164Z"
   },
   {
    "duration": 13,
    "start_time": "2022-08-26T19:42:15.635Z"
   },
   {
    "duration": 12,
    "start_time": "2022-08-26T19:42:41.304Z"
   },
   {
    "duration": 14,
    "start_time": "2022-08-26T19:42:47.084Z"
   },
   {
    "duration": 23,
    "start_time": "2022-08-26T19:42:56.827Z"
   },
   {
    "duration": 20,
    "start_time": "2022-08-26T19:43:19.438Z"
   },
   {
    "duration": 9,
    "start_time": "2022-08-26T19:43:27.100Z"
   },
   {
    "duration": 15,
    "start_time": "2022-08-26T19:44:05.814Z"
   },
   {
    "duration": 15,
    "start_time": "2022-08-26T19:44:12.949Z"
   },
   {
    "duration": 7,
    "start_time": "2022-08-26T19:44:54.823Z"
   },
   {
    "duration": 9,
    "start_time": "2022-08-26T19:44:57.691Z"
   },
   {
    "duration": 14,
    "start_time": "2022-08-26T19:45:04.063Z"
   },
   {
    "duration": 6,
    "start_time": "2022-08-26T19:45:08.473Z"
   },
   {
    "duration": 11,
    "start_time": "2022-08-26T19:45:26.011Z"
   },
   {
    "duration": 12,
    "start_time": "2022-08-26T19:45:47.220Z"
   },
   {
    "duration": 10,
    "start_time": "2022-08-26T19:46:23.896Z"
   },
   {
    "duration": 3,
    "start_time": "2022-08-26T19:47:04.299Z"
   },
   {
    "duration": 71,
    "start_time": "2022-08-26T19:47:04.305Z"
   },
   {
    "duration": 19,
    "start_time": "2022-08-26T19:47:04.378Z"
   },
   {
    "duration": 25,
    "start_time": "2022-08-26T19:47:04.400Z"
   },
   {
    "duration": 24,
    "start_time": "2022-08-26T19:47:04.427Z"
   },
   {
    "duration": 14,
    "start_time": "2022-08-26T19:47:04.454Z"
   },
   {
    "duration": 11,
    "start_time": "2022-08-26T19:47:04.493Z"
   },
   {
    "duration": 18,
    "start_time": "2022-08-26T19:47:04.506Z"
   },
   {
    "duration": 16,
    "start_time": "2022-08-26T19:47:04.527Z"
   },
   {
    "duration": 12,
    "start_time": "2022-08-26T19:47:10.377Z"
   },
   {
    "duration": 11,
    "start_time": "2022-08-26T19:47:34.196Z"
   },
   {
    "duration": 8,
    "start_time": "2022-08-26T19:47:55.420Z"
   },
   {
    "duration": 12,
    "start_time": "2022-08-26T19:48:15.469Z"
   },
   {
    "duration": 28,
    "start_time": "2022-08-26T19:48:44.910Z"
   },
   {
    "duration": 5,
    "start_time": "2022-08-26T19:49:33.536Z"
   },
   {
    "duration": 7,
    "start_time": "2022-08-26T19:49:46.622Z"
   },
   {
    "duration": 7,
    "start_time": "2022-08-26T19:49:51.498Z"
   },
   {
    "duration": 7,
    "start_time": "2022-08-26T19:49:54.827Z"
   },
   {
    "duration": 7,
    "start_time": "2022-08-26T19:50:01.506Z"
   },
   {
    "duration": 10,
    "start_time": "2022-08-26T19:50:21.588Z"
   },
   {
    "duration": 531,
    "start_time": "2022-08-26T19:50:27.860Z"
   },
   {
    "duration": 66,
    "start_time": "2022-08-26T19:50:28.393Z"
   },
   {
    "duration": 39,
    "start_time": "2022-08-26T19:50:28.461Z"
   },
   {
    "duration": 25,
    "start_time": "2022-08-26T19:50:28.505Z"
   },
   {
    "duration": 18,
    "start_time": "2022-08-26T19:50:28.533Z"
   },
   {
    "duration": 19,
    "start_time": "2022-08-26T19:50:28.553Z"
   },
   {
    "duration": 9,
    "start_time": "2022-08-26T19:50:28.591Z"
   },
   {
    "duration": 23,
    "start_time": "2022-08-26T19:50:28.602Z"
   },
   {
    "duration": 11,
    "start_time": "2022-08-26T19:50:28.627Z"
   },
   {
    "duration": 17,
    "start_time": "2022-08-26T19:50:51.808Z"
   },
   {
    "duration": 10,
    "start_time": "2022-08-26T19:50:54.883Z"
   },
   {
    "duration": 17,
    "start_time": "2022-08-26T19:51:33.137Z"
   },
   {
    "duration": 9,
    "start_time": "2022-08-26T19:51:36.596Z"
   },
   {
    "duration": 12,
    "start_time": "2022-08-26T19:51:43.636Z"
   },
   {
    "duration": 10,
    "start_time": "2022-08-26T19:51:50.142Z"
   },
   {
    "duration": 7,
    "start_time": "2022-08-26T19:52:16.946Z"
   },
   {
    "duration": 535,
    "start_time": "2022-08-26T19:52:32.059Z"
   },
   {
    "duration": 59,
    "start_time": "2022-08-26T19:52:32.596Z"
   },
   {
    "duration": 25,
    "start_time": "2022-08-26T19:52:32.657Z"
   },
   {
    "duration": 17,
    "start_time": "2022-08-26T19:52:32.684Z"
   },
   {
    "duration": 17,
    "start_time": "2022-08-26T19:52:32.704Z"
   },
   {
    "duration": 15,
    "start_time": "2022-08-26T19:52:32.723Z"
   },
   {
    "duration": 9,
    "start_time": "2022-08-26T19:52:32.740Z"
   },
   {
    "duration": 45,
    "start_time": "2022-08-26T19:52:32.751Z"
   },
   {
    "duration": 5,
    "start_time": "2022-08-26T19:52:32.798Z"
   },
   {
    "duration": 16,
    "start_time": "2022-08-26T19:52:32.805Z"
   },
   {
    "duration": 10,
    "start_time": "2022-08-26T19:52:36.448Z"
   },
   {
    "duration": 5,
    "start_time": "2022-08-26T19:52:45.865Z"
   },
   {
    "duration": 21,
    "start_time": "2022-08-26T19:52:50.159Z"
   },
   {
    "duration": 10,
    "start_time": "2022-08-26T19:53:14.967Z"
   },
   {
    "duration": 18,
    "start_time": "2022-08-26T19:53:23.288Z"
   },
   {
    "duration": 6,
    "start_time": "2022-08-26T19:53:26.936Z"
   },
   {
    "duration": 8,
    "start_time": "2022-08-26T19:53:38.693Z"
   },
   {
    "duration": 92,
    "start_time": "2022-08-26T19:54:04.259Z"
   },
   {
    "duration": 24,
    "start_time": "2022-08-26T19:54:15.718Z"
   },
   {
    "duration": 6,
    "start_time": "2022-08-26T19:54:20.980Z"
   },
   {
    "duration": 18,
    "start_time": "2022-08-26T19:54:39.806Z"
   },
   {
    "duration": 5,
    "start_time": "2022-08-26T19:55:35.624Z"
   },
   {
    "duration": 11,
    "start_time": "2022-08-26T19:55:38.723Z"
   },
   {
    "duration": 14,
    "start_time": "2022-08-26T19:55:54.103Z"
   },
   {
    "duration": 88,
    "start_time": "2022-08-26T19:56:01.188Z"
   },
   {
    "duration": 6,
    "start_time": "2022-08-26T19:56:12.799Z"
   },
   {
    "duration": 7,
    "start_time": "2022-08-26T19:56:16.332Z"
   },
   {
    "duration": 6,
    "start_time": "2022-08-26T19:56:18.320Z"
   },
   {
    "duration": 3,
    "start_time": "2022-08-26T19:56:26.267Z"
   },
   {
    "duration": 56,
    "start_time": "2022-08-26T19:56:36.568Z"
   },
   {
    "duration": 547,
    "start_time": "2022-08-26T19:56:44.564Z"
   },
   {
    "duration": 57,
    "start_time": "2022-08-26T19:56:45.114Z"
   },
   {
    "duration": 26,
    "start_time": "2022-08-26T19:56:45.174Z"
   },
   {
    "duration": 19,
    "start_time": "2022-08-26T19:56:45.201Z"
   },
   {
    "duration": 19,
    "start_time": "2022-08-26T19:56:45.224Z"
   },
   {
    "duration": 6,
    "start_time": "2022-08-26T19:56:45.245Z"
   },
   {
    "duration": 45,
    "start_time": "2022-08-26T19:56:45.254Z"
   },
   {
    "duration": 101,
    "start_time": "2022-08-26T19:56:45.302Z"
   },
   {
    "duration": 0,
    "start_time": "2022-08-26T19:56:45.406Z"
   },
   {
    "duration": 0,
    "start_time": "2022-08-26T19:56:45.407Z"
   },
   {
    "duration": 19,
    "start_time": "2022-08-26T19:56:56.201Z"
   },
   {
    "duration": 23,
    "start_time": "2022-08-26T19:57:31.386Z"
   },
   {
    "duration": 6,
    "start_time": "2022-08-26T19:57:42.473Z"
   },
   {
    "duration": 19,
    "start_time": "2022-08-26T19:58:03.231Z"
   },
   {
    "duration": 15,
    "start_time": "2022-08-26T19:58:30.924Z"
   },
   {
    "duration": 23,
    "start_time": "2022-08-26T19:58:40.514Z"
   },
   {
    "duration": 18,
    "start_time": "2022-08-26T19:58:53.213Z"
   },
   {
    "duration": 28,
    "start_time": "2022-08-26T19:59:04.740Z"
   },
   {
    "duration": 23,
    "start_time": "2022-08-26T19:59:49.381Z"
   },
   {
    "duration": 8,
    "start_time": "2022-08-26T20:00:26.654Z"
   },
   {
    "duration": 8,
    "start_time": "2022-08-26T20:00:33.957Z"
   },
   {
    "duration": 18,
    "start_time": "2022-08-26T20:01:09.440Z"
   },
   {
    "duration": 31,
    "start_time": "2022-08-26T20:01:28.981Z"
   },
   {
    "duration": 41,
    "start_time": "2022-08-26T20:01:56.527Z"
   },
   {
    "duration": 309,
    "start_time": "2022-08-26T20:03:00.856Z"
   },
   {
    "duration": 26,
    "start_time": "2022-08-26T20:03:14.391Z"
   },
   {
    "duration": 315,
    "start_time": "2022-08-26T20:03:38.724Z"
   },
   {
    "duration": 311,
    "start_time": "2022-08-26T20:04:00.683Z"
   },
   {
    "duration": 64,
    "start_time": "2022-08-26T20:04:31.214Z"
   },
   {
    "duration": 326,
    "start_time": "2022-08-26T20:04:41.765Z"
   },
   {
    "duration": 326,
    "start_time": "2022-08-26T20:05:10.824Z"
   },
   {
    "duration": 318,
    "start_time": "2022-08-26T20:05:30.528Z"
   },
   {
    "duration": 320,
    "start_time": "2022-08-26T20:07:25.527Z"
   },
   {
    "duration": 300,
    "start_time": "2022-08-26T20:08:12.830Z"
   },
   {
    "duration": 4,
    "start_time": "2022-08-26T20:09:22.976Z"
   },
   {
    "duration": 13,
    "start_time": "2022-08-26T20:09:27.761Z"
   },
   {
    "duration": 316,
    "start_time": "2022-08-26T20:09:36.773Z"
   },
   {
    "duration": 6,
    "start_time": "2022-08-26T20:10:13.075Z"
   },
   {
    "duration": 327,
    "start_time": "2022-08-26T20:10:27.947Z"
   },
   {
    "duration": 306,
    "start_time": "2022-08-26T20:11:36.457Z"
   },
   {
    "duration": 21,
    "start_time": "2022-08-26T20:12:04.004Z"
   },
   {
    "duration": 503,
    "start_time": "2022-08-26T20:12:11.104Z"
   },
   {
    "duration": 56,
    "start_time": "2022-08-26T20:12:11.609Z"
   },
   {
    "duration": 40,
    "start_time": "2022-08-26T20:12:11.667Z"
   },
   {
    "duration": 17,
    "start_time": "2022-08-26T20:12:11.709Z"
   },
   {
    "duration": 26,
    "start_time": "2022-08-26T20:12:11.729Z"
   },
   {
    "duration": 111,
    "start_time": "2022-08-26T20:12:11.756Z"
   },
   {
    "duration": 0,
    "start_time": "2022-08-26T20:12:11.869Z"
   },
   {
    "duration": 0,
    "start_time": "2022-08-26T20:12:11.871Z"
   },
   {
    "duration": 0,
    "start_time": "2022-08-26T20:12:11.873Z"
   },
   {
    "duration": 13,
    "start_time": "2022-08-26T20:12:17.904Z"
   },
   {
    "duration": 5,
    "start_time": "2022-08-26T20:12:30.917Z"
   },
   {
    "duration": 17,
    "start_time": "2022-08-26T20:13:25.337Z"
   },
   {
    "duration": 25,
    "start_time": "2022-08-26T20:13:48.757Z"
   },
   {
    "duration": 26,
    "start_time": "2022-08-26T20:13:55.358Z"
   },
   {
    "duration": 489,
    "start_time": "2022-08-26T20:14:08.117Z"
   },
   {
    "duration": 56,
    "start_time": "2022-08-26T20:14:08.609Z"
   },
   {
    "duration": 25,
    "start_time": "2022-08-26T20:14:08.667Z"
   },
   {
    "duration": 16,
    "start_time": "2022-08-26T20:14:08.703Z"
   },
   {
    "duration": 14,
    "start_time": "2022-08-26T20:14:08.721Z"
   },
   {
    "duration": 102,
    "start_time": "2022-08-26T20:14:08.737Z"
   },
   {
    "duration": 0,
    "start_time": "2022-08-26T20:14:08.840Z"
   },
   {
    "duration": 0,
    "start_time": "2022-08-26T20:14:08.841Z"
   },
   {
    "duration": 0,
    "start_time": "2022-08-26T20:14:08.843Z"
   },
   {
    "duration": 7,
    "start_time": "2022-08-26T20:14:17.568Z"
   },
   {
    "duration": 17,
    "start_time": "2022-08-26T20:14:26.471Z"
   },
   {
    "duration": 10,
    "start_time": "2022-08-26T20:14:45.470Z"
   },
   {
    "duration": 19,
    "start_time": "2022-08-26T20:15:34.869Z"
   },
   {
    "duration": 8,
    "start_time": "2022-08-26T20:15:54.919Z"
   },
   {
    "duration": 33,
    "start_time": "2022-08-26T20:16:47.355Z"
   },
   {
    "duration": 20,
    "start_time": "2022-08-26T20:17:06.426Z"
   },
   {
    "duration": 19,
    "start_time": "2022-08-26T20:17:18.542Z"
   },
   {
    "duration": 18,
    "start_time": "2022-08-26T20:17:58.771Z"
   },
   {
    "duration": 521,
    "start_time": "2022-08-26T20:18:11.295Z"
   },
   {
    "duration": 65,
    "start_time": "2022-08-26T20:18:11.818Z"
   },
   {
    "duration": 34,
    "start_time": "2022-08-26T20:18:11.885Z"
   },
   {
    "duration": 19,
    "start_time": "2022-08-26T20:18:11.923Z"
   },
   {
    "duration": 23,
    "start_time": "2022-08-26T20:18:11.945Z"
   },
   {
    "duration": 50,
    "start_time": "2022-08-26T20:18:11.970Z"
   },
   {
    "duration": 100,
    "start_time": "2022-08-26T20:18:12.022Z"
   },
   {
    "duration": 0,
    "start_time": "2022-08-26T20:18:12.124Z"
   },
   {
    "duration": 0,
    "start_time": "2022-08-26T20:18:12.125Z"
   },
   {
    "duration": 0,
    "start_time": "2022-08-26T20:18:12.126Z"
   },
   {
    "duration": 20,
    "start_time": "2022-08-26T20:18:19.214Z"
   },
   {
    "duration": 5,
    "start_time": "2022-08-26T20:18:39.385Z"
   },
   {
    "duration": 11,
    "start_time": "2022-08-26T20:21:19.032Z"
   },
   {
    "duration": 12,
    "start_time": "2022-08-26T20:21:41.937Z"
   },
   {
    "duration": 5,
    "start_time": "2022-08-26T20:22:28.458Z"
   },
   {
    "duration": 22,
    "start_time": "2022-08-26T20:23:11.593Z"
   },
   {
    "duration": 20,
    "start_time": "2022-08-26T20:23:17.313Z"
   },
   {
    "duration": 19,
    "start_time": "2022-08-26T20:23:31.630Z"
   },
   {
    "duration": 16,
    "start_time": "2022-08-26T20:24:06.736Z"
   },
   {
    "duration": 22,
    "start_time": "2022-08-26T20:25:17.140Z"
   },
   {
    "duration": 29,
    "start_time": "2022-08-26T20:26:11.091Z"
   },
   {
    "duration": 16,
    "start_time": "2022-08-26T20:27:07.743Z"
   },
   {
    "duration": 516,
    "start_time": "2022-08-26T20:27:15.676Z"
   },
   {
    "duration": 54,
    "start_time": "2022-08-26T20:27:16.194Z"
   },
   {
    "duration": 25,
    "start_time": "2022-08-26T20:27:16.250Z"
   },
   {
    "duration": 15,
    "start_time": "2022-08-26T20:27:16.278Z"
   },
   {
    "duration": 16,
    "start_time": "2022-08-26T20:27:16.295Z"
   },
   {
    "duration": 19,
    "start_time": "2022-08-26T20:27:16.313Z"
   },
   {
    "duration": 99,
    "start_time": "2022-08-26T20:27:16.334Z"
   },
   {
    "duration": 0,
    "start_time": "2022-08-26T20:27:16.436Z"
   },
   {
    "duration": 0,
    "start_time": "2022-08-26T20:27:16.437Z"
   },
   {
    "duration": 0,
    "start_time": "2022-08-26T20:27:16.438Z"
   },
   {
    "duration": 26,
    "start_time": "2022-08-26T20:28:01.752Z"
   },
   {
    "duration": 17,
    "start_time": "2022-08-26T20:28:33.389Z"
   },
   {
    "duration": 9,
    "start_time": "2022-08-26T20:28:38.224Z"
   },
   {
    "duration": 17,
    "start_time": "2022-08-26T20:29:04.142Z"
   },
   {
    "duration": 7,
    "start_time": "2022-08-26T20:29:11.994Z"
   },
   {
    "duration": 7,
    "start_time": "2022-08-26T20:29:39.731Z"
   },
   {
    "duration": 20,
    "start_time": "2022-08-26T20:30:22.786Z"
   },
   {
    "duration": 17,
    "start_time": "2022-08-26T20:30:45.037Z"
   },
   {
    "duration": 26,
    "start_time": "2022-08-26T20:31:14.151Z"
   },
   {
    "duration": 469,
    "start_time": "2022-08-27T19:49:30.794Z"
   },
   {
    "duration": 89,
    "start_time": "2022-08-27T19:49:31.265Z"
   },
   {
    "duration": 25,
    "start_time": "2022-08-27T19:49:31.355Z"
   },
   {
    "duration": 13,
    "start_time": "2022-08-27T19:49:31.383Z"
   },
   {
    "duration": 21,
    "start_time": "2022-08-27T19:49:31.398Z"
   },
   {
    "duration": 16,
    "start_time": "2022-08-27T19:49:31.421Z"
   },
   {
    "duration": 120,
    "start_time": "2022-08-27T19:49:31.439Z"
   },
   {
    "duration": 0,
    "start_time": "2022-08-27T19:49:31.561Z"
   },
   {
    "duration": 0,
    "start_time": "2022-08-27T19:49:31.562Z"
   },
   {
    "duration": 0,
    "start_time": "2022-08-27T19:49:31.563Z"
   },
   {
    "duration": 20,
    "start_time": "2022-08-27T19:49:47.725Z"
   },
   {
    "duration": 13,
    "start_time": "2022-08-27T19:50:38.468Z"
   },
   {
    "duration": 12,
    "start_time": "2022-08-27T19:51:27.260Z"
   },
   {
    "duration": 46,
    "start_time": "2022-08-27T19:53:25.230Z"
   },
   {
    "duration": 53,
    "start_time": "2022-08-27T19:53:33.683Z"
   },
   {
    "duration": 46,
    "start_time": "2022-08-27T19:55:25.311Z"
   },
   {
    "duration": 37,
    "start_time": "2022-08-27T19:55:36.462Z"
   },
   {
    "duration": 45,
    "start_time": "2022-08-27T20:01:26.242Z"
   },
   {
    "duration": 58,
    "start_time": "2022-08-27T20:29:06.124Z"
   },
   {
    "duration": 6,
    "start_time": "2022-08-27T20:29:30.927Z"
   },
   {
    "duration": 57,
    "start_time": "2022-08-27T20:30:26.275Z"
   },
   {
    "duration": 6,
    "start_time": "2022-08-27T20:30:43.024Z"
   },
   {
    "duration": 6,
    "start_time": "2022-08-27T20:30:45.103Z"
   },
   {
    "duration": 24,
    "start_time": "2022-08-27T20:30:49.910Z"
   },
   {
    "duration": 43,
    "start_time": "2022-08-27T20:31:33.821Z"
   },
   {
    "duration": 15,
    "start_time": "2022-08-27T20:32:36.164Z"
   },
   {
    "duration": 424,
    "start_time": "2022-08-27T20:32:55.079Z"
   },
   {
    "duration": 85,
    "start_time": "2022-08-27T20:32:55.505Z"
   },
   {
    "duration": 32,
    "start_time": "2022-08-27T20:32:55.591Z"
   },
   {
    "duration": 19,
    "start_time": "2022-08-27T20:32:55.626Z"
   },
   {
    "duration": 12,
    "start_time": "2022-08-27T20:32:55.647Z"
   },
   {
    "duration": 17,
    "start_time": "2022-08-27T20:32:55.660Z"
   },
   {
    "duration": 108,
    "start_time": "2022-08-27T20:32:55.679Z"
   },
   {
    "duration": 0,
    "start_time": "2022-08-27T20:32:55.788Z"
   },
   {
    "duration": 0,
    "start_time": "2022-08-27T20:32:55.789Z"
   },
   {
    "duration": 0,
    "start_time": "2022-08-27T20:32:55.790Z"
   },
   {
    "duration": 22,
    "start_time": "2022-08-27T20:33:31.897Z"
   },
   {
    "duration": 7,
    "start_time": "2022-08-27T20:33:49.367Z"
   },
   {
    "duration": 12,
    "start_time": "2022-08-27T20:33:58.407Z"
   },
   {
    "duration": 22,
    "start_time": "2022-08-27T20:34:03.170Z"
   },
   {
    "duration": 14,
    "start_time": "2022-08-27T20:34:30.279Z"
   },
   {
    "duration": 14,
    "start_time": "2022-08-27T20:34:33.850Z"
   },
   {
    "duration": 6,
    "start_time": "2022-08-27T20:34:59.510Z"
   },
   {
    "duration": 57,
    "start_time": "2022-08-27T20:34:59.527Z"
   },
   {
    "duration": 17,
    "start_time": "2022-08-27T20:34:59.586Z"
   },
   {
    "duration": 52,
    "start_time": "2022-08-27T20:34:59.605Z"
   },
   {
    "duration": 16,
    "start_time": "2022-08-27T20:34:59.659Z"
   },
   {
    "duration": 18,
    "start_time": "2022-08-27T20:34:59.677Z"
   },
   {
    "duration": 17,
    "start_time": "2022-08-27T20:34:59.696Z"
   },
   {
    "duration": 16,
    "start_time": "2022-08-27T20:34:59.714Z"
   },
   {
    "duration": 16,
    "start_time": "2022-08-27T20:34:59.731Z"
   },
   {
    "duration": 0,
    "start_time": "2022-08-27T20:34:59.749Z"
   },
   {
    "duration": 877,
    "start_time": "2022-08-27T20:40:16.172Z"
   },
   {
    "duration": 8,
    "start_time": "2022-08-27T20:40:48.398Z"
   },
   {
    "duration": 5,
    "start_time": "2022-08-27T20:40:55.170Z"
   },
   {
    "duration": 5,
    "start_time": "2022-08-27T20:41:02.997Z"
   },
   {
    "duration": 4,
    "start_time": "2022-08-27T20:41:13.895Z"
   },
   {
    "duration": 42,
    "start_time": "2022-08-27T20:42:48.505Z"
   },
   {
    "duration": 52,
    "start_time": "2022-08-27T20:43:02.776Z"
   },
   {
    "duration": 34,
    "start_time": "2022-08-27T20:43:51.903Z"
   },
   {
    "duration": 19,
    "start_time": "2022-08-27T20:46:07.566Z"
   },
   {
    "duration": 38,
    "start_time": "2022-08-27T20:47:50.049Z"
   },
   {
    "duration": 29,
    "start_time": "2022-08-27T20:47:52.675Z"
   },
   {
    "duration": 21,
    "start_time": "2022-08-27T20:54:37.471Z"
   },
   {
    "duration": 24,
    "start_time": "2022-08-27T20:58:01.487Z"
   },
   {
    "duration": 5,
    "start_time": "2022-08-27T21:06:58.628Z"
   },
   {
    "duration": 14,
    "start_time": "2022-08-27T21:07:15.187Z"
   },
   {
    "duration": 5,
    "start_time": "2022-08-27T21:11:04.351Z"
   },
   {
    "duration": 32,
    "start_time": "2022-08-27T21:11:31.524Z"
   },
   {
    "duration": 5,
    "start_time": "2022-08-27T21:11:41.124Z"
   },
   {
    "duration": 62,
    "start_time": "2022-08-27T21:11:41.131Z"
   },
   {
    "duration": 28,
    "start_time": "2022-08-27T21:11:41.195Z"
   },
   {
    "duration": 17,
    "start_time": "2022-08-27T21:11:41.225Z"
   },
   {
    "duration": 18,
    "start_time": "2022-08-27T21:11:41.244Z"
   },
   {
    "duration": 16,
    "start_time": "2022-08-27T21:11:41.263Z"
   },
   {
    "duration": 10,
    "start_time": "2022-08-27T21:11:41.281Z"
   },
   {
    "duration": 30,
    "start_time": "2022-08-27T21:11:41.292Z"
   },
   {
    "duration": 43,
    "start_time": "2022-08-27T21:11:41.323Z"
   },
   {
    "duration": 20,
    "start_time": "2022-08-27T21:11:41.367Z"
   },
   {
    "duration": 30,
    "start_time": "2022-08-27T21:11:41.389Z"
   },
   {
    "duration": 23,
    "start_time": "2022-08-27T21:11:41.424Z"
   },
   {
    "duration": 6,
    "start_time": "2022-08-27T21:11:41.449Z"
   },
   {
    "duration": 5,
    "start_time": "2022-08-27T21:13:40.353Z"
   },
   {
    "duration": 7,
    "start_time": "2022-08-27T21:13:54.341Z"
   },
   {
    "duration": 5,
    "start_time": "2022-08-27T21:13:58.040Z"
   },
   {
    "duration": 4,
    "start_time": "2022-08-27T21:14:00.475Z"
   },
   {
    "duration": 82,
    "start_time": "2022-08-27T21:14:00.481Z"
   },
   {
    "duration": 18,
    "start_time": "2022-08-27T21:14:00.565Z"
   },
   {
    "duration": 42,
    "start_time": "2022-08-27T21:14:00.584Z"
   },
   {
    "duration": 21,
    "start_time": "2022-08-27T21:14:00.630Z"
   },
   {
    "duration": 41,
    "start_time": "2022-08-27T21:14:00.653Z"
   },
   {
    "duration": 36,
    "start_time": "2022-08-27T21:14:00.696Z"
   },
   {
    "duration": 15,
    "start_time": "2022-08-27T21:14:00.734Z"
   },
   {
    "duration": 42,
    "start_time": "2022-08-27T21:14:00.752Z"
   },
   {
    "duration": 28,
    "start_time": "2022-08-27T21:14:00.796Z"
   },
   {
    "duration": 35,
    "start_time": "2022-08-27T21:14:00.825Z"
   },
   {
    "duration": 17,
    "start_time": "2022-08-27T21:14:00.861Z"
   },
   {
    "duration": 51,
    "start_time": "2022-08-27T21:14:00.879Z"
   },
   {
    "duration": 21,
    "start_time": "2022-08-27T21:14:41.852Z"
   },
   {
    "duration": 444,
    "start_time": "2022-08-27T21:14:51.223Z"
   },
   {
    "duration": 58,
    "start_time": "2022-08-27T21:14:51.669Z"
   },
   {
    "duration": 22,
    "start_time": "2022-08-27T21:14:51.728Z"
   },
   {
    "duration": 14,
    "start_time": "2022-08-27T21:14:51.752Z"
   },
   {
    "duration": 13,
    "start_time": "2022-08-27T21:14:51.767Z"
   },
   {
    "duration": 44,
    "start_time": "2022-08-27T21:14:51.781Z"
   },
   {
    "duration": 20,
    "start_time": "2022-08-27T21:14:51.827Z"
   },
   {
    "duration": 8,
    "start_time": "2022-08-27T21:14:51.849Z"
   },
   {
    "duration": 58,
    "start_time": "2022-08-27T21:14:51.858Z"
   },
   {
    "duration": 21,
    "start_time": "2022-08-27T21:14:51.927Z"
   },
   {
    "duration": 25,
    "start_time": "2022-08-27T21:14:51.949Z"
   },
   {
    "duration": 54,
    "start_time": "2022-08-27T21:14:51.976Z"
   },
   {
    "duration": 4,
    "start_time": "2022-08-27T21:14:52.032Z"
   },
   {
    "duration": 4,
    "start_time": "2022-08-27T21:14:57.773Z"
   },
   {
    "duration": 16,
    "start_time": "2022-08-27T21:15:08.956Z"
   },
   {
    "duration": 15,
    "start_time": "2022-08-27T21:15:15.891Z"
   },
   {
    "duration": 6,
    "start_time": "2022-08-27T21:15:58.055Z"
   },
   {
    "duration": 434,
    "start_time": "2022-08-27T21:16:45.131Z"
   },
   {
    "duration": 8,
    "start_time": "2022-08-27T21:16:56.769Z"
   },
   {
    "duration": 119,
    "start_time": "2022-08-27T21:17:26.083Z"
   },
   {
    "duration": 128,
    "start_time": "2022-08-27T21:18:18.498Z"
   },
   {
    "duration": 269,
    "start_time": "2022-08-27T21:20:53.343Z"
   },
   {
    "duration": 5,
    "start_time": "2022-08-27T21:29:42.653Z"
   },
   {
    "duration": 86,
    "start_time": "2022-08-27T21:29:55.499Z"
   },
   {
    "duration": 10,
    "start_time": "2022-08-27T21:30:11.212Z"
   },
   {
    "duration": 10,
    "start_time": "2022-08-27T21:30:34.489Z"
   },
   {
    "duration": 10,
    "start_time": "2022-08-27T21:32:11.373Z"
   },
   {
    "duration": 462,
    "start_time": "2022-08-27T21:32:28.274Z"
   },
   {
    "duration": 52,
    "start_time": "2022-08-27T21:32:28.738Z"
   },
   {
    "duration": 28,
    "start_time": "2022-08-27T21:32:28.791Z"
   },
   {
    "duration": 18,
    "start_time": "2022-08-27T21:32:28.821Z"
   },
   {
    "duration": 12,
    "start_time": "2022-08-27T21:32:28.840Z"
   },
   {
    "duration": 17,
    "start_time": "2022-08-27T21:32:28.854Z"
   },
   {
    "duration": 15,
    "start_time": "2022-08-27T21:32:28.872Z"
   },
   {
    "duration": 7,
    "start_time": "2022-08-27T21:32:28.911Z"
   },
   {
    "duration": 47,
    "start_time": "2022-08-27T21:32:28.920Z"
   },
   {
    "duration": 21,
    "start_time": "2022-08-27T21:32:28.969Z"
   },
   {
    "duration": 58,
    "start_time": "2022-08-27T21:32:29.010Z"
   },
   {
    "duration": 15,
    "start_time": "2022-08-27T21:32:29.069Z"
   },
   {
    "duration": 372,
    "start_time": "2022-08-27T21:32:29.086Z"
   },
   {
    "duration": 20,
    "start_time": "2022-08-27T21:32:29.460Z"
   },
   {
    "duration": 71,
    "start_time": "2022-08-29T20:07:08.783Z"
   },
   {
    "duration": 764,
    "start_time": "2022-08-29T20:07:12.403Z"
   },
   {
    "duration": 152,
    "start_time": "2022-08-29T20:07:13.169Z"
   },
   {
    "duration": 37,
    "start_time": "2022-08-29T20:07:13.324Z"
   },
   {
    "duration": 16,
    "start_time": "2022-08-29T20:07:13.362Z"
   },
   {
    "duration": 25,
    "start_time": "2022-08-29T20:07:13.382Z"
   },
   {
    "duration": 56,
    "start_time": "2022-08-29T20:07:13.409Z"
   },
   {
    "duration": 19,
    "start_time": "2022-08-29T20:07:13.466Z"
   },
   {
    "duration": 22,
    "start_time": "2022-08-29T20:07:13.486Z"
   },
   {
    "duration": 131,
    "start_time": "2022-08-29T20:07:13.514Z"
   },
   {
    "duration": 21,
    "start_time": "2022-08-29T20:07:13.646Z"
   },
   {
    "duration": 31,
    "start_time": "2022-08-29T20:07:13.668Z"
   },
   {
    "duration": 37,
    "start_time": "2022-08-29T20:07:13.700Z"
   },
   {
    "duration": 704,
    "start_time": "2022-08-29T20:07:13.739Z"
   },
   {
    "duration": 15,
    "start_time": "2022-08-29T20:07:14.446Z"
   },
   {
    "duration": 4,
    "start_time": "2022-08-29T20:07:14.463Z"
   },
   {
    "duration": 10,
    "start_time": "2022-08-29T20:09:20.615Z"
   },
   {
    "duration": 4,
    "start_time": "2022-08-29T20:09:42.472Z"
   },
   {
    "duration": 11,
    "start_time": "2022-08-29T20:09:56.811Z"
   },
   {
    "duration": 139,
    "start_time": "2022-08-29T20:17:22.023Z"
   },
   {
    "duration": 8,
    "start_time": "2022-08-29T20:17:33.608Z"
   },
   {
    "duration": 49,
    "start_time": "2022-08-29T20:27:37.478Z"
   },
   {
    "duration": 25,
    "start_time": "2022-08-29T20:27:45.009Z"
   },
   {
    "duration": 7,
    "start_time": "2022-08-29T20:30:34.005Z"
   },
   {
    "duration": 3,
    "start_time": "2022-08-29T20:30:40.203Z"
   },
   {
    "duration": 58,
    "start_time": "2022-08-29T20:30:40.208Z"
   },
   {
    "duration": 17,
    "start_time": "2022-08-29T20:30:40.268Z"
   },
   {
    "duration": 32,
    "start_time": "2022-08-29T20:30:40.286Z"
   },
   {
    "duration": 15,
    "start_time": "2022-08-29T20:30:40.320Z"
   },
   {
    "duration": 18,
    "start_time": "2022-08-29T20:30:40.336Z"
   },
   {
    "duration": 23,
    "start_time": "2022-08-29T20:30:40.355Z"
   },
   {
    "duration": 20,
    "start_time": "2022-08-29T20:30:40.380Z"
   },
   {
    "duration": 46,
    "start_time": "2022-08-29T20:30:40.402Z"
   },
   {
    "duration": 20,
    "start_time": "2022-08-29T20:30:40.450Z"
   },
   {
    "duration": 36,
    "start_time": "2022-08-29T20:30:40.471Z"
   },
   {
    "duration": 15,
    "start_time": "2022-08-29T20:30:40.508Z"
   },
   {
    "duration": 304,
    "start_time": "2022-08-29T20:30:40.524Z"
   },
   {
    "duration": 14,
    "start_time": "2022-08-29T20:30:40.830Z"
   },
   {
    "duration": 4,
    "start_time": "2022-08-29T20:30:40.846Z"
   },
   {
    "duration": 7,
    "start_time": "2022-08-29T20:30:40.851Z"
   },
   {
    "duration": 42,
    "start_time": "2022-08-29T20:30:40.859Z"
   },
   {
    "duration": 429,
    "start_time": "2022-08-29T20:30:40.903Z"
   },
   {
    "duration": 12,
    "start_time": "2022-08-29T20:31:09.845Z"
   },
   {
    "duration": 24,
    "start_time": "2022-08-29T20:31:24.285Z"
   },
   {
    "duration": 20,
    "start_time": "2022-08-29T20:31:31.112Z"
   },
   {
    "duration": 25,
    "start_time": "2022-08-29T20:32:18.952Z"
   },
   {
    "duration": 108,
    "start_time": "2022-08-29T20:32:45.154Z"
   },
   {
    "duration": 22,
    "start_time": "2022-08-29T20:33:04.505Z"
   },
   {
    "duration": 144,
    "start_time": "2022-08-29T20:49:27.779Z"
   },
   {
    "duration": 1396,
    "start_time": "2022-08-29T20:50:05.454Z"
   },
   {
    "duration": 1039,
    "start_time": "2022-08-29T20:51:34.382Z"
   },
   {
    "duration": 1131,
    "start_time": "2022-08-29T20:51:41.528Z"
   },
   {
    "duration": 551,
    "start_time": "2022-08-29T20:53:25.276Z"
   },
   {
    "duration": 1162,
    "start_time": "2022-08-29T20:53:41.458Z"
   },
   {
    "duration": 610,
    "start_time": "2022-08-29T20:58:39.597Z"
   },
   {
    "duration": 1492,
    "start_time": "2022-08-29T20:59:39.213Z"
   },
   {
    "duration": 49,
    "start_time": "2022-09-01T10:28:03.049Z"
   },
   {
    "duration": 450,
    "start_time": "2022-09-01T10:28:06.699Z"
   },
   {
    "duration": 101,
    "start_time": "2022-09-01T10:28:07.151Z"
   },
   {
    "duration": 40,
    "start_time": "2022-09-01T10:28:07.254Z"
   },
   {
    "duration": 14,
    "start_time": "2022-09-01T10:28:07.296Z"
   },
   {
    "duration": 16,
    "start_time": "2022-09-01T10:28:07.311Z"
   },
   {
    "duration": 18,
    "start_time": "2022-09-01T10:28:07.329Z"
   },
   {
    "duration": 32,
    "start_time": "2022-09-01T10:28:07.349Z"
   },
   {
    "duration": 8,
    "start_time": "2022-09-01T10:28:07.382Z"
   },
   {
    "duration": 42,
    "start_time": "2022-09-01T10:28:07.392Z"
   },
   {
    "duration": 48,
    "start_time": "2022-09-01T10:28:07.437Z"
   },
   {
    "duration": 53,
    "start_time": "2022-09-01T10:28:07.487Z"
   },
   {
    "duration": 33,
    "start_time": "2022-09-01T10:28:07.542Z"
   },
   {
    "duration": 599,
    "start_time": "2022-09-01T10:28:07.576Z"
   },
   {
    "duration": 16,
    "start_time": "2022-09-01T10:28:08.177Z"
   },
   {
    "duration": 4,
    "start_time": "2022-09-01T10:28:08.194Z"
   },
   {
    "duration": 11,
    "start_time": "2022-09-01T10:28:08.199Z"
   },
   {
    "duration": 28,
    "start_time": "2022-09-01T10:28:08.211Z"
   },
   {
    "duration": 1560,
    "start_time": "2022-09-01T10:28:08.240Z"
   },
   {
    "duration": 907,
    "start_time": "2022-09-01T10:33:07.921Z"
   },
   {
    "duration": 2205,
    "start_time": "2022-09-01T10:33:16.512Z"
   },
   {
    "duration": 1076,
    "start_time": "2022-09-01T10:34:31.925Z"
   },
   {
    "duration": 22,
    "start_time": "2022-09-01T10:34:44.923Z"
   },
   {
    "duration": 141,
    "start_time": "2022-09-01T10:35:52.775Z"
   },
   {
    "duration": 149,
    "start_time": "2022-09-01T10:36:47.504Z"
   },
   {
    "duration": 145,
    "start_time": "2022-09-01T10:37:34.472Z"
   },
   {
    "duration": 620,
    "start_time": "2022-09-01T10:39:06.151Z"
   },
   {
    "duration": 148,
    "start_time": "2022-09-01T10:39:16.392Z"
   },
   {
    "duration": 450,
    "start_time": "2022-09-01T10:39:20.168Z"
   },
   {
    "duration": 670,
    "start_time": "2022-09-01T10:44:14.440Z"
   },
   {
    "duration": 6,
    "start_time": "2022-09-01T10:44:46.244Z"
   },
   {
    "duration": 226,
    "start_time": "2022-09-01T10:47:01.968Z"
   },
   {
    "duration": 123,
    "start_time": "2022-09-01T10:47:11.383Z"
   },
   {
    "duration": 138,
    "start_time": "2022-09-01T10:47:24.805Z"
   },
   {
    "duration": 274,
    "start_time": "2022-09-01T10:47:27.774Z"
   },
   {
    "duration": 7,
    "start_time": "2022-09-01T10:47:36.386Z"
   },
   {
    "duration": 109,
    "start_time": "2022-09-01T10:47:47.913Z"
   },
   {
    "duration": 3,
    "start_time": "2022-09-01T10:48:22.778Z"
   },
   {
    "duration": 87,
    "start_time": "2022-09-01T10:48:22.782Z"
   },
   {
    "duration": 17,
    "start_time": "2022-09-01T10:48:22.871Z"
   },
   {
    "duration": 20,
    "start_time": "2022-09-01T10:48:22.890Z"
   },
   {
    "duration": 12,
    "start_time": "2022-09-01T10:48:22.912Z"
   },
   {
    "duration": 22,
    "start_time": "2022-09-01T10:48:22.925Z"
   },
   {
    "duration": 34,
    "start_time": "2022-09-01T10:48:22.948Z"
   },
   {
    "duration": 10,
    "start_time": "2022-09-01T10:48:22.984Z"
   },
   {
    "duration": 39,
    "start_time": "2022-09-01T10:48:22.995Z"
   },
   {
    "duration": 40,
    "start_time": "2022-09-01T10:48:23.035Z"
   },
   {
    "duration": 22,
    "start_time": "2022-09-01T10:48:23.078Z"
   },
   {
    "duration": 16,
    "start_time": "2022-09-01T10:48:23.102Z"
   },
   {
    "duration": 266,
    "start_time": "2022-09-01T10:48:23.120Z"
   },
   {
    "duration": 15,
    "start_time": "2022-09-01T10:48:23.388Z"
   },
   {
    "duration": 7,
    "start_time": "2022-09-01T10:48:23.405Z"
   },
   {
    "duration": 12,
    "start_time": "2022-09-01T10:48:23.414Z"
   },
   {
    "duration": 43,
    "start_time": "2022-09-01T10:48:23.428Z"
   },
   {
    "duration": 1547,
    "start_time": "2022-09-01T10:48:23.473Z"
   },
   {
    "duration": 160,
    "start_time": "2022-09-01T10:48:25.022Z"
   },
   {
    "duration": 9,
    "start_time": "2022-09-01T10:48:25.184Z"
   },
   {
    "duration": 175,
    "start_time": "2022-09-01T10:48:25.195Z"
   },
   {
    "duration": 122,
    "start_time": "2022-09-01T10:48:34.428Z"
   },
   {
    "duration": 31,
    "start_time": "2022-09-01T10:49:12.050Z"
   },
   {
    "duration": 130,
    "start_time": "2022-09-01T10:49:29.148Z"
   },
   {
    "duration": 26,
    "start_time": "2022-09-01T10:49:59.370Z"
   },
   {
    "duration": 5,
    "start_time": "2022-09-01T10:50:32.385Z"
   },
   {
    "duration": 6,
    "start_time": "2022-09-01T10:50:49.211Z"
   },
   {
    "duration": 30,
    "start_time": "2022-09-01T10:50:52.544Z"
   },
   {
    "duration": 81,
    "start_time": "2022-09-01T10:53:05.551Z"
   },
   {
    "duration": 95,
    "start_time": "2022-09-01T10:53:14.895Z"
   },
   {
    "duration": 13,
    "start_time": "2022-09-01T10:53:45.848Z"
   },
   {
    "duration": 4,
    "start_time": "2022-09-01T10:54:16.256Z"
   },
   {
    "duration": 70,
    "start_time": "2022-09-01T10:54:16.262Z"
   },
   {
    "duration": 17,
    "start_time": "2022-09-01T10:54:16.333Z"
   },
   {
    "duration": 44,
    "start_time": "2022-09-01T10:54:16.352Z"
   },
   {
    "duration": 23,
    "start_time": "2022-09-01T10:54:16.398Z"
   },
   {
    "duration": 41,
    "start_time": "2022-09-01T10:54:16.423Z"
   },
   {
    "duration": 41,
    "start_time": "2022-09-01T10:54:16.471Z"
   },
   {
    "duration": 7,
    "start_time": "2022-09-01T10:54:16.514Z"
   },
   {
    "duration": 67,
    "start_time": "2022-09-01T10:54:16.522Z"
   },
   {
    "duration": 21,
    "start_time": "2022-09-01T10:54:16.591Z"
   },
   {
    "duration": 13,
    "start_time": "2022-09-01T10:54:16.614Z"
   },
   {
    "duration": 50,
    "start_time": "2022-09-01T10:54:16.628Z"
   },
   {
    "duration": 37,
    "start_time": "2022-09-01T10:54:16.680Z"
   },
   {
    "duration": 272,
    "start_time": "2022-09-01T10:54:16.718Z"
   },
   {
    "duration": 15,
    "start_time": "2022-09-01T10:54:16.992Z"
   },
   {
    "duration": 5,
    "start_time": "2022-09-01T10:54:17.010Z"
   },
   {
    "duration": 20,
    "start_time": "2022-09-01T10:54:17.017Z"
   },
   {
    "duration": 49,
    "start_time": "2022-09-01T10:54:17.039Z"
   },
   {
    "duration": 1686,
    "start_time": "2022-09-01T10:54:17.089Z"
   },
   {
    "duration": 151,
    "start_time": "2022-09-01T10:54:18.777Z"
   },
   {
    "duration": 10,
    "start_time": "2022-09-01T10:54:18.930Z"
   },
   {
    "duration": 152,
    "start_time": "2022-09-01T10:54:18.942Z"
   },
   {
    "duration": 23,
    "start_time": "2022-09-01T10:54:26.631Z"
   },
   {
    "duration": 11,
    "start_time": "2022-09-01T10:56:26.274Z"
   },
   {
    "duration": 24,
    "start_time": "2022-09-01T10:58:27.596Z"
   },
   {
    "duration": 23,
    "start_time": "2022-09-01T10:58:32.411Z"
   },
   {
    "duration": 5,
    "start_time": "2022-09-01T10:59:20.273Z"
   },
   {
    "duration": 9,
    "start_time": "2022-09-01T10:59:24.570Z"
   },
   {
    "duration": 141,
    "start_time": "2022-09-01T10:59:40.534Z"
   },
   {
    "duration": 543,
    "start_time": "2022-09-01T11:00:14.997Z"
   },
   {
    "duration": 7,
    "start_time": "2022-09-01T11:01:02.557Z"
   },
   {
    "duration": 51,
    "start_time": "2022-09-01T11:01:02.680Z"
   },
   {
    "duration": 17,
    "start_time": "2022-09-01T11:01:02.733Z"
   },
   {
    "duration": 32,
    "start_time": "2022-09-01T11:01:02.752Z"
   },
   {
    "duration": 31,
    "start_time": "2022-09-01T11:01:02.785Z"
   },
   {
    "duration": 23,
    "start_time": "2022-09-01T11:01:02.818Z"
   },
   {
    "duration": 27,
    "start_time": "2022-09-01T11:01:02.843Z"
   },
   {
    "duration": 9,
    "start_time": "2022-09-01T11:01:02.873Z"
   },
   {
    "duration": 60,
    "start_time": "2022-09-01T11:01:02.883Z"
   },
   {
    "duration": 33,
    "start_time": "2022-09-01T11:01:02.944Z"
   },
   {
    "duration": 13,
    "start_time": "2022-09-01T11:01:02.981Z"
   },
   {
    "duration": 27,
    "start_time": "2022-09-01T11:01:02.996Z"
   },
   {
    "duration": 23,
    "start_time": "2022-09-01T11:01:03.025Z"
   },
   {
    "duration": 389,
    "start_time": "2022-09-01T11:01:03.050Z"
   },
   {
    "duration": 21,
    "start_time": "2022-09-01T11:01:03.442Z"
   },
   {
    "duration": 5,
    "start_time": "2022-09-01T11:01:03.465Z"
   },
   {
    "duration": 13,
    "start_time": "2022-09-01T11:01:03.472Z"
   },
   {
    "duration": 23,
    "start_time": "2022-09-01T11:01:03.486Z"
   },
   {
    "duration": 1712,
    "start_time": "2022-09-01T11:01:03.510Z"
   },
   {
    "duration": 203,
    "start_time": "2022-09-01T11:01:05.225Z"
   },
   {
    "duration": 8,
    "start_time": "2022-09-01T11:01:05.430Z"
   },
   {
    "duration": 169,
    "start_time": "2022-09-01T11:01:05.441Z"
   },
   {
    "duration": 367,
    "start_time": "2022-09-01T11:01:05.612Z"
   },
   {
    "duration": 109,
    "start_time": "2022-09-01T11:04:17.978Z"
   },
   {
    "duration": 5,
    "start_time": "2022-09-01T11:05:01.070Z"
   },
   {
    "duration": 295,
    "start_time": "2022-09-01T11:05:06.950Z"
   },
   {
    "duration": 3,
    "start_time": "2022-09-01T11:07:48.127Z"
   },
   {
    "duration": 59,
    "start_time": "2022-09-01T11:07:48.132Z"
   },
   {
    "duration": 19,
    "start_time": "2022-09-01T11:07:48.193Z"
   },
   {
    "duration": 14,
    "start_time": "2022-09-01T11:07:48.214Z"
   },
   {
    "duration": 13,
    "start_time": "2022-09-01T11:07:48.230Z"
   },
   {
    "duration": 31,
    "start_time": "2022-09-01T11:07:48.244Z"
   },
   {
    "duration": 15,
    "start_time": "2022-09-01T11:07:48.277Z"
   },
   {
    "duration": 7,
    "start_time": "2022-09-01T11:07:48.293Z"
   },
   {
    "duration": 61,
    "start_time": "2022-09-01T11:07:48.302Z"
   },
   {
    "duration": 23,
    "start_time": "2022-09-01T11:07:48.365Z"
   },
   {
    "duration": 5,
    "start_time": "2022-09-01T11:07:48.390Z"
   },
   {
    "duration": 11,
    "start_time": "2022-09-01T11:07:48.396Z"
   },
   {
    "duration": 13,
    "start_time": "2022-09-01T11:07:48.408Z"
   },
   {
    "duration": 17,
    "start_time": "2022-09-01T11:07:48.423Z"
   },
   {
    "duration": 269,
    "start_time": "2022-09-01T11:07:48.459Z"
   },
   {
    "duration": 15,
    "start_time": "2022-09-01T11:07:48.729Z"
   },
   {
    "duration": 14,
    "start_time": "2022-09-01T11:07:48.757Z"
   },
   {
    "duration": 12,
    "start_time": "2022-09-01T11:07:48.773Z"
   },
   {
    "duration": 25,
    "start_time": "2022-09-01T11:07:48.786Z"
   },
   {
    "duration": 1459,
    "start_time": "2022-09-01T11:07:48.813Z"
   },
   {
    "duration": 144,
    "start_time": "2022-09-01T11:07:50.274Z"
   },
   {
    "duration": 6,
    "start_time": "2022-09-01T11:07:50.420Z"
   },
   {
    "duration": 158,
    "start_time": "2022-09-01T11:07:50.428Z"
   },
   {
    "duration": 485,
    "start_time": "2022-09-01T11:07:50.588Z"
   },
   {
    "duration": 92,
    "start_time": "2022-09-01T11:09:43.230Z"
   },
   {
    "duration": 6,
    "start_time": "2022-09-01T11:22:55.677Z"
   },
   {
    "duration": 16,
    "start_time": "2022-09-01T11:23:10.185Z"
   },
   {
    "duration": 8,
    "start_time": "2022-09-01T11:23:25.287Z"
   },
   {
    "duration": 5,
    "start_time": "2022-09-01T11:23:34.241Z"
   },
   {
    "duration": 1522,
    "start_time": "2022-09-01T11:25:46.628Z"
   },
   {
    "duration": 1410,
    "start_time": "2022-09-01T11:27:06.512Z"
   },
   {
    "duration": 1042,
    "start_time": "2022-09-01T11:27:28.234Z"
   },
   {
    "duration": 1430,
    "start_time": "2022-09-01T11:27:56.511Z"
   },
   {
    "duration": 1292,
    "start_time": "2022-09-01T11:28:12.990Z"
   },
   {
    "duration": 365,
    "start_time": "2022-09-01T11:29:39.953Z"
   },
   {
    "duration": 1380,
    "start_time": "2022-09-01T11:30:27.036Z"
   },
   {
    "duration": 1612,
    "start_time": "2022-09-01T11:31:21.425Z"
   },
   {
    "duration": 60,
    "start_time": "2022-09-01T11:32:09.452Z"
   },
   {
    "duration": 1358,
    "start_time": "2022-09-01T11:32:16.893Z"
   },
   {
    "duration": 61,
    "start_time": "2022-09-01T11:32:35.509Z"
   },
   {
    "duration": 1422,
    "start_time": "2022-09-01T11:32:40.298Z"
   },
   {
    "duration": 1308,
    "start_time": "2022-09-01T11:32:46.092Z"
   },
   {
    "duration": 1411,
    "start_time": "2022-09-01T11:33:00.223Z"
   },
   {
    "duration": 1738,
    "start_time": "2022-09-01T11:33:10.048Z"
   },
   {
    "duration": 134,
    "start_time": "2022-09-01T11:34:00.843Z"
   },
   {
    "duration": 139,
    "start_time": "2022-09-01T11:34:07.763Z"
   },
   {
    "duration": 2,
    "start_time": "2022-09-01T11:34:17.291Z"
   },
   {
    "duration": 1272,
    "start_time": "2022-09-01T11:34:39.132Z"
   },
   {
    "duration": 1372,
    "start_time": "2022-09-01T11:35:33.141Z"
   },
   {
    "duration": 566,
    "start_time": "2022-09-01T13:57:05.068Z"
   },
   {
    "duration": 550,
    "start_time": "2022-09-01T13:57:05.637Z"
   },
   {
    "duration": 31,
    "start_time": "2022-09-01T13:57:06.189Z"
   },
   {
    "duration": 18,
    "start_time": "2022-09-01T13:57:06.222Z"
   },
   {
    "duration": 21,
    "start_time": "2022-09-01T13:57:06.243Z"
   },
   {
    "duration": 34,
    "start_time": "2022-09-01T13:57:06.266Z"
   },
   {
    "duration": 27,
    "start_time": "2022-09-01T13:57:06.302Z"
   },
   {
    "duration": 9,
    "start_time": "2022-09-01T13:57:06.330Z"
   },
   {
    "duration": 77,
    "start_time": "2022-09-01T13:57:06.341Z"
   },
   {
    "duration": 109,
    "start_time": "2022-09-01T13:57:06.421Z"
   },
   {
    "duration": 10,
    "start_time": "2022-09-01T13:57:06.532Z"
   },
   {
    "duration": 15,
    "start_time": "2022-09-01T13:57:06.547Z"
   },
   {
    "duration": 59,
    "start_time": "2022-09-01T13:57:06.565Z"
   },
   {
    "duration": 27,
    "start_time": "2022-09-01T13:57:06.627Z"
   },
   {
    "duration": 816,
    "start_time": "2022-09-01T13:57:06.656Z"
   },
   {
    "duration": 33,
    "start_time": "2022-09-01T13:57:07.474Z"
   },
   {
    "duration": 20,
    "start_time": "2022-09-01T13:57:07.511Z"
   },
   {
    "duration": 15,
    "start_time": "2022-09-01T13:57:07.533Z"
   },
   {
    "duration": 45,
    "start_time": "2022-09-01T13:57:07.550Z"
   },
   {
    "duration": 1824,
    "start_time": "2022-09-01T13:57:07.598Z"
   },
   {
    "duration": 199,
    "start_time": "2022-09-01T13:57:09.424Z"
   },
   {
    "duration": 9,
    "start_time": "2022-09-01T13:57:09.626Z"
   },
   {
    "duration": 180,
    "start_time": "2022-09-01T13:57:09.636Z"
   },
   {
    "duration": 3,
    "start_time": "2022-09-01T13:57:09.817Z"
   },
   {
    "duration": 18,
    "start_time": "2022-09-01T13:57:09.821Z"
   },
   {
    "duration": 1901,
    "start_time": "2022-09-01T13:57:09.841Z"
   },
   {
    "duration": 2245,
    "start_time": "2022-09-01T13:57:11.744Z"
   },
   {
    "duration": 13,
    "start_time": "2022-09-01T13:57:13.991Z"
   },
   {
    "duration": 97,
    "start_time": "2022-09-01T13:59:32.543Z"
   },
   {
    "duration": 106,
    "start_time": "2022-09-01T14:00:09.760Z"
   },
   {
    "duration": 5,
    "start_time": "2022-09-01T14:00:28.841Z"
   },
   {
    "duration": 12,
    "start_time": "2022-09-01T14:00:35.057Z"
   },
   {
    "duration": 9,
    "start_time": "2022-09-01T14:02:10.916Z"
   },
   {
    "duration": 14,
    "start_time": "2022-09-01T14:04:17.422Z"
   },
   {
    "duration": 10,
    "start_time": "2022-09-01T14:04:26.496Z"
   },
   {
    "duration": 9,
    "start_time": "2022-09-01T14:08:06.082Z"
   },
   {
    "duration": 9,
    "start_time": "2022-09-01T14:09:37.493Z"
   },
   {
    "duration": 55,
    "start_time": "2022-09-01T14:10:53.820Z"
   },
   {
    "duration": 80,
    "start_time": "2022-09-01T14:10:55.684Z"
   },
   {
    "duration": 76,
    "start_time": "2022-09-01T14:12:47.792Z"
   },
   {
    "duration": 60,
    "start_time": "2022-09-01T14:13:12.621Z"
   },
   {
    "duration": 62,
    "start_time": "2022-09-01T14:14:04.094Z"
   },
   {
    "duration": 3,
    "start_time": "2022-09-01T14:14:24.259Z"
   },
   {
    "duration": 42,
    "start_time": "2022-09-01T14:14:39.794Z"
   },
   {
    "duration": 45,
    "start_time": "2022-09-01T14:14:49.356Z"
   },
   {
    "duration": 35,
    "start_time": "2022-09-01T14:14:58.417Z"
   },
   {
    "duration": 2,
    "start_time": "2022-09-01T14:22:45.086Z"
   },
   {
    "duration": 4,
    "start_time": "2022-09-01T14:23:50.006Z"
   },
   {
    "duration": 7,
    "start_time": "2022-09-01T14:23:56.434Z"
   },
   {
    "duration": 166,
    "start_time": "2022-09-01T14:25:04.151Z"
   },
   {
    "duration": 15,
    "start_time": "2022-09-01T14:25:08.670Z"
   },
   {
    "duration": 7,
    "start_time": "2022-09-01T14:26:55.296Z"
   },
   {
    "duration": 11,
    "start_time": "2022-09-01T14:27:12.594Z"
   },
   {
    "duration": 8,
    "start_time": "2022-09-01T14:27:17.597Z"
   },
   {
    "duration": 7,
    "start_time": "2022-09-01T14:28:37.825Z"
   },
   {
    "duration": 7,
    "start_time": "2022-09-01T14:28:46.420Z"
   },
   {
    "duration": 5,
    "start_time": "2022-09-01T14:28:55.908Z"
   },
   {
    "duration": 21,
    "start_time": "2022-09-01T14:29:10.768Z"
   },
   {
    "duration": 6,
    "start_time": "2022-09-01T14:30:59.009Z"
   },
   {
    "duration": 11,
    "start_time": "2022-09-01T14:32:22.643Z"
   },
   {
    "duration": 555,
    "start_time": "2022-09-01T14:36:45.688Z"
   },
   {
    "duration": 6,
    "start_time": "2022-09-01T14:37:31.542Z"
   },
   {
    "duration": 457,
    "start_time": "2022-09-01T16:47:35.317Z"
   },
   {
    "duration": 109,
    "start_time": "2022-09-01T16:47:35.776Z"
   },
   {
    "duration": 31,
    "start_time": "2022-09-01T16:47:35.887Z"
   },
   {
    "duration": 13,
    "start_time": "2022-09-01T16:47:35.919Z"
   },
   {
    "duration": 15,
    "start_time": "2022-09-01T16:47:35.935Z"
   },
   {
    "duration": 42,
    "start_time": "2022-09-01T16:47:35.952Z"
   },
   {
    "duration": 29,
    "start_time": "2022-09-01T16:47:35.996Z"
   },
   {
    "duration": 8,
    "start_time": "2022-09-01T16:47:36.026Z"
   },
   {
    "duration": 50,
    "start_time": "2022-09-01T16:47:36.036Z"
   },
   {
    "duration": 68,
    "start_time": "2022-09-01T16:47:36.088Z"
   },
   {
    "duration": 7,
    "start_time": "2022-09-01T16:47:36.157Z"
   },
   {
    "duration": 36,
    "start_time": "2022-09-01T16:47:36.165Z"
   },
   {
    "duration": 18,
    "start_time": "2022-09-01T16:47:36.203Z"
   },
   {
    "duration": 22,
    "start_time": "2022-09-01T16:47:36.224Z"
   },
   {
    "duration": 618,
    "start_time": "2022-09-01T16:47:36.247Z"
   },
   {
    "duration": 18,
    "start_time": "2022-09-01T16:47:36.867Z"
   },
   {
    "duration": 21,
    "start_time": "2022-09-01T16:47:36.887Z"
   },
   {
    "duration": 15,
    "start_time": "2022-09-01T16:47:36.909Z"
   },
   {
    "duration": 25,
    "start_time": "2022-09-01T16:47:36.926Z"
   },
   {
    "duration": 1662,
    "start_time": "2022-09-01T16:47:36.953Z"
   },
   {
    "duration": 168,
    "start_time": "2022-09-01T16:47:38.617Z"
   },
   {
    "duration": 13,
    "start_time": "2022-09-01T16:47:38.787Z"
   },
   {
    "duration": 159,
    "start_time": "2022-09-01T16:47:38.802Z"
   },
   {
    "duration": 2,
    "start_time": "2022-09-01T16:47:38.963Z"
   },
   {
    "duration": 28,
    "start_time": "2022-09-01T16:47:38.967Z"
   },
   {
    "duration": 1704,
    "start_time": "2022-09-01T16:47:39.000Z"
   },
   {
    "duration": 1524,
    "start_time": "2022-09-01T16:47:40.706Z"
   },
   {
    "duration": 6,
    "start_time": "2022-09-01T16:47:42.231Z"
   },
   {
    "duration": 61,
    "start_time": "2022-09-01T16:47:42.239Z"
   },
   {
    "duration": 0,
    "start_time": "2022-09-01T16:47:42.302Z"
   },
   {
    "duration": 0,
    "start_time": "2022-09-01T16:47:42.303Z"
   },
   {
    "duration": 0,
    "start_time": "2022-09-01T16:47:42.306Z"
   },
   {
    "duration": 0,
    "start_time": "2022-09-01T16:47:42.307Z"
   },
   {
    "duration": 3,
    "start_time": "2022-09-01T16:47:48.722Z"
   },
   {
    "duration": 66,
    "start_time": "2022-09-01T16:47:48.727Z"
   },
   {
    "duration": 19,
    "start_time": "2022-09-01T16:47:48.795Z"
   },
   {
    "duration": 17,
    "start_time": "2022-09-01T16:47:48.817Z"
   },
   {
    "duration": 14,
    "start_time": "2022-09-01T16:47:48.835Z"
   },
   {
    "duration": 44,
    "start_time": "2022-09-01T16:47:48.851Z"
   },
   {
    "duration": 26,
    "start_time": "2022-09-01T16:47:48.897Z"
   },
   {
    "duration": 8,
    "start_time": "2022-09-01T16:47:48.925Z"
   },
   {
    "duration": 61,
    "start_time": "2022-09-01T16:47:48.936Z"
   },
   {
    "duration": 25,
    "start_time": "2022-09-01T16:47:48.999Z"
   },
   {
    "duration": 7,
    "start_time": "2022-09-01T16:47:49.025Z"
   },
   {
    "duration": 13,
    "start_time": "2022-09-01T16:47:49.034Z"
   },
   {
    "duration": 36,
    "start_time": "2022-09-01T16:47:49.049Z"
   },
   {
    "duration": 35,
    "start_time": "2022-09-01T16:47:49.089Z"
   },
   {
    "duration": 301,
    "start_time": "2022-09-01T16:47:49.126Z"
   },
   {
    "duration": 17,
    "start_time": "2022-09-01T16:47:49.428Z"
   },
   {
    "duration": 5,
    "start_time": "2022-09-01T16:47:49.447Z"
   },
   {
    "duration": 11,
    "start_time": "2022-09-01T16:47:49.453Z"
   },
   {
    "duration": 47,
    "start_time": "2022-09-01T16:47:49.466Z"
   },
   {
    "duration": 1668,
    "start_time": "2022-09-01T16:47:49.515Z"
   },
   {
    "duration": 176,
    "start_time": "2022-09-01T16:47:51.185Z"
   },
   {
    "duration": 8,
    "start_time": "2022-09-01T16:47:51.364Z"
   },
   {
    "duration": 159,
    "start_time": "2022-09-01T16:47:51.388Z"
   },
   {
    "duration": 2,
    "start_time": "2022-09-01T16:47:51.551Z"
   },
   {
    "duration": 12,
    "start_time": "2022-09-01T16:47:51.555Z"
   },
   {
    "duration": 1752,
    "start_time": "2022-09-01T16:47:51.569Z"
   },
   {
    "duration": 1603,
    "start_time": "2022-09-01T16:47:53.324Z"
   },
   {
    "duration": 7,
    "start_time": "2022-09-01T16:47:54.929Z"
   },
   {
    "duration": 44,
    "start_time": "2022-09-01T16:47:54.937Z"
   },
   {
    "duration": 0,
    "start_time": "2022-09-01T16:47:54.983Z"
   },
   {
    "duration": 0,
    "start_time": "2022-09-01T16:47:54.988Z"
   },
   {
    "duration": 0,
    "start_time": "2022-09-01T16:47:54.993Z"
   },
   {
    "duration": 0,
    "start_time": "2022-09-01T16:47:54.996Z"
   },
   {
    "duration": 10,
    "start_time": "2022-09-01T16:48:02.146Z"
   },
   {
    "duration": 14,
    "start_time": "2022-09-01T16:48:04.884Z"
   },
   {
    "duration": 4,
    "start_time": "2022-09-01T16:48:07.201Z"
   },
   {
    "duration": 4,
    "start_time": "2022-09-01T16:48:45.537Z"
   },
   {
    "duration": 5,
    "start_time": "2022-09-01T16:50:42.348Z"
   },
   {
    "duration": 10,
    "start_time": "2022-09-01T16:51:12.218Z"
   },
   {
    "duration": 10,
    "start_time": "2022-09-01T16:52:12.161Z"
   },
   {
    "duration": 7,
    "start_time": "2022-09-01T16:59:25.732Z"
   },
   {
    "duration": 7,
    "start_time": "2022-09-01T16:59:31.602Z"
   },
   {
    "duration": 8,
    "start_time": "2022-09-01T16:59:36.354Z"
   },
   {
    "duration": 8,
    "start_time": "2022-09-01T17:00:15.036Z"
   },
   {
    "duration": 9,
    "start_time": "2022-09-01T17:00:30.428Z"
   },
   {
    "duration": 10,
    "start_time": "2022-09-01T17:00:41.224Z"
   },
   {
    "duration": 8,
    "start_time": "2022-09-01T17:00:59.712Z"
   },
   {
    "duration": 7,
    "start_time": "2022-09-01T17:01:09.467Z"
   },
   {
    "duration": 8,
    "start_time": "2022-09-01T17:01:13.840Z"
   },
   {
    "duration": 9,
    "start_time": "2022-09-01T17:01:14.655Z"
   },
   {
    "duration": 8,
    "start_time": "2022-09-01T17:02:41.724Z"
   },
   {
    "duration": 128,
    "start_time": "2022-09-01T17:04:26.281Z"
   },
   {
    "duration": 206,
    "start_time": "2022-09-01T17:08:07.304Z"
   },
   {
    "duration": 7,
    "start_time": "2022-09-01T17:14:05.522Z"
   },
   {
    "duration": 104,
    "start_time": "2022-09-01T17:20:29.657Z"
   },
   {
    "duration": 561,
    "start_time": "2022-09-01T17:20:49.331Z"
   },
   {
    "duration": 65,
    "start_time": "2022-09-01T17:20:49.897Z"
   },
   {
    "duration": 19,
    "start_time": "2022-09-01T17:20:49.964Z"
   },
   {
    "duration": 58,
    "start_time": "2022-09-01T17:20:49.994Z"
   },
   {
    "duration": 14,
    "start_time": "2022-09-01T17:20:50.054Z"
   },
   {
    "duration": 48,
    "start_time": "2022-09-01T17:20:50.070Z"
   },
   {
    "duration": 51,
    "start_time": "2022-09-01T17:20:50.130Z"
   },
   {
    "duration": 14,
    "start_time": "2022-09-01T17:20:50.183Z"
   },
   {
    "duration": 72,
    "start_time": "2022-09-01T17:20:50.200Z"
   },
   {
    "duration": 43,
    "start_time": "2022-09-01T17:20:50.273Z"
   },
   {
    "duration": 21,
    "start_time": "2022-09-01T17:20:50.318Z"
   },
   {
    "duration": 10,
    "start_time": "2022-09-01T17:20:50.341Z"
   },
   {
    "duration": 12,
    "start_time": "2022-09-01T17:20:50.352Z"
   },
   {
    "duration": 26,
    "start_time": "2022-09-01T17:20:50.367Z"
   },
   {
    "duration": 333,
    "start_time": "2022-09-01T17:20:50.399Z"
   },
   {
    "duration": 17,
    "start_time": "2022-09-01T17:20:50.734Z"
   },
   {
    "duration": 7,
    "start_time": "2022-09-01T17:20:50.753Z"
   },
   {
    "duration": 28,
    "start_time": "2022-09-01T17:20:50.762Z"
   },
   {
    "duration": 34,
    "start_time": "2022-09-01T17:20:50.791Z"
   },
   {
    "duration": 1889,
    "start_time": "2022-09-01T17:20:50.827Z"
   },
   {
    "duration": 190,
    "start_time": "2022-09-01T17:20:52.723Z"
   },
   {
    "duration": 15,
    "start_time": "2022-09-01T17:20:52.915Z"
   },
   {
    "duration": 196,
    "start_time": "2022-09-01T17:20:52.937Z"
   },
   {
    "duration": 4,
    "start_time": "2022-09-01T17:20:53.138Z"
   },
   {
    "duration": 13,
    "start_time": "2022-09-01T17:20:53.145Z"
   },
   {
    "duration": 1909,
    "start_time": "2022-09-01T17:20:53.160Z"
   },
   {
    "duration": 1848,
    "start_time": "2022-09-01T17:20:55.071Z"
   },
   {
    "duration": 15,
    "start_time": "2022-09-01T17:20:56.921Z"
   },
   {
    "duration": 72,
    "start_time": "2022-09-01T17:20:56.940Z"
   },
   {
    "duration": 0,
    "start_time": "2022-09-01T17:20:57.014Z"
   },
   {
    "duration": 0,
    "start_time": "2022-09-01T17:20:57.016Z"
   },
   {
    "duration": 0,
    "start_time": "2022-09-01T17:20:57.017Z"
   },
   {
    "duration": 0,
    "start_time": "2022-09-01T17:20:57.020Z"
   },
   {
    "duration": 0,
    "start_time": "2022-09-01T17:20:57.024Z"
   },
   {
    "duration": 0,
    "start_time": "2022-09-01T17:20:57.025Z"
   },
   {
    "duration": 0,
    "start_time": "2022-09-01T17:20:57.026Z"
   },
   {
    "duration": 0,
    "start_time": "2022-09-01T17:20:57.029Z"
   },
   {
    "duration": 0,
    "start_time": "2022-09-01T17:20:57.031Z"
   },
   {
    "duration": 0,
    "start_time": "2022-09-01T17:20:57.032Z"
   },
   {
    "duration": 0,
    "start_time": "2022-09-01T17:20:57.033Z"
   },
   {
    "duration": 104,
    "start_time": "2022-09-01T17:21:04.581Z"
   },
   {
    "duration": 4,
    "start_time": "2022-09-01T17:21:17.431Z"
   },
   {
    "duration": 86,
    "start_time": "2022-09-01T17:21:17.437Z"
   },
   {
    "duration": 21,
    "start_time": "2022-09-01T17:21:17.527Z"
   },
   {
    "duration": 23,
    "start_time": "2022-09-01T17:21:17.550Z"
   },
   {
    "duration": 45,
    "start_time": "2022-09-01T17:21:17.577Z"
   },
   {
    "duration": 24,
    "start_time": "2022-09-01T17:21:17.624Z"
   },
   {
    "duration": 21,
    "start_time": "2022-09-01T17:21:17.650Z"
   },
   {
    "duration": 16,
    "start_time": "2022-09-01T17:21:17.672Z"
   },
   {
    "duration": 78,
    "start_time": "2022-09-01T17:21:17.693Z"
   },
   {
    "duration": 39,
    "start_time": "2022-09-01T17:21:17.773Z"
   },
   {
    "duration": 19,
    "start_time": "2022-09-01T17:21:17.814Z"
   },
   {
    "duration": 15,
    "start_time": "2022-09-01T17:21:17.835Z"
   },
   {
    "duration": 10,
    "start_time": "2022-09-01T17:21:17.854Z"
   },
   {
    "duration": 29,
    "start_time": "2022-09-01T17:21:17.866Z"
   },
   {
    "duration": 367,
    "start_time": "2022-09-01T17:21:17.897Z"
   },
   {
    "duration": 29,
    "start_time": "2022-09-01T17:21:18.266Z"
   },
   {
    "duration": 15,
    "start_time": "2022-09-01T17:21:18.298Z"
   },
   {
    "duration": 19,
    "start_time": "2022-09-01T17:21:18.319Z"
   },
   {
    "duration": 32,
    "start_time": "2022-09-01T17:21:18.340Z"
   },
   {
    "duration": 1935,
    "start_time": "2022-09-01T17:21:18.374Z"
   },
   {
    "duration": 185,
    "start_time": "2022-09-01T17:21:20.313Z"
   },
   {
    "duration": 16,
    "start_time": "2022-09-01T17:21:20.505Z"
   },
   {
    "duration": 209,
    "start_time": "2022-09-01T17:21:20.524Z"
   },
   {
    "duration": 4,
    "start_time": "2022-09-01T17:21:20.735Z"
   },
   {
    "duration": 11,
    "start_time": "2022-09-01T17:21:20.741Z"
   },
   {
    "duration": 2016,
    "start_time": "2022-09-01T17:21:20.754Z"
   },
   {
    "duration": 1792,
    "start_time": "2022-09-01T17:21:22.773Z"
   },
   {
    "duration": 10,
    "start_time": "2022-09-01T17:21:24.568Z"
   },
   {
    "duration": 99,
    "start_time": "2022-09-01T17:21:24.589Z"
   },
   {
    "duration": 1,
    "start_time": "2022-09-01T17:21:24.695Z"
   },
   {
    "duration": 0,
    "start_time": "2022-09-01T17:21:24.705Z"
   },
   {
    "duration": 0,
    "start_time": "2022-09-01T17:21:24.711Z"
   },
   {
    "duration": 0,
    "start_time": "2022-09-01T17:21:24.713Z"
   },
   {
    "duration": 0,
    "start_time": "2022-09-01T17:21:24.714Z"
   },
   {
    "duration": 0,
    "start_time": "2022-09-01T17:21:24.715Z"
   },
   {
    "duration": 0,
    "start_time": "2022-09-01T17:21:24.723Z"
   },
   {
    "duration": 0,
    "start_time": "2022-09-01T17:21:24.731Z"
   },
   {
    "duration": 0,
    "start_time": "2022-09-01T17:21:24.739Z"
   },
   {
    "duration": 0,
    "start_time": "2022-09-01T17:21:24.740Z"
   },
   {
    "duration": 0,
    "start_time": "2022-09-01T17:21:24.741Z"
   },
   {
    "duration": 10,
    "start_time": "2022-09-01T17:21:31.735Z"
   },
   {
    "duration": 9,
    "start_time": "2022-09-01T17:21:35.725Z"
   },
   {
    "duration": 10,
    "start_time": "2022-09-01T17:21:38.054Z"
   },
   {
    "duration": 20,
    "start_time": "2022-09-01T17:21:42.053Z"
   },
   {
    "duration": 42,
    "start_time": "2022-09-01T17:22:19.192Z"
   },
   {
    "duration": 17,
    "start_time": "2022-09-01T17:23:46.360Z"
   },
   {
    "duration": 53,
    "start_time": "2022-09-01T17:24:25.573Z"
   },
   {
    "duration": 4,
    "start_time": "2022-09-01T17:25:19.533Z"
   },
   {
    "duration": 74,
    "start_time": "2022-09-01T17:25:19.540Z"
   },
   {
    "duration": 28,
    "start_time": "2022-09-01T17:25:19.617Z"
   },
   {
    "duration": 54,
    "start_time": "2022-09-01T17:25:19.649Z"
   },
   {
    "duration": 38,
    "start_time": "2022-09-01T17:25:19.705Z"
   },
   {
    "duration": 21,
    "start_time": "2022-09-01T17:25:19.745Z"
   },
   {
    "duration": 74,
    "start_time": "2022-09-01T17:25:19.768Z"
   },
   {
    "duration": 12,
    "start_time": "2022-09-01T17:25:19.844Z"
   },
   {
    "duration": 79,
    "start_time": "2022-09-01T17:25:19.858Z"
   },
   {
    "duration": 31,
    "start_time": "2022-09-01T17:25:19.940Z"
   },
   {
    "duration": 49,
    "start_time": "2022-09-01T17:25:19.973Z"
   },
   {
    "duration": 27,
    "start_time": "2022-09-01T17:25:20.025Z"
   },
   {
    "duration": 84,
    "start_time": "2022-09-01T17:25:20.054Z"
   },
   {
    "duration": 31,
    "start_time": "2022-09-01T17:25:20.140Z"
   },
   {
    "duration": 372,
    "start_time": "2022-09-01T17:25:20.173Z"
   },
   {
    "duration": 19,
    "start_time": "2022-09-01T17:25:20.547Z"
   },
   {
    "duration": 22,
    "start_time": "2022-09-01T17:25:20.568Z"
   },
   {
    "duration": 46,
    "start_time": "2022-09-01T17:25:20.593Z"
   },
   {
    "duration": 61,
    "start_time": "2022-09-01T17:25:20.641Z"
   },
   {
    "duration": 2065,
    "start_time": "2022-09-01T17:25:20.704Z"
   },
   {
    "duration": 195,
    "start_time": "2022-09-01T17:25:22.772Z"
   },
   {
    "duration": 22,
    "start_time": "2022-09-01T17:25:22.969Z"
   },
   {
    "duration": 250,
    "start_time": "2022-09-01T17:25:22.994Z"
   },
   {
    "duration": 3,
    "start_time": "2022-09-01T17:25:23.246Z"
   },
   {
    "duration": 22,
    "start_time": "2022-09-01T17:25:23.250Z"
   },
   {
    "duration": 2116,
    "start_time": "2022-09-01T17:25:23.274Z"
   },
   {
    "duration": 1776,
    "start_time": "2022-09-01T17:25:25.392Z"
   },
   {
    "duration": 22,
    "start_time": "2022-09-01T17:25:27.172Z"
   },
   {
    "duration": 24,
    "start_time": "2022-09-01T17:25:27.199Z"
   },
   {
    "duration": 41,
    "start_time": "2022-09-01T17:25:27.225Z"
   },
   {
    "duration": 9,
    "start_time": "2022-09-01T17:25:27.268Z"
   },
   {
    "duration": 22,
    "start_time": "2022-09-01T17:25:27.279Z"
   },
   {
    "duration": 27,
    "start_time": "2022-09-01T17:25:27.303Z"
   },
   {
    "duration": 13,
    "start_time": "2022-09-01T17:25:27.333Z"
   },
   {
    "duration": 12,
    "start_time": "2022-09-01T17:25:27.349Z"
   },
   {
    "duration": 12,
    "start_time": "2022-09-01T17:25:27.363Z"
   },
   {
    "duration": 21,
    "start_time": "2022-09-01T17:25:27.376Z"
   },
   {
    "duration": 35,
    "start_time": "2022-09-01T17:25:27.399Z"
   },
   {
    "duration": 12,
    "start_time": "2022-09-01T17:25:27.436Z"
   },
   {
    "duration": 18,
    "start_time": "2022-09-01T17:25:27.450Z"
   },
   {
    "duration": 21,
    "start_time": "2022-09-01T17:26:49.723Z"
   },
   {
    "duration": 13,
    "start_time": "2022-09-01T17:28:17.209Z"
   },
   {
    "duration": 7,
    "start_time": "2022-09-01T17:28:24.440Z"
   },
   {
    "duration": 18,
    "start_time": "2022-09-01T17:28:27.211Z"
   },
   {
    "duration": 17,
    "start_time": "2022-09-01T17:30:31.838Z"
   },
   {
    "duration": 17,
    "start_time": "2022-09-01T17:30:43.054Z"
   },
   {
    "duration": 15,
    "start_time": "2022-09-01T17:32:12.883Z"
   },
   {
    "duration": 15,
    "start_time": "2022-09-01T17:32:15.721Z"
   },
   {
    "duration": 15,
    "start_time": "2022-09-01T17:32:48.516Z"
   },
   {
    "duration": 20,
    "start_time": "2022-09-01T17:32:54.233Z"
   },
   {
    "duration": 895,
    "start_time": "2022-09-02T18:54:34.612Z"
   },
   {
    "duration": 95,
    "start_time": "2022-09-02T18:54:35.509Z"
   },
   {
    "duration": 22,
    "start_time": "2022-09-02T18:54:35.606Z"
   },
   {
    "duration": 30,
    "start_time": "2022-09-02T18:54:35.630Z"
   },
   {
    "duration": 56,
    "start_time": "2022-09-02T18:54:35.661Z"
   },
   {
    "duration": 23,
    "start_time": "2022-09-02T18:54:35.719Z"
   },
   {
    "duration": 29,
    "start_time": "2022-09-02T18:54:35.744Z"
   },
   {
    "duration": 18,
    "start_time": "2022-09-02T18:54:35.775Z"
   },
   {
    "duration": 49,
    "start_time": "2022-09-02T18:54:35.795Z"
   },
   {
    "duration": 20,
    "start_time": "2022-09-02T18:54:35.847Z"
   },
   {
    "duration": 11,
    "start_time": "2022-09-02T18:54:35.869Z"
   },
   {
    "duration": 29,
    "start_time": "2022-09-02T18:54:35.881Z"
   },
   {
    "duration": 30,
    "start_time": "2022-09-02T18:54:35.911Z"
   },
   {
    "duration": 25,
    "start_time": "2022-09-02T18:54:35.942Z"
   },
   {
    "duration": 560,
    "start_time": "2022-09-02T18:54:35.968Z"
   },
   {
    "duration": 19,
    "start_time": "2022-09-02T18:54:36.530Z"
   },
   {
    "duration": 19,
    "start_time": "2022-09-02T18:54:36.550Z"
   },
   {
    "duration": 33,
    "start_time": "2022-09-02T18:54:36.570Z"
   },
   {
    "duration": 36,
    "start_time": "2022-09-02T18:54:36.605Z"
   },
   {
    "duration": 1355,
    "start_time": "2022-09-02T18:54:36.642Z"
   },
   {
    "duration": 151,
    "start_time": "2022-09-02T18:54:37.998Z"
   },
   {
    "duration": 7,
    "start_time": "2022-09-02T18:54:38.150Z"
   },
   {
    "duration": 131,
    "start_time": "2022-09-02T18:54:38.158Z"
   },
   {
    "duration": 2,
    "start_time": "2022-09-02T18:54:38.291Z"
   },
   {
    "duration": 12,
    "start_time": "2022-09-02T18:54:38.294Z"
   },
   {
    "duration": 1285,
    "start_time": "2022-09-02T18:54:38.308Z"
   },
   {
    "duration": 1245,
    "start_time": "2022-09-02T18:54:39.594Z"
   },
   {
    "duration": 5,
    "start_time": "2022-09-02T18:54:40.842Z"
   },
   {
    "duration": 8,
    "start_time": "2022-09-02T18:54:40.849Z"
   },
   {
    "duration": 26,
    "start_time": "2022-09-02T18:54:40.858Z"
   },
   {
    "duration": 6,
    "start_time": "2022-09-02T18:54:40.886Z"
   },
   {
    "duration": 5,
    "start_time": "2022-09-02T18:54:40.894Z"
   },
   {
    "duration": 6,
    "start_time": "2022-09-02T18:54:40.901Z"
   },
   {
    "duration": 7,
    "start_time": "2022-09-02T18:54:40.937Z"
   },
   {
    "duration": 10,
    "start_time": "2022-09-02T18:54:40.945Z"
   },
   {
    "duration": 10,
    "start_time": "2022-09-02T18:54:40.957Z"
   },
   {
    "duration": 5,
    "start_time": "2022-09-02T18:54:40.969Z"
   },
   {
    "duration": 7,
    "start_time": "2022-09-02T18:54:40.975Z"
   },
   {
    "duration": 5,
    "start_time": "2022-09-02T18:54:40.984Z"
   },
   {
    "duration": 109,
    "start_time": "2022-09-02T18:54:40.990Z"
   },
   {
    "duration": 0,
    "start_time": "2022-09-02T18:54:41.100Z"
   },
   {
    "duration": 0,
    "start_time": "2022-09-02T18:54:41.101Z"
   },
   {
    "duration": 5,
    "start_time": "2022-09-02T18:56:09.203Z"
   },
   {
    "duration": 8,
    "start_time": "2022-09-02T18:56:26.771Z"
   },
   {
    "duration": 1153,
    "start_time": "2022-09-02T18:56:46.026Z"
   },
   {
    "duration": 7,
    "start_time": "2022-09-02T18:57:08.126Z"
   },
   {
    "duration": 8,
    "start_time": "2022-09-02T18:57:13.172Z"
   },
   {
    "duration": 10,
    "start_time": "2022-09-02T18:57:39.061Z"
   },
   {
    "duration": 6,
    "start_time": "2022-09-02T18:58:04.018Z"
   },
   {
    "duration": 11,
    "start_time": "2022-09-02T18:59:57.339Z"
   },
   {
    "duration": 3,
    "start_time": "2022-09-02T19:00:09.131Z"
   },
   {
    "duration": 9,
    "start_time": "2022-09-02T19:01:05.306Z"
   },
   {
    "duration": 815,
    "start_time": "2022-09-02T19:01:25.604Z"
   },
   {
    "duration": 53,
    "start_time": "2022-09-02T19:01:26.421Z"
   },
   {
    "duration": 22,
    "start_time": "2022-09-02T19:01:26.476Z"
   },
   {
    "duration": 13,
    "start_time": "2022-09-02T19:01:26.499Z"
   },
   {
    "duration": 17,
    "start_time": "2022-09-02T19:01:26.514Z"
   },
   {
    "duration": 16,
    "start_time": "2022-09-02T19:01:26.533Z"
   },
   {
    "duration": 18,
    "start_time": "2022-09-02T19:01:26.551Z"
   },
   {
    "duration": 6,
    "start_time": "2022-09-02T19:01:26.571Z"
   },
   {
    "duration": 38,
    "start_time": "2022-09-02T19:01:26.579Z"
   },
   {
    "duration": 35,
    "start_time": "2022-09-02T19:01:26.618Z"
   },
   {
    "duration": 6,
    "start_time": "2022-09-02T19:01:26.654Z"
   },
   {
    "duration": 14,
    "start_time": "2022-09-02T19:01:26.662Z"
   },
   {
    "duration": 11,
    "start_time": "2022-09-02T19:01:26.677Z"
   },
   {
    "duration": 26,
    "start_time": "2022-09-02T19:01:26.690Z"
   },
   {
    "duration": 407,
    "start_time": "2022-09-02T19:01:26.717Z"
   },
   {
    "duration": 21,
    "start_time": "2022-09-02T19:01:27.126Z"
   },
   {
    "duration": 4,
    "start_time": "2022-09-02T19:01:27.148Z"
   },
   {
    "duration": 11,
    "start_time": "2022-09-02T19:01:27.153Z"
   },
   {
    "duration": 25,
    "start_time": "2022-09-02T19:01:27.166Z"
   },
   {
    "duration": 1277,
    "start_time": "2022-09-02T19:01:27.193Z"
   },
   {
    "duration": 220,
    "start_time": "2022-09-02T19:01:28.471Z"
   },
   {
    "duration": 7,
    "start_time": "2022-09-02T19:01:28.693Z"
   },
   {
    "duration": 145,
    "start_time": "2022-09-02T19:01:28.701Z"
   },
   {
    "duration": 9,
    "start_time": "2022-09-02T19:01:28.848Z"
   },
   {
    "duration": 26,
    "start_time": "2022-09-02T19:01:28.858Z"
   },
   {
    "duration": 1279,
    "start_time": "2022-09-02T19:01:28.887Z"
   },
   {
    "duration": 1258,
    "start_time": "2022-09-02T19:01:30.168Z"
   },
   {
    "duration": 11,
    "start_time": "2022-09-02T19:01:31.428Z"
   },
   {
    "duration": 20,
    "start_time": "2022-09-02T19:01:31.440Z"
   },
   {
    "duration": 31,
    "start_time": "2022-09-02T19:01:31.461Z"
   },
   {
    "duration": 6,
    "start_time": "2022-09-02T19:01:31.493Z"
   },
   {
    "duration": 16,
    "start_time": "2022-09-02T19:01:31.500Z"
   },
   {
    "duration": 14,
    "start_time": "2022-09-02T19:01:31.517Z"
   },
   {
    "duration": 29,
    "start_time": "2022-09-02T19:01:31.532Z"
   },
   {
    "duration": 10,
    "start_time": "2022-09-02T19:01:31.562Z"
   },
   {
    "duration": 9,
    "start_time": "2022-09-02T19:01:31.573Z"
   },
   {
    "duration": 6,
    "start_time": "2022-09-02T19:01:31.583Z"
   },
   {
    "duration": 18,
    "start_time": "2022-09-02T19:01:31.590Z"
   },
   {
    "duration": 5,
    "start_time": "2022-09-02T19:01:31.609Z"
   },
   {
    "duration": 8,
    "start_time": "2022-09-02T19:01:31.615Z"
   },
   {
    "duration": 7,
    "start_time": "2022-09-02T19:01:31.625Z"
   },
   {
    "duration": 10,
    "start_time": "2022-09-02T19:01:31.634Z"
   },
   {
    "duration": 23,
    "start_time": "2022-09-02T19:02:03.523Z"
   },
   {
    "duration": 8,
    "start_time": "2022-09-02T19:02:26.126Z"
   },
   {
    "duration": 8,
    "start_time": "2022-09-02T19:04:31.193Z"
   },
   {
    "duration": 8,
    "start_time": "2022-09-02T19:04:35.163Z"
   },
   {
    "duration": 8,
    "start_time": "2022-09-02T19:04:44.315Z"
   },
   {
    "duration": 77,
    "start_time": "2022-09-02T19:12:43.999Z"
   },
   {
    "duration": 9,
    "start_time": "2022-09-02T19:17:19.347Z"
   },
   {
    "duration": 8,
    "start_time": "2022-09-02T19:23:00.035Z"
   },
   {
    "duration": 9,
    "start_time": "2022-09-02T19:24:00.127Z"
   },
   {
    "duration": 1184,
    "start_time": "2022-09-02T20:13:06.675Z"
   },
   {
    "duration": 48,
    "start_time": "2022-09-02T20:14:23.163Z"
   },
   {
    "duration": 1166,
    "start_time": "2022-09-02T20:14:34.784Z"
   },
   {
    "duration": 1297,
    "start_time": "2022-09-02T20:16:30.945Z"
   },
   {
    "duration": 3,
    "start_time": "2022-09-02T20:37:40.176Z"
   },
   {
    "duration": 61,
    "start_time": "2022-09-02T20:37:40.181Z"
   },
   {
    "duration": 28,
    "start_time": "2022-09-02T20:37:40.243Z"
   },
   {
    "duration": 19,
    "start_time": "2022-09-02T20:37:40.273Z"
   },
   {
    "duration": 18,
    "start_time": "2022-09-02T20:37:40.294Z"
   },
   {
    "duration": 49,
    "start_time": "2022-09-02T20:37:40.314Z"
   },
   {
    "duration": 19,
    "start_time": "2022-09-02T20:37:40.365Z"
   },
   {
    "duration": 8,
    "start_time": "2022-09-02T20:37:40.385Z"
   },
   {
    "duration": 75,
    "start_time": "2022-09-02T20:37:40.396Z"
   },
   {
    "duration": 22,
    "start_time": "2022-09-02T20:37:40.473Z"
   },
   {
    "duration": 6,
    "start_time": "2022-09-02T20:37:40.496Z"
   },
   {
    "duration": 9,
    "start_time": "2022-09-02T20:37:40.503Z"
   },
   {
    "duration": 37,
    "start_time": "2022-09-02T20:37:40.514Z"
   },
   {
    "duration": 27,
    "start_time": "2022-09-02T20:37:40.554Z"
   },
   {
    "duration": 286,
    "start_time": "2022-09-02T20:37:40.582Z"
   },
   {
    "duration": 14,
    "start_time": "2022-09-02T20:37:40.869Z"
   },
   {
    "duration": 4,
    "start_time": "2022-09-02T20:37:40.885Z"
   },
   {
    "duration": 9,
    "start_time": "2022-09-02T20:37:40.891Z"
   },
   {
    "duration": 43,
    "start_time": "2022-09-02T20:37:40.902Z"
   },
   {
    "duration": 1485,
    "start_time": "2022-09-02T20:37:40.947Z"
   },
   {
    "duration": 159,
    "start_time": "2022-09-02T20:37:42.433Z"
   },
   {
    "duration": 7,
    "start_time": "2022-09-02T20:37:42.593Z"
   },
   {
    "duration": 146,
    "start_time": "2022-09-02T20:37:42.601Z"
   },
   {
    "duration": 11,
    "start_time": "2022-09-02T20:37:42.753Z"
   },
   {
    "duration": 7,
    "start_time": "2022-09-02T20:37:42.766Z"
   },
   {
    "duration": 1502,
    "start_time": "2022-09-02T20:37:42.775Z"
   },
   {
    "duration": 1382,
    "start_time": "2022-09-02T20:37:44.278Z"
   },
   {
    "duration": 6,
    "start_time": "2022-09-02T20:37:45.662Z"
   },
   {
    "duration": 8,
    "start_time": "2022-09-02T20:37:45.670Z"
   },
   {
    "duration": 32,
    "start_time": "2022-09-02T20:37:45.680Z"
   },
   {
    "duration": 40,
    "start_time": "2022-09-02T20:37:45.713Z"
   },
   {
    "duration": 13,
    "start_time": "2022-09-02T20:37:45.755Z"
   },
   {
    "duration": 9,
    "start_time": "2022-09-02T20:37:45.770Z"
   },
   {
    "duration": 8,
    "start_time": "2022-09-02T20:37:45.780Z"
   },
   {
    "duration": 9,
    "start_time": "2022-09-02T20:37:45.790Z"
   },
   {
    "duration": 8,
    "start_time": "2022-09-02T20:37:45.801Z"
   },
   {
    "duration": 5,
    "start_time": "2022-09-02T20:37:45.811Z"
   },
   {
    "duration": 31,
    "start_time": "2022-09-02T20:37:45.817Z"
   },
   {
    "duration": 10,
    "start_time": "2022-09-02T20:37:45.850Z"
   },
   {
    "duration": 9,
    "start_time": "2022-09-02T20:37:45.862Z"
   },
   {
    "duration": 8,
    "start_time": "2022-09-02T20:37:45.872Z"
   },
   {
    "duration": 921,
    "start_time": "2022-09-06T18:45:41.806Z"
   },
   {
    "duration": 471,
    "start_time": "2022-09-06T18:45:42.728Z"
   },
   {
    "duration": 33,
    "start_time": "2022-09-06T18:45:43.201Z"
   },
   {
    "duration": 13,
    "start_time": "2022-09-06T18:45:43.236Z"
   },
   {
    "duration": 12,
    "start_time": "2022-09-06T18:45:43.251Z"
   },
   {
    "duration": 16,
    "start_time": "2022-09-06T18:45:43.264Z"
   },
   {
    "duration": 37,
    "start_time": "2022-09-06T18:45:43.282Z"
   },
   {
    "duration": 7,
    "start_time": "2022-09-06T18:45:43.320Z"
   },
   {
    "duration": 40,
    "start_time": "2022-09-06T18:45:43.328Z"
   },
   {
    "duration": 19,
    "start_time": "2022-09-06T18:45:43.370Z"
   },
   {
    "duration": 30,
    "start_time": "2022-09-06T18:45:43.390Z"
   },
   {
    "duration": 23,
    "start_time": "2022-09-06T18:45:43.422Z"
   },
   {
    "duration": 9,
    "start_time": "2022-09-06T18:45:43.446Z"
   },
   {
    "duration": 21,
    "start_time": "2022-09-06T18:45:43.456Z"
   },
   {
    "duration": 642,
    "start_time": "2022-09-06T18:45:43.478Z"
   },
   {
    "duration": 19,
    "start_time": "2022-09-06T18:45:44.121Z"
   },
   {
    "duration": 4,
    "start_time": "2022-09-06T18:45:44.142Z"
   },
   {
    "duration": 7,
    "start_time": "2022-09-06T18:45:44.148Z"
   },
   {
    "duration": 19,
    "start_time": "2022-09-06T18:45:44.157Z"
   },
   {
    "duration": 1114,
    "start_time": "2022-09-06T18:45:44.178Z"
   },
   {
    "duration": 204,
    "start_time": "2022-09-06T18:45:45.293Z"
   },
   {
    "duration": 22,
    "start_time": "2022-09-06T18:45:45.498Z"
   },
   {
    "duration": 131,
    "start_time": "2022-09-06T18:45:45.521Z"
   },
   {
    "duration": 7,
    "start_time": "2022-09-06T18:45:45.653Z"
   },
   {
    "duration": 8,
    "start_time": "2022-09-06T18:45:45.661Z"
   },
   {
    "duration": 1287,
    "start_time": "2022-09-06T18:45:45.670Z"
   },
   {
    "duration": 1127,
    "start_time": "2022-09-06T18:45:46.959Z"
   },
   {
    "duration": 5,
    "start_time": "2022-09-06T18:45:48.090Z"
   },
   {
    "duration": 13,
    "start_time": "2022-09-06T18:45:48.108Z"
   },
   {
    "duration": 27,
    "start_time": "2022-09-06T18:45:48.123Z"
   },
   {
    "duration": 5,
    "start_time": "2022-09-06T18:45:48.152Z"
   },
   {
    "duration": 9,
    "start_time": "2022-09-06T18:45:48.159Z"
   },
   {
    "duration": 8,
    "start_time": "2022-09-06T18:45:48.169Z"
   },
   {
    "duration": 38,
    "start_time": "2022-09-06T18:45:48.179Z"
   },
   {
    "duration": 6,
    "start_time": "2022-09-06T18:45:48.219Z"
   },
   {
    "duration": 7,
    "start_time": "2022-09-06T18:45:48.227Z"
   },
   {
    "duration": 5,
    "start_time": "2022-09-06T18:45:48.236Z"
   },
   {
    "duration": 5,
    "start_time": "2022-09-06T18:45:48.243Z"
   },
   {
    "duration": 7,
    "start_time": "2022-09-06T18:45:48.249Z"
   },
   {
    "duration": 11,
    "start_time": "2022-09-06T18:45:48.257Z"
   },
   {
    "duration": 10,
    "start_time": "2022-09-06T18:45:48.270Z"
   },
   {
    "duration": 4,
    "start_time": "2022-09-06T19:04:14.204Z"
   },
   {
    "duration": 4,
    "start_time": "2022-09-06T19:04:16.965Z"
   },
   {
    "duration": 8,
    "start_time": "2022-09-06T19:04:38.346Z"
   },
   {
    "duration": 6,
    "start_time": "2022-09-06T19:04:55.781Z"
   },
   {
    "duration": 3,
    "start_time": "2022-09-06T19:04:59.088Z"
   },
   {
    "duration": 55,
    "start_time": "2022-09-06T19:04:59.093Z"
   },
   {
    "duration": 17,
    "start_time": "2022-09-06T19:04:59.150Z"
   },
   {
    "duration": 21,
    "start_time": "2022-09-06T19:04:59.169Z"
   },
   {
    "duration": 18,
    "start_time": "2022-09-06T19:04:59.193Z"
   },
   {
    "duration": 24,
    "start_time": "2022-09-06T19:04:59.213Z"
   },
   {
    "duration": 28,
    "start_time": "2022-09-06T19:04:59.239Z"
   },
   {
    "duration": 14,
    "start_time": "2022-09-06T19:04:59.269Z"
   },
   {
    "duration": 3,
    "start_time": "2022-09-06T19:05:01.837Z"
   },
   {
    "duration": 111,
    "start_time": "2022-09-06T19:05:01.843Z"
   },
   {
    "duration": 17,
    "start_time": "2022-09-06T19:05:01.957Z"
   },
   {
    "duration": 65,
    "start_time": "2022-09-06T19:05:01.976Z"
   },
   {
    "duration": 29,
    "start_time": "2022-09-06T19:05:02.044Z"
   },
   {
    "duration": 39,
    "start_time": "2022-09-06T19:05:02.075Z"
   },
   {
    "duration": 44,
    "start_time": "2022-09-06T19:05:02.115Z"
   },
   {
    "duration": 19,
    "start_time": "2022-09-06T19:05:02.161Z"
   },
   {
    "duration": 24,
    "start_time": "2022-09-06T19:05:02.182Z"
   },
   {
    "duration": 54,
    "start_time": "2022-09-06T19:05:02.208Z"
   },
   {
    "duration": 21,
    "start_time": "2022-09-06T19:05:02.266Z"
   },
   {
    "duration": 6,
    "start_time": "2022-09-06T19:05:02.288Z"
   },
   {
    "duration": 21,
    "start_time": "2022-09-06T19:05:02.296Z"
   },
   {
    "duration": 26,
    "start_time": "2022-09-06T19:05:02.319Z"
   },
   {
    "duration": 23,
    "start_time": "2022-09-06T19:05:02.347Z"
   },
   {
    "duration": 329,
    "start_time": "2022-09-06T19:05:02.371Z"
   },
   {
    "duration": 14,
    "start_time": "2022-09-06T19:05:02.705Z"
   },
   {
    "duration": 4,
    "start_time": "2022-09-06T19:05:02.720Z"
   },
   {
    "duration": 18,
    "start_time": "2022-09-06T19:05:02.725Z"
   },
   {
    "duration": 26,
    "start_time": "2022-09-06T19:05:02.744Z"
   },
   {
    "duration": 1121,
    "start_time": "2022-09-06T19:05:02.771Z"
   },
   {
    "duration": 168,
    "start_time": "2022-09-06T19:05:03.894Z"
   },
   {
    "duration": 13,
    "start_time": "2022-09-06T19:05:04.064Z"
   },
   {
    "duration": 143,
    "start_time": "2022-09-06T19:05:04.080Z"
   },
   {
    "duration": 7,
    "start_time": "2022-09-06T19:05:04.225Z"
   },
   {
    "duration": 9,
    "start_time": "2022-09-06T19:05:04.234Z"
   },
   {
    "duration": 1871,
    "start_time": "2022-09-06T19:05:04.245Z"
   },
   {
    "duration": 1725,
    "start_time": "2022-09-06T19:05:06.118Z"
   },
   {
    "duration": 7,
    "start_time": "2022-09-06T19:05:07.846Z"
   },
   {
    "duration": 13,
    "start_time": "2022-09-06T19:05:07.854Z"
   },
   {
    "duration": 48,
    "start_time": "2022-09-06T19:05:07.869Z"
   },
   {
    "duration": 6,
    "start_time": "2022-09-06T19:05:07.919Z"
   },
   {
    "duration": 10,
    "start_time": "2022-09-06T19:05:07.927Z"
   },
   {
    "duration": 7,
    "start_time": "2022-09-06T19:05:07.938Z"
   },
   {
    "duration": 7,
    "start_time": "2022-09-06T19:05:07.947Z"
   },
   {
    "duration": 9,
    "start_time": "2022-09-06T19:05:07.955Z"
   },
   {
    "duration": 15,
    "start_time": "2022-09-06T19:05:07.965Z"
   },
   {
    "duration": 10,
    "start_time": "2022-09-06T19:05:08.007Z"
   },
   {
    "duration": 9,
    "start_time": "2022-09-06T19:05:08.019Z"
   },
   {
    "duration": 11,
    "start_time": "2022-09-06T19:05:08.031Z"
   },
   {
    "duration": 13,
    "start_time": "2022-09-06T19:05:08.044Z"
   },
   {
    "duration": 18,
    "start_time": "2022-09-06T19:05:08.058Z"
   },
   {
    "duration": 6,
    "start_time": "2022-09-06T19:05:38.914Z"
   },
   {
    "duration": 6,
    "start_time": "2022-09-06T19:05:40.869Z"
   },
   {
    "duration": 10,
    "start_time": "2022-09-06T19:05:49.761Z"
   },
   {
    "duration": 3,
    "start_time": "2022-09-06T19:05:53.875Z"
   },
   {
    "duration": 51,
    "start_time": "2022-09-06T19:05:53.882Z"
   },
   {
    "duration": 19,
    "start_time": "2022-09-06T19:05:53.935Z"
   },
   {
    "duration": 15,
    "start_time": "2022-09-06T19:05:53.956Z"
   },
   {
    "duration": 34,
    "start_time": "2022-09-06T19:05:53.973Z"
   },
   {
    "duration": 19,
    "start_time": "2022-09-06T19:05:54.008Z"
   },
   {
    "duration": 18,
    "start_time": "2022-09-06T19:05:54.029Z"
   },
   {
    "duration": 10,
    "start_time": "2022-09-06T19:05:54.049Z"
   },
   {
    "duration": 56,
    "start_time": "2022-09-06T19:05:54.061Z"
   },
   {
    "duration": 22,
    "start_time": "2022-09-06T19:06:31.030Z"
   },
   {
    "duration": 7,
    "start_time": "2022-09-06T19:06:31.053Z"
   },
   {
    "duration": 15,
    "start_time": "2022-09-06T19:06:31.061Z"
   },
   {
    "duration": 31,
    "start_time": "2022-09-06T19:06:31.077Z"
   },
   {
    "duration": 21,
    "start_time": "2022-09-06T19:06:31.110Z"
   },
   {
    "duration": 192263,
    "start_time": "2022-09-06T19:06:31.132Z"
   },
   {
    "duration": 408,
    "start_time": "2022-09-06T19:09:43.397Z"
   },
   {
    "duration": 0,
    "start_time": "2022-09-06T19:09:43.808Z"
   },
   {
    "duration": 0,
    "start_time": "2022-09-06T19:09:43.809Z"
   },
   {
    "duration": 0,
    "start_time": "2022-09-06T19:09:43.810Z"
   },
   {
    "duration": 0,
    "start_time": "2022-09-06T19:09:43.811Z"
   },
   {
    "duration": 0,
    "start_time": "2022-09-06T19:09:43.812Z"
   },
   {
    "duration": 0,
    "start_time": "2022-09-06T19:09:43.813Z"
   },
   {
    "duration": 0,
    "start_time": "2022-09-06T19:09:43.814Z"
   },
   {
    "duration": 0,
    "start_time": "2022-09-06T19:09:43.815Z"
   },
   {
    "duration": 0,
    "start_time": "2022-09-06T19:09:43.816Z"
   },
   {
    "duration": 0,
    "start_time": "2022-09-06T19:09:43.817Z"
   },
   {
    "duration": 0,
    "start_time": "2022-09-06T19:09:43.818Z"
   },
   {
    "duration": 0,
    "start_time": "2022-09-06T19:09:43.819Z"
   },
   {
    "duration": 0,
    "start_time": "2022-09-06T19:09:43.820Z"
   },
   {
    "duration": 0,
    "start_time": "2022-09-06T19:09:43.820Z"
   },
   {
    "duration": 0,
    "start_time": "2022-09-06T19:09:43.821Z"
   },
   {
    "duration": 0,
    "start_time": "2022-09-06T19:09:43.822Z"
   },
   {
    "duration": 0,
    "start_time": "2022-09-06T19:09:43.823Z"
   },
   {
    "duration": 0,
    "start_time": "2022-09-06T19:09:43.824Z"
   },
   {
    "duration": 0,
    "start_time": "2022-09-06T19:09:43.824Z"
   },
   {
    "duration": 0,
    "start_time": "2022-09-06T19:09:43.825Z"
   },
   {
    "duration": 0,
    "start_time": "2022-09-06T19:09:43.826Z"
   },
   {
    "duration": 0,
    "start_time": "2022-09-06T19:09:43.827Z"
   },
   {
    "duration": 0,
    "start_time": "2022-09-06T19:09:43.828Z"
   },
   {
    "duration": 0,
    "start_time": "2022-09-06T19:09:43.829Z"
   },
   {
    "duration": 0,
    "start_time": "2022-09-06T19:09:43.830Z"
   },
   {
    "duration": 0,
    "start_time": "2022-09-06T19:09:43.832Z"
   },
   {
    "duration": 11,
    "start_time": "2022-09-06T19:30:44.353Z"
   },
   {
    "duration": 10,
    "start_time": "2022-09-06T19:30:57.227Z"
   },
   {
    "duration": 9,
    "start_time": "2022-09-06T19:31:02.378Z"
   },
   {
    "duration": 3,
    "start_time": "2022-09-06T19:31:05.445Z"
   },
   {
    "duration": 64,
    "start_time": "2022-09-06T19:31:05.450Z"
   },
   {
    "duration": 17,
    "start_time": "2022-09-06T19:31:05.515Z"
   },
   {
    "duration": 53,
    "start_time": "2022-09-06T19:31:05.534Z"
   },
   {
    "duration": 14,
    "start_time": "2022-09-06T19:31:05.589Z"
   },
   {
    "duration": 75,
    "start_time": "2022-09-06T19:31:05.605Z"
   },
   {
    "duration": 0,
    "start_time": "2022-09-06T19:31:05.683Z"
   },
   {
    "duration": 0,
    "start_time": "2022-09-06T19:31:05.684Z"
   },
   {
    "duration": 0,
    "start_time": "2022-09-06T19:31:05.686Z"
   },
   {
    "duration": 0,
    "start_time": "2022-09-06T19:31:05.687Z"
   },
   {
    "duration": 0,
    "start_time": "2022-09-06T19:31:05.688Z"
   },
   {
    "duration": 0,
    "start_time": "2022-09-06T19:31:05.689Z"
   },
   {
    "duration": 0,
    "start_time": "2022-09-06T19:31:05.690Z"
   },
   {
    "duration": 0,
    "start_time": "2022-09-06T19:31:05.692Z"
   },
   {
    "duration": 0,
    "start_time": "2022-09-06T19:31:05.693Z"
   },
   {
    "duration": 0,
    "start_time": "2022-09-06T19:31:05.694Z"
   },
   {
    "duration": 0,
    "start_time": "2022-09-06T19:31:05.695Z"
   },
   {
    "duration": 0,
    "start_time": "2022-09-06T19:31:05.696Z"
   },
   {
    "duration": 0,
    "start_time": "2022-09-06T19:31:05.697Z"
   },
   {
    "duration": 0,
    "start_time": "2022-09-06T19:31:05.698Z"
   },
   {
    "duration": 0,
    "start_time": "2022-09-06T19:31:05.699Z"
   },
   {
    "duration": 0,
    "start_time": "2022-09-06T19:31:05.700Z"
   },
   {
    "duration": 0,
    "start_time": "2022-09-06T19:31:05.701Z"
   },
   {
    "duration": 0,
    "start_time": "2022-09-06T19:31:05.702Z"
   },
   {
    "duration": 0,
    "start_time": "2022-09-06T19:31:05.703Z"
   },
   {
    "duration": 0,
    "start_time": "2022-09-06T19:31:05.704Z"
   },
   {
    "duration": 0,
    "start_time": "2022-09-06T19:31:05.705Z"
   },
   {
    "duration": 0,
    "start_time": "2022-09-06T19:31:05.706Z"
   },
   {
    "duration": 0,
    "start_time": "2022-09-06T19:31:05.707Z"
   },
   {
    "duration": 0,
    "start_time": "2022-09-06T19:31:05.708Z"
   },
   {
    "duration": 0,
    "start_time": "2022-09-06T19:31:05.709Z"
   },
   {
    "duration": 0,
    "start_time": "2022-09-06T19:31:05.710Z"
   },
   {
    "duration": 0,
    "start_time": "2022-09-06T19:31:05.711Z"
   },
   {
    "duration": 0,
    "start_time": "2022-09-06T19:31:05.712Z"
   },
   {
    "duration": 0,
    "start_time": "2022-09-06T19:31:05.713Z"
   },
   {
    "duration": 0,
    "start_time": "2022-09-06T19:31:05.713Z"
   },
   {
    "duration": 0,
    "start_time": "2022-09-06T19:31:05.714Z"
   },
   {
    "duration": 0,
    "start_time": "2022-09-06T19:31:05.715Z"
   },
   {
    "duration": 0,
    "start_time": "2022-09-06T19:31:05.716Z"
   },
   {
    "duration": 0,
    "start_time": "2022-09-06T19:31:05.717Z"
   },
   {
    "duration": 0,
    "start_time": "2022-09-06T19:31:05.718Z"
   },
   {
    "duration": 0,
    "start_time": "2022-09-06T19:31:05.719Z"
   },
   {
    "duration": 0,
    "start_time": "2022-09-06T19:31:05.720Z"
   },
   {
    "duration": 0,
    "start_time": "2022-09-06T19:31:05.721Z"
   },
   {
    "duration": 9,
    "start_time": "2022-09-06T19:32:50.482Z"
   },
   {
    "duration": 19,
    "start_time": "2022-09-06T19:33:29.370Z"
   },
   {
    "duration": 18,
    "start_time": "2022-09-06T19:33:36.773Z"
   },
   {
    "duration": 18,
    "start_time": "2022-09-06T19:34:47.170Z"
   },
   {
    "duration": 8,
    "start_time": "2022-09-06T19:34:53.300Z"
   },
   {
    "duration": 13,
    "start_time": "2022-09-06T19:34:57.954Z"
   },
   {
    "duration": 7,
    "start_time": "2022-09-06T19:45:58.547Z"
   },
   {
    "duration": 1165,
    "start_time": "2022-09-06T19:46:02.568Z"
   },
   {
    "duration": 2636,
    "start_time": "2022-09-06T19:46:18.602Z"
   },
   {
    "duration": 2004,
    "start_time": "2022-09-06T19:46:24.967Z"
   },
   {
    "duration": 1706,
    "start_time": "2022-09-06T19:46:27.072Z"
   },
   {
    "duration": 3,
    "start_time": "2022-09-06T19:46:31.047Z"
   },
   {
    "duration": 67,
    "start_time": "2022-09-06T19:46:31.052Z"
   },
   {
    "duration": 18,
    "start_time": "2022-09-06T19:46:31.121Z"
   },
   {
    "duration": 19,
    "start_time": "2022-09-06T19:46:31.140Z"
   },
   {
    "duration": 11,
    "start_time": "2022-09-06T19:46:31.162Z"
   },
   {
    "duration": 40,
    "start_time": "2022-09-06T19:46:31.175Z"
   },
   {
    "duration": 15,
    "start_time": "2022-09-06T19:46:31.217Z"
   },
   {
    "duration": 20,
    "start_time": "2022-09-06T19:46:31.233Z"
   },
   {
    "duration": 21,
    "start_time": "2022-09-06T19:46:31.254Z"
   },
   {
    "duration": 32,
    "start_time": "2022-09-06T19:46:31.277Z"
   },
   {
    "duration": 25,
    "start_time": "2022-09-06T19:46:31.312Z"
   },
   {
    "duration": 0,
    "start_time": "2022-09-06T19:50:22.062Z"
   },
   {
    "duration": 0,
    "start_time": "2022-09-06T19:50:22.064Z"
   },
   {
    "duration": 0,
    "start_time": "2022-09-06T19:50:22.067Z"
   },
   {
    "duration": 0,
    "start_time": "2022-09-06T19:50:22.108Z"
   },
   {
    "duration": 0,
    "start_time": "2022-09-06T19:50:22.110Z"
   },
   {
    "duration": 0,
    "start_time": "2022-09-06T19:50:22.113Z"
   },
   {
    "duration": 0,
    "start_time": "2022-09-06T19:50:22.116Z"
   },
   {
    "duration": 0,
    "start_time": "2022-09-06T19:50:22.117Z"
   },
   {
    "duration": 0,
    "start_time": "2022-09-06T19:50:22.118Z"
   },
   {
    "duration": 0,
    "start_time": "2022-09-06T19:50:22.119Z"
   },
   {
    "duration": 0,
    "start_time": "2022-09-06T19:50:22.121Z"
   },
   {
    "duration": 0,
    "start_time": "2022-09-06T19:50:22.121Z"
   },
   {
    "duration": 0,
    "start_time": "2022-09-06T19:50:22.122Z"
   },
   {
    "duration": 0,
    "start_time": "2022-09-06T19:50:22.123Z"
   },
   {
    "duration": 0,
    "start_time": "2022-09-06T19:50:22.125Z"
   },
   {
    "duration": 0,
    "start_time": "2022-09-06T19:50:22.126Z"
   },
   {
    "duration": 0,
    "start_time": "2022-09-06T19:50:22.127Z"
   },
   {
    "duration": 0,
    "start_time": "2022-09-06T19:50:22.128Z"
   },
   {
    "duration": 1,
    "start_time": "2022-09-06T19:50:22.128Z"
   },
   {
    "duration": 0,
    "start_time": "2022-09-06T19:50:22.129Z"
   },
   {
    "duration": 0,
    "start_time": "2022-09-06T19:50:22.130Z"
   },
   {
    "duration": 0,
    "start_time": "2022-09-06T19:50:22.132Z"
   },
   {
    "duration": 0,
    "start_time": "2022-09-06T19:50:22.132Z"
   },
   {
    "duration": 0,
    "start_time": "2022-09-06T19:50:22.133Z"
   },
   {
    "duration": 0,
    "start_time": "2022-09-06T19:50:22.134Z"
   },
   {
    "duration": 0,
    "start_time": "2022-09-06T19:50:22.135Z"
   },
   {
    "duration": 0,
    "start_time": "2022-09-06T19:50:22.136Z"
   },
   {
    "duration": 0,
    "start_time": "2022-09-06T19:50:22.137Z"
   },
   {
    "duration": 0,
    "start_time": "2022-09-06T19:50:22.138Z"
   },
   {
    "duration": 0,
    "start_time": "2022-09-06T19:50:22.139Z"
   },
   {
    "duration": 0,
    "start_time": "2022-09-06T19:50:22.139Z"
   },
   {
    "duration": 0,
    "start_time": "2022-09-06T19:50:22.140Z"
   },
   {
    "duration": 0,
    "start_time": "2022-09-06T19:50:22.141Z"
   },
   {
    "duration": 0,
    "start_time": "2022-09-06T19:50:22.142Z"
   },
   {
    "duration": 0,
    "start_time": "2022-09-06T19:50:22.205Z"
   },
   {
    "duration": 0,
    "start_time": "2022-09-06T19:50:22.207Z"
   },
   {
    "duration": 0,
    "start_time": "2022-09-06T19:50:22.208Z"
   },
   {
    "duration": 0,
    "start_time": "2022-09-06T19:50:22.209Z"
   },
   {
    "duration": 0,
    "start_time": "2022-09-06T19:50:22.210Z"
   },
   {
    "duration": 0,
    "start_time": "2022-09-06T19:50:22.210Z"
   },
   {
    "duration": 0,
    "start_time": "2022-09-06T19:50:22.211Z"
   },
   {
    "duration": 0,
    "start_time": "2022-09-06T19:50:22.212Z"
   },
   {
    "duration": 0,
    "start_time": "2022-09-06T19:50:22.213Z"
   },
   {
    "duration": 0,
    "start_time": "2022-09-06T19:50:22.214Z"
   },
   {
    "duration": 5,
    "start_time": "2022-09-06T19:50:43.880Z"
   },
   {
    "duration": 12,
    "start_time": "2022-09-06T19:50:47.532Z"
   },
   {
    "duration": 12,
    "start_time": "2022-09-06T19:50:55.537Z"
   },
   {
    "duration": 8,
    "start_time": "2022-09-06T19:50:59.848Z"
   },
   {
    "duration": 5,
    "start_time": "2022-09-06T19:51:24.391Z"
   },
   {
    "duration": 853,
    "start_time": "2022-09-06T19:52:43.345Z"
   },
   {
    "duration": 52,
    "start_time": "2022-09-06T19:52:44.200Z"
   },
   {
    "duration": 23,
    "start_time": "2022-09-06T19:52:44.254Z"
   },
   {
    "duration": 14,
    "start_time": "2022-09-06T19:52:44.279Z"
   },
   {
    "duration": 9,
    "start_time": "2022-09-06T19:52:44.295Z"
   },
   {
    "duration": 24,
    "start_time": "2022-09-06T19:52:44.306Z"
   },
   {
    "duration": 14,
    "start_time": "2022-09-06T19:52:44.332Z"
   },
   {
    "duration": 17,
    "start_time": "2022-09-06T19:52:44.348Z"
   },
   {
    "duration": 15,
    "start_time": "2022-09-06T19:52:44.368Z"
   },
   {
    "duration": 8,
    "start_time": "2022-09-06T19:52:44.408Z"
   },
   {
    "duration": 15,
    "start_time": "2022-09-06T19:52:44.418Z"
   },
   {
    "duration": 3,
    "start_time": "2022-09-06T19:52:44.434Z"
   },
   {
    "duration": 24,
    "start_time": "2022-09-06T19:52:44.438Z"
   },
   {
    "duration": 6,
    "start_time": "2022-09-06T19:52:44.463Z"
   },
   {
    "duration": 40,
    "start_time": "2022-09-06T19:52:44.470Z"
   },
   {
    "duration": 9,
    "start_time": "2022-09-06T19:52:44.512Z"
   },
   {
    "duration": 18,
    "start_time": "2022-09-06T19:52:44.523Z"
   },
   {
    "duration": 0,
    "start_time": "2022-09-06T19:55:56.729Z"
   },
   {
    "duration": 0,
    "start_time": "2022-09-06T19:55:56.731Z"
   },
   {
    "duration": 0,
    "start_time": "2022-09-06T19:55:56.734Z"
   },
   {
    "duration": 0,
    "start_time": "2022-09-06T19:55:56.736Z"
   },
   {
    "duration": 0,
    "start_time": "2022-09-06T19:55:56.738Z"
   },
   {
    "duration": 0,
    "start_time": "2022-09-06T19:55:56.740Z"
   },
   {
    "duration": 0,
    "start_time": "2022-09-06T19:55:56.742Z"
   },
   {
    "duration": 1,
    "start_time": "2022-09-06T19:55:56.743Z"
   },
   {
    "duration": 0,
    "start_time": "2022-09-06T19:55:56.745Z"
   },
   {
    "duration": 0,
    "start_time": "2022-09-06T19:55:56.808Z"
   },
   {
    "duration": 0,
    "start_time": "2022-09-06T19:55:56.809Z"
   },
   {
    "duration": 0,
    "start_time": "2022-09-06T19:55:56.812Z"
   },
   {
    "duration": 0,
    "start_time": "2022-09-06T19:55:56.813Z"
   },
   {
    "duration": 0,
    "start_time": "2022-09-06T19:55:56.814Z"
   },
   {
    "duration": 0,
    "start_time": "2022-09-06T19:55:56.815Z"
   },
   {
    "duration": 0,
    "start_time": "2022-09-06T19:55:56.816Z"
   },
   {
    "duration": 0,
    "start_time": "2022-09-06T19:55:56.817Z"
   },
   {
    "duration": 0,
    "start_time": "2022-09-06T19:55:56.818Z"
   },
   {
    "duration": 0,
    "start_time": "2022-09-06T19:55:56.819Z"
   },
   {
    "duration": 0,
    "start_time": "2022-09-06T19:55:56.820Z"
   },
   {
    "duration": 0,
    "start_time": "2022-09-06T19:55:56.821Z"
   },
   {
    "duration": 0,
    "start_time": "2022-09-06T19:55:56.821Z"
   },
   {
    "duration": 0,
    "start_time": "2022-09-06T19:55:56.823Z"
   },
   {
    "duration": 0,
    "start_time": "2022-09-06T19:55:56.824Z"
   },
   {
    "duration": 0,
    "start_time": "2022-09-06T19:55:56.825Z"
   },
   {
    "duration": 0,
    "start_time": "2022-09-06T19:55:56.826Z"
   },
   {
    "duration": 0,
    "start_time": "2022-09-06T19:55:56.827Z"
   },
   {
    "duration": 0,
    "start_time": "2022-09-06T19:55:56.828Z"
   },
   {
    "duration": 0,
    "start_time": "2022-09-06T19:55:56.829Z"
   },
   {
    "duration": 0,
    "start_time": "2022-09-06T19:55:56.830Z"
   },
   {
    "duration": 0,
    "start_time": "2022-09-06T19:55:56.831Z"
   },
   {
    "duration": 0,
    "start_time": "2022-09-06T19:55:56.832Z"
   },
   {
    "duration": 0,
    "start_time": "2022-09-06T19:55:56.833Z"
   },
   {
    "duration": 0,
    "start_time": "2022-09-06T19:55:56.834Z"
   },
   {
    "duration": 0,
    "start_time": "2022-09-06T19:55:56.835Z"
   },
   {
    "duration": 0,
    "start_time": "2022-09-06T19:55:56.836Z"
   },
   {
    "duration": 0,
    "start_time": "2022-09-06T19:55:56.838Z"
   },
   {
    "duration": 0,
    "start_time": "2022-09-06T19:55:56.838Z"
   },
   {
    "duration": 0,
    "start_time": "2022-09-06T19:55:56.840Z"
   },
   {
    "duration": 0,
    "start_time": "2022-09-06T19:55:56.841Z"
   },
   {
    "duration": 0,
    "start_time": "2022-09-06T19:55:56.842Z"
   },
   {
    "duration": 0,
    "start_time": "2022-09-06T19:55:56.843Z"
   },
   {
    "duration": 0,
    "start_time": "2022-09-06T19:55:56.906Z"
   },
   {
    "duration": 0,
    "start_time": "2022-09-06T19:55:56.907Z"
   },
   {
    "duration": 17,
    "start_time": "2022-09-06T19:56:02.329Z"
   },
   {
    "duration": 14,
    "start_time": "2022-09-06T19:56:05.443Z"
   },
   {
    "duration": 3,
    "start_time": "2022-09-06T19:56:08.287Z"
   },
   {
    "duration": 57,
    "start_time": "2022-09-06T19:56:08.292Z"
   },
   {
    "duration": 17,
    "start_time": "2022-09-06T19:56:08.351Z"
   },
   {
    "duration": 32,
    "start_time": "2022-09-06T19:56:08.369Z"
   },
   {
    "duration": 11,
    "start_time": "2022-09-06T19:56:08.404Z"
   },
   {
    "duration": 32,
    "start_time": "2022-09-06T19:56:08.416Z"
   },
   {
    "duration": 20,
    "start_time": "2022-09-06T19:56:08.450Z"
   },
   {
    "duration": 23,
    "start_time": "2022-09-06T19:56:08.472Z"
   },
   {
    "duration": 30,
    "start_time": "2022-09-06T19:56:08.496Z"
   },
   {
    "duration": 16,
    "start_time": "2022-09-06T19:56:08.527Z"
   },
   {
    "duration": 28,
    "start_time": "2022-09-06T19:56:08.545Z"
   },
   {
    "duration": 6,
    "start_time": "2022-09-06T19:56:08.575Z"
   },
   {
    "duration": 43,
    "start_time": "2022-09-06T19:56:08.582Z"
   },
   {
    "duration": 6,
    "start_time": "2022-09-06T19:56:08.627Z"
   },
   {
    "duration": 31,
    "start_time": "2022-09-06T19:56:08.635Z"
   },
   {
    "duration": 18,
    "start_time": "2022-09-06T19:56:08.668Z"
   },
   {
    "duration": 24,
    "start_time": "2022-09-06T19:56:08.688Z"
   },
   {
    "duration": 257,
    "start_time": "2022-09-06T19:56:08.714Z"
   },
   {
    "duration": 15,
    "start_time": "2022-09-06T19:56:08.972Z"
   },
   {
    "duration": 18,
    "start_time": "2022-09-06T19:56:08.989Z"
   },
   {
    "duration": 9,
    "start_time": "2022-09-06T19:56:09.008Z"
   },
   {
    "duration": 30,
    "start_time": "2022-09-06T19:56:09.019Z"
   },
   {
    "duration": 1254,
    "start_time": "2022-09-06T19:56:09.050Z"
   },
   {
    "duration": 143,
    "start_time": "2022-09-06T19:56:10.306Z"
   },
   {
    "duration": 8,
    "start_time": "2022-09-06T19:56:10.451Z"
   },
   {
    "duration": 145,
    "start_time": "2022-09-06T19:56:10.461Z"
   },
   {
    "duration": 6,
    "start_time": "2022-09-06T19:56:10.608Z"
   },
   {
    "duration": 21,
    "start_time": "2022-09-06T19:56:10.616Z"
   },
   {
    "duration": 1800,
    "start_time": "2022-09-06T19:56:10.640Z"
   },
   {
    "duration": 1444,
    "start_time": "2022-09-06T19:56:12.442Z"
   },
   {
    "duration": 19,
    "start_time": "2022-09-06T19:56:13.887Z"
   },
   {
    "duration": 7,
    "start_time": "2022-09-06T19:56:13.908Z"
   },
   {
    "duration": 1950,
    "start_time": "2022-09-06T19:56:13.922Z"
   },
   {
    "duration": 6,
    "start_time": "2022-09-06T19:56:15.874Z"
   },
   {
    "duration": 25,
    "start_time": "2022-09-06T19:56:15.881Z"
   },
   {
    "duration": 7,
    "start_time": "2022-09-06T19:56:15.908Z"
   },
   {
    "duration": 8,
    "start_time": "2022-09-06T19:56:15.917Z"
   },
   {
    "duration": 7,
    "start_time": "2022-09-06T19:56:15.927Z"
   },
   {
    "duration": 10,
    "start_time": "2022-09-06T19:56:15.935Z"
   },
   {
    "duration": 7,
    "start_time": "2022-09-06T19:56:15.947Z"
   },
   {
    "duration": 6,
    "start_time": "2022-09-06T19:56:15.955Z"
   },
   {
    "duration": 6,
    "start_time": "2022-09-06T19:56:15.963Z"
   },
   {
    "duration": 10,
    "start_time": "2022-09-06T19:56:16.008Z"
   },
   {
    "duration": 22,
    "start_time": "2022-09-06T19:56:16.020Z"
   },
   {
    "duration": 9,
    "start_time": "2022-09-06T19:57:18.336Z"
   },
   {
    "duration": 3,
    "start_time": "2022-09-06T19:57:27.732Z"
   },
   {
    "duration": 61,
    "start_time": "2022-09-06T19:57:27.736Z"
   },
   {
    "duration": 16,
    "start_time": "2022-09-06T19:57:27.799Z"
   },
   {
    "duration": 15,
    "start_time": "2022-09-06T19:57:27.816Z"
   },
   {
    "duration": 7,
    "start_time": "2022-09-06T19:57:27.833Z"
   },
   {
    "duration": 14,
    "start_time": "2022-09-06T19:57:27.841Z"
   },
   {
    "duration": 13,
    "start_time": "2022-09-06T19:57:27.856Z"
   },
   {
    "duration": 47,
    "start_time": "2022-09-06T19:57:27.870Z"
   },
   {
    "duration": 16,
    "start_time": "2022-09-06T19:57:27.919Z"
   },
   {
    "duration": 8,
    "start_time": "2022-09-06T19:57:27.937Z"
   },
   {
    "duration": 16,
    "start_time": "2022-09-06T19:57:27.946Z"
   },
   {
    "duration": 2,
    "start_time": "2022-09-06T19:57:27.964Z"
   },
   {
    "duration": 46,
    "start_time": "2022-09-06T19:57:27.967Z"
   },
   {
    "duration": 6,
    "start_time": "2022-09-06T19:57:28.016Z"
   },
   {
    "duration": 17,
    "start_time": "2022-09-06T19:57:28.023Z"
   },
   {
    "duration": 12,
    "start_time": "2022-09-06T19:57:28.042Z"
   },
   {
    "duration": 22,
    "start_time": "2022-09-06T19:57:28.056Z"
   },
   {
    "duration": 927,
    "start_time": "2022-09-06T19:59:34.877Z"
   },
   {
    "duration": 51,
    "start_time": "2022-09-06T19:59:35.806Z"
   },
   {
    "duration": 25,
    "start_time": "2022-09-06T19:59:35.859Z"
   },
   {
    "duration": 39,
    "start_time": "2022-09-06T19:59:35.886Z"
   },
   {
    "duration": 29,
    "start_time": "2022-09-06T19:59:35.927Z"
   },
   {
    "duration": 19,
    "start_time": "2022-09-06T19:59:35.958Z"
   },
   {
    "duration": 32,
    "start_time": "2022-09-06T19:59:35.978Z"
   },
   {
    "duration": 77,
    "start_time": "2022-09-06T19:59:36.013Z"
   },
   {
    "duration": 31,
    "start_time": "2022-09-06T19:59:36.092Z"
   },
   {
    "duration": 37,
    "start_time": "2022-09-06T19:59:36.126Z"
   },
   {
    "duration": 45,
    "start_time": "2022-09-06T19:59:36.165Z"
   },
   {
    "duration": 19,
    "start_time": "2022-09-06T19:59:36.212Z"
   },
   {
    "duration": 38,
    "start_time": "2022-09-06T19:59:36.232Z"
   },
   {
    "duration": 7,
    "start_time": "2022-09-06T19:59:36.272Z"
   },
   {
    "duration": 19,
    "start_time": "2022-09-06T19:59:36.280Z"
   },
   {
    "duration": 35,
    "start_time": "2022-09-06T19:59:36.300Z"
   },
   {
    "duration": 42,
    "start_time": "2022-09-06T19:59:36.337Z"
   },
   {
    "duration": 865,
    "start_time": "2022-09-06T20:01:36.732Z"
   },
   {
    "duration": 53,
    "start_time": "2022-09-06T20:01:37.598Z"
   },
   {
    "duration": 25,
    "start_time": "2022-09-06T20:01:37.652Z"
   },
   {
    "duration": 14,
    "start_time": "2022-09-06T20:01:37.679Z"
   },
   {
    "duration": 12,
    "start_time": "2022-09-06T20:01:37.696Z"
   },
   {
    "duration": 15,
    "start_time": "2022-09-06T20:01:37.709Z"
   },
   {
    "duration": 15,
    "start_time": "2022-09-06T20:01:37.726Z"
   },
   {
    "duration": 17,
    "start_time": "2022-09-06T20:01:37.743Z"
   },
   {
    "duration": 19,
    "start_time": "2022-09-06T20:01:37.761Z"
   },
   {
    "duration": 30,
    "start_time": "2022-09-06T20:01:37.782Z"
   },
   {
    "duration": 16,
    "start_time": "2022-09-06T20:01:37.813Z"
   },
   {
    "duration": 3,
    "start_time": "2022-09-06T20:01:37.830Z"
   },
   {
    "duration": 23,
    "start_time": "2022-09-06T20:01:37.834Z"
   },
   {
    "duration": 5,
    "start_time": "2022-09-06T20:01:37.860Z"
   },
   {
    "duration": 40,
    "start_time": "2022-09-06T20:01:37.867Z"
   },
   {
    "duration": 12,
    "start_time": "2022-09-06T20:01:37.909Z"
   },
   {
    "duration": 17,
    "start_time": "2022-09-06T20:01:37.923Z"
   },
   {
    "duration": 60,
    "start_time": "2022-09-07T19:39:20.003Z"
   },
   {
    "duration": 1017,
    "start_time": "2022-09-07T19:39:24.323Z"
   },
   {
    "duration": 114,
    "start_time": "2022-09-07T19:39:25.342Z"
   },
   {
    "duration": 36,
    "start_time": "2022-09-07T19:39:25.457Z"
   },
   {
    "duration": 21,
    "start_time": "2022-09-07T19:39:25.495Z"
   },
   {
    "duration": 21,
    "start_time": "2022-09-07T19:39:25.522Z"
   },
   {
    "duration": 19,
    "start_time": "2022-09-07T19:39:25.546Z"
   },
   {
    "duration": 52,
    "start_time": "2022-09-07T19:39:25.567Z"
   },
   {
    "duration": 19,
    "start_time": "2022-09-07T19:39:25.621Z"
   },
   {
    "duration": 22,
    "start_time": "2022-09-07T19:39:25.642Z"
   },
   {
    "duration": 8,
    "start_time": "2022-09-07T19:39:25.666Z"
   },
   {
    "duration": 97,
    "start_time": "2022-09-07T19:39:25.676Z"
   },
   {
    "duration": 0,
    "start_time": "2022-09-07T19:39:25.776Z"
   },
   {
    "duration": 0,
    "start_time": "2022-09-07T19:39:25.777Z"
   },
   {
    "duration": 0,
    "start_time": "2022-09-07T19:39:25.778Z"
   },
   {
    "duration": 0,
    "start_time": "2022-09-07T19:39:25.780Z"
   },
   {
    "duration": 0,
    "start_time": "2022-09-07T19:39:25.781Z"
   },
   {
    "duration": 0,
    "start_time": "2022-09-07T19:39:25.783Z"
   },
   {
    "duration": 0,
    "start_time": "2022-09-07T19:39:25.784Z"
   },
   {
    "duration": 0,
    "start_time": "2022-09-07T19:39:25.815Z"
   },
   {
    "duration": 0,
    "start_time": "2022-09-07T19:39:25.817Z"
   },
   {
    "duration": 0,
    "start_time": "2022-09-07T19:39:25.819Z"
   },
   {
    "duration": 0,
    "start_time": "2022-09-07T19:39:25.820Z"
   },
   {
    "duration": 0,
    "start_time": "2022-09-07T19:39:25.821Z"
   },
   {
    "duration": 0,
    "start_time": "2022-09-07T19:39:25.822Z"
   },
   {
    "duration": 0,
    "start_time": "2022-09-07T19:39:25.823Z"
   },
   {
    "duration": 0,
    "start_time": "2022-09-07T19:39:25.826Z"
   },
   {
    "duration": 0,
    "start_time": "2022-09-07T19:39:25.827Z"
   },
   {
    "duration": 0,
    "start_time": "2022-09-07T19:39:25.828Z"
   },
   {
    "duration": 0,
    "start_time": "2022-09-07T19:39:25.829Z"
   },
   {
    "duration": 0,
    "start_time": "2022-09-07T19:39:25.831Z"
   },
   {
    "duration": 0,
    "start_time": "2022-09-07T19:39:25.832Z"
   },
   {
    "duration": 0,
    "start_time": "2022-09-07T19:39:25.833Z"
   },
   {
    "duration": 0,
    "start_time": "2022-09-07T19:39:25.834Z"
   },
   {
    "duration": 0,
    "start_time": "2022-09-07T19:39:25.836Z"
   },
   {
    "duration": 0,
    "start_time": "2022-09-07T19:39:25.837Z"
   },
   {
    "duration": 0,
    "start_time": "2022-09-07T19:39:25.838Z"
   },
   {
    "duration": 0,
    "start_time": "2022-09-07T19:39:25.840Z"
   },
   {
    "duration": 0,
    "start_time": "2022-09-07T19:39:25.841Z"
   },
   {
    "duration": 0,
    "start_time": "2022-09-07T19:39:25.843Z"
   },
   {
    "duration": 0,
    "start_time": "2022-09-07T19:39:25.844Z"
   },
   {
    "duration": 0,
    "start_time": "2022-09-07T19:39:25.846Z"
   },
   {
    "duration": 0,
    "start_time": "2022-09-07T19:39:25.847Z"
   },
   {
    "duration": 0,
    "start_time": "2022-09-07T19:39:25.849Z"
   },
   {
    "duration": 0,
    "start_time": "2022-09-07T19:39:25.850Z"
   },
   {
    "duration": 16,
    "start_time": "2022-09-07T19:39:34.921Z"
   },
   {
    "duration": 23,
    "start_time": "2022-09-07T19:39:46.678Z"
   },
   {
    "duration": 953,
    "start_time": "2022-09-07T19:42:16.486Z"
   },
   {
    "duration": 56,
    "start_time": "2022-09-07T19:42:17.442Z"
   },
   {
    "duration": 35,
    "start_time": "2022-09-07T19:42:17.500Z"
   },
   {
    "duration": 29,
    "start_time": "2022-09-07T19:42:17.537Z"
   },
   {
    "duration": 19,
    "start_time": "2022-09-07T19:42:17.568Z"
   },
   {
    "duration": 44,
    "start_time": "2022-09-07T19:42:17.589Z"
   },
   {
    "duration": 25,
    "start_time": "2022-09-07T19:42:17.634Z"
   },
   {
    "duration": 31,
    "start_time": "2022-09-07T19:42:17.660Z"
   },
   {
    "duration": 44,
    "start_time": "2022-09-07T19:42:17.693Z"
   },
   {
    "duration": 38,
    "start_time": "2022-09-07T19:42:17.740Z"
   },
   {
    "duration": 133,
    "start_time": "2022-09-07T19:42:17.780Z"
   },
   {
    "duration": 0,
    "start_time": "2022-09-07T19:42:17.915Z"
   },
   {
    "duration": 0,
    "start_time": "2022-09-07T19:42:17.916Z"
   },
   {
    "duration": 0,
    "start_time": "2022-09-07T19:42:17.918Z"
   },
   {
    "duration": 0,
    "start_time": "2022-09-07T19:42:17.921Z"
   },
   {
    "duration": 0,
    "start_time": "2022-09-07T19:42:17.922Z"
   },
   {
    "duration": 0,
    "start_time": "2022-09-07T19:42:17.924Z"
   },
   {
    "duration": 0,
    "start_time": "2022-09-07T19:42:17.925Z"
   },
   {
    "duration": 0,
    "start_time": "2022-09-07T19:42:17.927Z"
   },
   {
    "duration": 0,
    "start_time": "2022-09-07T19:42:17.928Z"
   },
   {
    "duration": 0,
    "start_time": "2022-09-07T19:42:17.930Z"
   },
   {
    "duration": 0,
    "start_time": "2022-09-07T19:42:17.931Z"
   },
   {
    "duration": 0,
    "start_time": "2022-09-07T19:42:17.933Z"
   },
   {
    "duration": 0,
    "start_time": "2022-09-07T19:42:17.934Z"
   },
   {
    "duration": 0,
    "start_time": "2022-09-07T19:42:17.936Z"
   },
   {
    "duration": 0,
    "start_time": "2022-09-07T19:42:17.937Z"
   },
   {
    "duration": 0,
    "start_time": "2022-09-07T19:42:17.939Z"
   },
   {
    "duration": 0,
    "start_time": "2022-09-07T19:42:17.940Z"
   },
   {
    "duration": 0,
    "start_time": "2022-09-07T19:42:17.942Z"
   },
   {
    "duration": 0,
    "start_time": "2022-09-07T19:42:17.943Z"
   },
   {
    "duration": 0,
    "start_time": "2022-09-07T19:42:17.945Z"
   },
   {
    "duration": 0,
    "start_time": "2022-09-07T19:42:17.946Z"
   },
   {
    "duration": 0,
    "start_time": "2022-09-07T19:42:17.948Z"
   },
   {
    "duration": 0,
    "start_time": "2022-09-07T19:42:17.949Z"
   },
   {
    "duration": 0,
    "start_time": "2022-09-07T19:42:17.951Z"
   },
   {
    "duration": 0,
    "start_time": "2022-09-07T19:42:17.952Z"
   },
   {
    "duration": 0,
    "start_time": "2022-09-07T19:42:17.953Z"
   },
   {
    "duration": 0,
    "start_time": "2022-09-07T19:42:17.955Z"
   },
   {
    "duration": 0,
    "start_time": "2022-09-07T19:42:18.005Z"
   },
   {
    "duration": 0,
    "start_time": "2022-09-07T19:42:18.006Z"
   },
   {
    "duration": 0,
    "start_time": "2022-09-07T19:42:18.008Z"
   },
   {
    "duration": 0,
    "start_time": "2022-09-07T19:42:18.009Z"
   },
   {
    "duration": 0,
    "start_time": "2022-09-07T19:42:18.011Z"
   },
   {
    "duration": 0,
    "start_time": "2022-09-07T19:42:18.012Z"
   },
   {
    "duration": 29,
    "start_time": "2022-09-07T19:42:42.791Z"
   },
   {
    "duration": 22,
    "start_time": "2022-09-07T19:46:48.381Z"
   },
   {
    "duration": 18,
    "start_time": "2022-09-07T19:47:10.412Z"
   },
   {
    "duration": 358,
    "start_time": "2022-09-07T19:47:25.606Z"
   },
   {
    "duration": 272,
    "start_time": "2022-09-07T19:47:32.658Z"
   },
   {
    "duration": 19,
    "start_time": "2022-09-07T19:48:34.187Z"
   },
   {
    "duration": 19,
    "start_time": "2022-09-07T19:48:45.813Z"
   },
   {
    "duration": 10,
    "start_time": "2022-09-07T19:48:50.734Z"
   },
   {
    "duration": 61,
    "start_time": "2022-09-07T19:51:09.197Z"
   },
   {
    "duration": 16,
    "start_time": "2022-09-07T19:51:41.633Z"
   },
   {
    "duration": 4,
    "start_time": "2022-09-07T19:51:47.416Z"
   },
   {
    "duration": 8,
    "start_time": "2022-09-07T19:51:51.242Z"
   },
   {
    "duration": 25,
    "start_time": "2022-09-07T19:52:49.007Z"
   },
   {
    "duration": 1304,
    "start_time": "2022-09-07T19:52:57.735Z"
   },
   {
    "duration": 347,
    "start_time": "2022-09-07T19:53:59.622Z"
   },
   {
    "duration": 3,
    "start_time": "2022-09-07T19:54:10.111Z"
   },
   {
    "duration": 62,
    "start_time": "2022-09-07T19:54:10.116Z"
   },
   {
    "duration": 25,
    "start_time": "2022-09-07T19:54:10.180Z"
   },
   {
    "duration": 17,
    "start_time": "2022-09-07T19:54:10.206Z"
   },
   {
    "duration": 9,
    "start_time": "2022-09-07T19:54:10.225Z"
   },
   {
    "duration": 18,
    "start_time": "2022-09-07T19:54:10.236Z"
   },
   {
    "duration": 48,
    "start_time": "2022-09-07T19:54:10.256Z"
   },
   {
    "duration": 22,
    "start_time": "2022-09-07T19:54:10.307Z"
   },
   {
    "duration": 20,
    "start_time": "2022-09-07T19:54:10.331Z"
   },
   {
    "duration": 9,
    "start_time": "2022-09-07T19:54:10.353Z"
   },
   {
    "duration": 50,
    "start_time": "2022-09-07T19:54:10.365Z"
   },
   {
    "duration": 3,
    "start_time": "2022-09-07T19:54:10.418Z"
   },
   {
    "duration": 33,
    "start_time": "2022-09-07T19:54:10.422Z"
   },
   {
    "duration": 10,
    "start_time": "2022-09-07T19:54:10.457Z"
   },
   {
    "duration": 10,
    "start_time": "2022-09-07T19:54:10.469Z"
   },
   {
    "duration": 13,
    "start_time": "2022-09-07T19:54:10.502Z"
   },
   {
    "duration": 27,
    "start_time": "2022-09-07T19:54:10.517Z"
   },
   {
    "duration": 284,
    "start_time": "2022-09-07T19:54:10.546Z"
   },
   {
    "duration": 16,
    "start_time": "2022-09-07T19:54:10.831Z"
   },
   {
    "duration": 5,
    "start_time": "2022-09-07T19:54:10.848Z"
   },
   {
    "duration": 13,
    "start_time": "2022-09-07T19:54:10.854Z"
   },
   {
    "duration": 38,
    "start_time": "2022-09-07T19:54:10.869Z"
   },
   {
    "duration": 1216,
    "start_time": "2022-09-07T19:54:10.908Z"
   },
   {
    "duration": 158,
    "start_time": "2022-09-07T19:54:12.126Z"
   },
   {
    "duration": 7,
    "start_time": "2022-09-07T19:54:12.286Z"
   },
   {
    "duration": 253,
    "start_time": "2022-09-07T19:54:12.302Z"
   },
   {
    "duration": 7,
    "start_time": "2022-09-07T19:54:12.557Z"
   },
   {
    "duration": 8,
    "start_time": "2022-09-07T19:54:12.566Z"
   },
   {
    "duration": 1273,
    "start_time": "2022-09-07T19:54:12.577Z"
   },
   {
    "duration": 1266,
    "start_time": "2022-09-07T19:54:13.852Z"
   },
   {
    "duration": 7,
    "start_time": "2022-09-07T19:54:15.120Z"
   },
   {
    "duration": 10,
    "start_time": "2022-09-07T19:54:15.129Z"
   },
   {
    "duration": 2213,
    "start_time": "2022-09-07T19:54:15.141Z"
   },
   {
    "duration": 6,
    "start_time": "2022-09-07T19:54:17.356Z"
   },
   {
    "duration": 26,
    "start_time": "2022-09-07T19:54:17.364Z"
   },
   {
    "duration": 9,
    "start_time": "2022-09-07T19:54:17.402Z"
   },
   {
    "duration": 13,
    "start_time": "2022-09-07T19:54:17.413Z"
   },
   {
    "duration": 28,
    "start_time": "2022-09-07T19:54:17.428Z"
   },
   {
    "duration": 47,
    "start_time": "2022-09-07T19:54:17.459Z"
   },
   {
    "duration": 23,
    "start_time": "2022-09-07T19:54:17.509Z"
   },
   {
    "duration": 12,
    "start_time": "2022-09-07T19:54:17.534Z"
   },
   {
    "duration": 22,
    "start_time": "2022-09-07T19:54:17.548Z"
   },
   {
    "duration": 16,
    "start_time": "2022-09-07T19:54:17.571Z"
   },
   {
    "duration": 22,
    "start_time": "2022-09-07T19:54:17.589Z"
   },
   {
    "duration": 91,
    "start_time": "2022-09-07T19:54:52.779Z"
   },
   {
    "duration": 2,
    "start_time": "2022-09-07T19:56:26.482Z"
   },
   {
    "duration": 62,
    "start_time": "2022-09-08T16:40:20.439Z"
   },
   {
    "duration": 2,
    "start_time": "2022-09-08T16:46:21.894Z"
   },
   {
    "duration": 40,
    "start_time": "2022-09-08T16:54:34.040Z"
   },
   {
    "duration": 839,
    "start_time": "2022-09-08T16:54:38.057Z"
   },
   {
    "duration": 93,
    "start_time": "2022-09-08T16:54:38.899Z"
   },
   {
    "duration": 22,
    "start_time": "2022-09-08T16:54:38.994Z"
   },
   {
    "duration": 12,
    "start_time": "2022-09-08T16:54:39.017Z"
   },
   {
    "duration": 7,
    "start_time": "2022-09-08T16:54:39.031Z"
   },
   {
    "duration": 14,
    "start_time": "2022-09-08T16:54:39.039Z"
   },
   {
    "duration": 12,
    "start_time": "2022-09-08T16:54:39.054Z"
   },
   {
    "duration": 45,
    "start_time": "2022-09-08T16:54:39.067Z"
   },
   {
    "duration": 15,
    "start_time": "2022-09-08T16:54:39.114Z"
   },
   {
    "duration": 8,
    "start_time": "2022-09-08T16:54:39.130Z"
   },
   {
    "duration": 12,
    "start_time": "2022-09-08T16:54:39.140Z"
   },
   {
    "duration": 3,
    "start_time": "2022-09-08T16:54:39.153Z"
   },
   {
    "duration": 44,
    "start_time": "2022-09-08T16:54:39.157Z"
   },
   {
    "duration": 5,
    "start_time": "2022-09-08T16:54:39.205Z"
   },
   {
    "duration": 9,
    "start_time": "2022-09-08T16:54:39.212Z"
   },
   {
    "duration": 10,
    "start_time": "2022-09-08T16:54:39.224Z"
   },
   {
    "duration": 17,
    "start_time": "2022-09-08T16:54:39.235Z"
   },
   {
    "duration": 573,
    "start_time": "2022-09-08T16:54:39.253Z"
   },
   {
    "duration": 52,
    "start_time": "2022-09-08T16:54:39.827Z"
   },
   {
    "duration": 28,
    "start_time": "2022-09-08T16:54:39.880Z"
   },
   {
    "duration": 4,
    "start_time": "2022-09-08T16:54:39.910Z"
   },
   {
    "duration": 11,
    "start_time": "2022-09-08T16:54:39.915Z"
   },
   {
    "duration": 21,
    "start_time": "2022-09-08T16:54:39.927Z"
   },
   {
    "duration": 1048,
    "start_time": "2022-09-08T16:54:39.949Z"
   },
   {
    "duration": 201,
    "start_time": "2022-09-08T16:54:41.000Z"
   },
   {
    "duration": 6,
    "start_time": "2022-09-08T16:54:41.203Z"
   },
   {
    "duration": 122,
    "start_time": "2022-09-08T16:54:41.211Z"
   },
   {
    "duration": 6,
    "start_time": "2022-09-08T16:54:41.335Z"
   },
   {
    "duration": 17,
    "start_time": "2022-09-08T16:54:41.342Z"
   },
   {
    "duration": 1144,
    "start_time": "2022-09-08T16:54:41.361Z"
   },
   {
    "duration": 1046,
    "start_time": "2022-09-08T16:54:42.507Z"
   },
   {
    "duration": 6,
    "start_time": "2022-09-08T16:54:43.555Z"
   },
   {
    "duration": 8,
    "start_time": "2022-09-08T16:54:43.562Z"
   },
   {
    "duration": 1832,
    "start_time": "2022-09-08T16:54:43.571Z"
   },
   {
    "duration": 6,
    "start_time": "2022-09-08T16:54:45.404Z"
   },
   {
    "duration": 9,
    "start_time": "2022-09-08T16:54:45.411Z"
   },
   {
    "duration": 12,
    "start_time": "2022-09-08T16:54:45.421Z"
   },
   {
    "duration": 6,
    "start_time": "2022-09-08T16:54:45.434Z"
   },
   {
    "duration": 8,
    "start_time": "2022-09-08T16:54:45.441Z"
   },
   {
    "duration": 8,
    "start_time": "2022-09-08T16:54:45.451Z"
   },
   {
    "duration": 6,
    "start_time": "2022-09-08T16:54:45.463Z"
   },
   {
    "duration": 8,
    "start_time": "2022-09-08T16:54:45.501Z"
   },
   {
    "duration": 7,
    "start_time": "2022-09-08T16:54:45.511Z"
   },
   {
    "duration": 8,
    "start_time": "2022-09-08T16:54:45.520Z"
   },
   {
    "duration": 8,
    "start_time": "2022-09-08T16:54:45.529Z"
   },
   {
    "duration": 6,
    "start_time": "2022-09-08T16:57:07.003Z"
   },
   {
    "duration": 2,
    "start_time": "2022-09-08T16:57:10.891Z"
   },
   {
    "duration": 51,
    "start_time": "2022-09-08T16:57:10.895Z"
   },
   {
    "duration": 17,
    "start_time": "2022-09-08T16:57:10.947Z"
   },
   {
    "duration": 14,
    "start_time": "2022-09-08T16:57:10.967Z"
   },
   {
    "duration": 7,
    "start_time": "2022-09-08T16:57:10.982Z"
   },
   {
    "duration": 17,
    "start_time": "2022-09-08T16:57:10.990Z"
   },
   {
    "duration": 12,
    "start_time": "2022-09-08T16:57:11.008Z"
   },
   {
    "duration": 16,
    "start_time": "2022-09-08T16:57:11.021Z"
   },
   {
    "duration": 15,
    "start_time": "2022-09-08T16:57:11.038Z"
   },
   {
    "duration": 6,
    "start_time": "2022-09-08T16:57:11.054Z"
   },
   {
    "duration": 42,
    "start_time": "2022-09-08T16:57:11.062Z"
   },
   {
    "duration": 4,
    "start_time": "2022-09-08T16:57:11.105Z"
   },
   {
    "duration": 22,
    "start_time": "2022-09-08T16:57:11.111Z"
   },
   {
    "duration": 6,
    "start_time": "2022-09-08T16:57:11.135Z"
   },
   {
    "duration": 9,
    "start_time": "2022-09-08T16:57:11.142Z"
   },
   {
    "duration": 11,
    "start_time": "2022-09-08T16:57:11.152Z"
   },
   {
    "duration": 45,
    "start_time": "2022-09-08T16:57:11.165Z"
   },
   {
    "duration": 314,
    "start_time": "2022-09-08T16:57:11.212Z"
   },
   {
    "duration": 8,
    "start_time": "2022-09-08T16:57:11.527Z"
   },
   {
    "duration": 46,
    "start_time": "2022-09-08T16:57:11.536Z"
   },
   {
    "duration": 26,
    "start_time": "2022-09-08T16:57:11.584Z"
   },
   {
    "duration": 3,
    "start_time": "2022-09-08T16:57:11.611Z"
   },
   {
    "duration": 6,
    "start_time": "2022-09-08T16:57:11.616Z"
   },
   {
    "duration": 23,
    "start_time": "2022-09-08T16:57:11.625Z"
   },
   {
    "duration": 1045,
    "start_time": "2022-09-08T16:57:11.649Z"
   },
   {
    "duration": 133,
    "start_time": "2022-09-08T16:57:12.695Z"
   },
   {
    "duration": 7,
    "start_time": "2022-09-08T16:57:12.829Z"
   },
   {
    "duration": 135,
    "start_time": "2022-09-08T16:57:12.838Z"
   },
   {
    "duration": 6,
    "start_time": "2022-09-08T16:57:12.975Z"
   },
   {
    "duration": 18,
    "start_time": "2022-09-08T16:57:12.983Z"
   },
   {
    "duration": 1124,
    "start_time": "2022-09-08T16:57:13.003Z"
   },
   {
    "duration": 1207,
    "start_time": "2022-09-08T16:57:14.129Z"
   },
   {
    "duration": 6,
    "start_time": "2022-09-08T16:57:15.338Z"
   },
   {
    "duration": 61,
    "start_time": "2022-09-08T16:57:15.346Z"
   },
   {
    "duration": 2529,
    "start_time": "2022-09-08T16:57:15.408Z"
   },
   {
    "duration": 5,
    "start_time": "2022-09-08T16:57:17.939Z"
   },
   {
    "duration": 22,
    "start_time": "2022-09-08T16:57:17.945Z"
   },
   {
    "duration": 18,
    "start_time": "2022-09-08T16:57:17.968Z"
   },
   {
    "duration": 27,
    "start_time": "2022-09-08T16:57:17.987Z"
   },
   {
    "duration": 21,
    "start_time": "2022-09-08T16:57:18.015Z"
   },
   {
    "duration": 13,
    "start_time": "2022-09-08T16:57:18.038Z"
   },
   {
    "duration": 7,
    "start_time": "2022-09-08T16:57:18.052Z"
   },
   {
    "duration": 15,
    "start_time": "2022-09-08T16:57:18.061Z"
   },
   {
    "duration": 16,
    "start_time": "2022-09-08T16:57:18.077Z"
   },
   {
    "duration": 20,
    "start_time": "2022-09-08T16:57:18.094Z"
   },
   {
    "duration": 15,
    "start_time": "2022-09-08T16:57:18.115Z"
   },
   {
    "duration": 40,
    "start_time": "2022-09-08T16:59:22.481Z"
   },
   {
    "duration": 17,
    "start_time": "2022-09-08T17:00:58.729Z"
   },
   {
    "duration": 2,
    "start_time": "2022-09-08T17:01:03.185Z"
   },
   {
    "duration": 53,
    "start_time": "2022-09-08T17:01:03.189Z"
   },
   {
    "duration": 16,
    "start_time": "2022-09-08T17:01:03.243Z"
   },
   {
    "duration": 16,
    "start_time": "2022-09-08T17:01:03.260Z"
   },
   {
    "duration": 7,
    "start_time": "2022-09-08T17:01:03.278Z"
   },
   {
    "duration": 16,
    "start_time": "2022-09-08T17:01:03.286Z"
   },
   {
    "duration": 12,
    "start_time": "2022-09-08T17:01:03.303Z"
   },
   {
    "duration": 15,
    "start_time": "2022-09-08T17:01:03.316Z"
   },
   {
    "duration": 15,
    "start_time": "2022-09-08T17:01:03.333Z"
   },
   {
    "duration": 7,
    "start_time": "2022-09-08T17:01:03.350Z"
   },
   {
    "duration": 44,
    "start_time": "2022-09-08T17:01:03.359Z"
   },
   {
    "duration": 2,
    "start_time": "2022-09-08T17:01:03.405Z"
   },
   {
    "duration": 20,
    "start_time": "2022-09-08T17:01:03.409Z"
   },
   {
    "duration": 5,
    "start_time": "2022-09-08T17:01:03.432Z"
   },
   {
    "duration": 21,
    "start_time": "2022-09-08T17:01:03.439Z"
   },
   {
    "duration": 16,
    "start_time": "2022-09-08T17:01:03.462Z"
   },
   {
    "duration": 22,
    "start_time": "2022-09-08T17:01:03.479Z"
   },
   {
    "duration": 220,
    "start_time": "2022-09-08T17:01:03.502Z"
   },
   {
    "duration": 7,
    "start_time": "2022-09-08T17:01:03.724Z"
   },
   {
    "duration": 49,
    "start_time": "2022-09-08T17:01:03.732Z"
   },
   {
    "duration": 26,
    "start_time": "2022-09-08T17:01:03.783Z"
   },
   {
    "duration": 4,
    "start_time": "2022-09-08T17:01:03.810Z"
   },
   {
    "duration": 6,
    "start_time": "2022-09-08T17:01:03.816Z"
   },
   {
    "duration": 16,
    "start_time": "2022-09-08T17:01:03.823Z"
   },
   {
    "duration": 1192,
    "start_time": "2022-09-08T17:01:03.841Z"
   },
   {
    "duration": 129,
    "start_time": "2022-09-08T17:01:05.034Z"
   },
   {
    "duration": 7,
    "start_time": "2022-09-08T17:01:05.164Z"
   },
   {
    "duration": 121,
    "start_time": "2022-09-08T17:01:05.172Z"
   },
   {
    "duration": 7,
    "start_time": "2022-09-08T17:01:05.300Z"
   },
   {
    "duration": 19,
    "start_time": "2022-09-08T17:01:05.308Z"
   },
   {
    "duration": 1050,
    "start_time": "2022-09-08T17:01:05.329Z"
   },
   {
    "duration": 1124,
    "start_time": "2022-09-08T17:01:06.381Z"
   },
   {
    "duration": 6,
    "start_time": "2022-09-08T17:01:07.507Z"
   },
   {
    "duration": 10,
    "start_time": "2022-09-08T17:01:07.514Z"
   },
   {
    "duration": 2623,
    "start_time": "2022-09-08T17:01:07.525Z"
   },
   {
    "duration": 6,
    "start_time": "2022-09-08T17:01:10.150Z"
   },
   {
    "duration": 9,
    "start_time": "2022-09-08T17:01:10.157Z"
   },
   {
    "duration": 11,
    "start_time": "2022-09-08T17:01:10.167Z"
   },
   {
    "duration": 24,
    "start_time": "2022-09-08T17:01:10.179Z"
   },
   {
    "duration": 9,
    "start_time": "2022-09-08T17:01:10.205Z"
   },
   {
    "duration": 7,
    "start_time": "2022-09-08T17:01:10.217Z"
   },
   {
    "duration": 5,
    "start_time": "2022-09-08T17:01:10.226Z"
   },
   {
    "duration": 8,
    "start_time": "2022-09-08T17:01:10.233Z"
   },
   {
    "duration": 7,
    "start_time": "2022-09-08T17:01:10.243Z"
   },
   {
    "duration": 13,
    "start_time": "2022-09-08T17:01:10.259Z"
   },
   {
    "duration": 27,
    "start_time": "2022-09-08T17:01:10.274Z"
   },
   {
    "duration": 4,
    "start_time": "2022-09-08T17:02:24.484Z"
   },
   {
    "duration": 77,
    "start_time": "2022-09-08T17:05:28.658Z"
   },
   {
    "duration": 9,
    "start_time": "2022-09-08T17:05:42.550Z"
   },
   {
    "duration": 2,
    "start_time": "2022-09-08T17:05:54.636Z"
   },
   {
    "duration": 51,
    "start_time": "2022-09-08T17:05:54.640Z"
   },
   {
    "duration": 15,
    "start_time": "2022-09-08T17:05:54.693Z"
   },
   {
    "duration": 15,
    "start_time": "2022-09-08T17:05:54.709Z"
   },
   {
    "duration": 7,
    "start_time": "2022-09-08T17:05:54.726Z"
   },
   {
    "duration": 14,
    "start_time": "2022-09-08T17:05:54.734Z"
   },
   {
    "duration": 11,
    "start_time": "2022-09-08T17:05:54.749Z"
   },
   {
    "duration": 20,
    "start_time": "2022-09-08T17:05:54.761Z"
   },
   {
    "duration": 29,
    "start_time": "2022-09-08T17:05:54.782Z"
   },
   {
    "duration": 7,
    "start_time": "2022-09-08T17:05:54.813Z"
   },
   {
    "duration": 13,
    "start_time": "2022-09-08T17:05:54.822Z"
   },
   {
    "duration": 11,
    "start_time": "2022-09-08T17:05:54.836Z"
   },
   {
    "duration": 23,
    "start_time": "2022-09-08T17:05:54.848Z"
   },
   {
    "duration": 6,
    "start_time": "2022-09-08T17:05:54.872Z"
   },
   {
    "duration": 25,
    "start_time": "2022-09-08T17:05:54.880Z"
   },
   {
    "duration": 14,
    "start_time": "2022-09-08T17:05:54.907Z"
   },
   {
    "duration": 21,
    "start_time": "2022-09-08T17:05:54.922Z"
   },
   {
    "duration": 241,
    "start_time": "2022-09-08T17:05:54.945Z"
   },
   {
    "duration": 13,
    "start_time": "2022-09-08T17:05:55.187Z"
   },
   {
    "duration": 21,
    "start_time": "2022-09-08T17:05:55.202Z"
   },
   {
    "duration": 12,
    "start_time": "2022-09-08T17:05:55.225Z"
   },
   {
    "duration": 4,
    "start_time": "2022-09-08T17:05:55.239Z"
   },
   {
    "duration": 11,
    "start_time": "2022-09-08T17:05:55.244Z"
   },
   {
    "duration": 18,
    "start_time": "2022-09-08T17:05:55.256Z"
   },
   {
    "duration": 1134,
    "start_time": "2022-09-08T17:05:55.276Z"
   },
   {
    "duration": 150,
    "start_time": "2022-09-08T17:05:56.412Z"
   },
   {
    "duration": 7,
    "start_time": "2022-09-08T17:05:56.563Z"
   },
   {
    "duration": 129,
    "start_time": "2022-09-08T17:05:56.571Z"
   },
   {
    "duration": 6,
    "start_time": "2022-09-08T17:05:56.704Z"
   },
   {
    "duration": 9,
    "start_time": "2022-09-08T17:05:56.711Z"
   },
   {
    "duration": 1068,
    "start_time": "2022-09-08T17:05:56.722Z"
   },
   {
    "duration": 1163,
    "start_time": "2022-09-08T17:05:57.791Z"
   },
   {
    "duration": 7,
    "start_time": "2022-09-08T17:05:58.955Z"
   },
   {
    "duration": 6,
    "start_time": "2022-09-08T17:05:58.963Z"
   },
   {
    "duration": 2674,
    "start_time": "2022-09-08T17:05:58.971Z"
   },
   {
    "duration": 6,
    "start_time": "2022-09-08T17:06:01.646Z"
   },
   {
    "duration": 8,
    "start_time": "2022-09-08T17:06:01.654Z"
   },
   {
    "duration": 11,
    "start_time": "2022-09-08T17:06:01.664Z"
   },
   {
    "duration": 27,
    "start_time": "2022-09-08T17:06:01.676Z"
   },
   {
    "duration": 7,
    "start_time": "2022-09-08T17:06:01.704Z"
   },
   {
    "duration": 11,
    "start_time": "2022-09-08T17:06:01.712Z"
   },
   {
    "duration": 19,
    "start_time": "2022-09-08T17:06:01.724Z"
   },
   {
    "duration": 18,
    "start_time": "2022-09-08T17:06:01.745Z"
   },
   {
    "duration": 11,
    "start_time": "2022-09-08T17:06:01.765Z"
   },
   {
    "duration": 15,
    "start_time": "2022-09-08T17:06:01.778Z"
   },
   {
    "duration": 51,
    "start_time": "2022-09-08T17:06:01.795Z"
   },
   {
    "duration": 9,
    "start_time": "2022-09-08T17:06:19.208Z"
   },
   {
    "duration": 9,
    "start_time": "2022-09-08T17:07:01.813Z"
   },
   {
    "duration": 2,
    "start_time": "2022-09-08T17:07:52.036Z"
   },
   {
    "duration": 55,
    "start_time": "2022-09-08T17:07:52.040Z"
   },
   {
    "duration": 17,
    "start_time": "2022-09-08T17:07:52.097Z"
   },
   {
    "duration": 17,
    "start_time": "2022-09-08T17:07:52.115Z"
   },
   {
    "duration": 7,
    "start_time": "2022-09-08T17:07:52.134Z"
   },
   {
    "duration": 22,
    "start_time": "2022-09-08T17:07:52.142Z"
   },
   {
    "duration": 34,
    "start_time": "2022-09-08T17:07:52.166Z"
   },
   {
    "duration": 20,
    "start_time": "2022-09-08T17:07:52.202Z"
   },
   {
    "duration": 18,
    "start_time": "2022-09-08T17:07:52.224Z"
   },
   {
    "duration": 8,
    "start_time": "2022-09-08T17:07:52.244Z"
   },
   {
    "duration": 15,
    "start_time": "2022-09-08T17:07:52.254Z"
   },
   {
    "duration": 2,
    "start_time": "2022-09-08T17:07:52.301Z"
   },
   {
    "duration": 24,
    "start_time": "2022-09-08T17:07:52.305Z"
   },
   {
    "duration": 6,
    "start_time": "2022-09-08T17:07:52.331Z"
   },
   {
    "duration": 13,
    "start_time": "2022-09-08T17:07:52.339Z"
   },
   {
    "duration": 13,
    "start_time": "2022-09-08T17:07:52.353Z"
   },
   {
    "duration": 37,
    "start_time": "2022-09-08T17:07:52.368Z"
   },
   {
    "duration": 243,
    "start_time": "2022-09-08T17:07:52.407Z"
   },
   {
    "duration": 9,
    "start_time": "2022-09-08T17:07:52.651Z"
   },
   {
    "duration": 28,
    "start_time": "2022-09-08T17:07:52.661Z"
   },
   {
    "duration": 13,
    "start_time": "2022-09-08T17:07:52.700Z"
   },
   {
    "duration": 4,
    "start_time": "2022-09-08T17:07:52.715Z"
   },
   {
    "duration": 8,
    "start_time": "2022-09-08T17:07:52.720Z"
   },
   {
    "duration": 19,
    "start_time": "2022-09-08T17:07:52.729Z"
   },
   {
    "duration": 1037,
    "start_time": "2022-09-08T17:07:52.750Z"
   },
   {
    "duration": 132,
    "start_time": "2022-09-08T17:07:53.788Z"
   },
   {
    "duration": 6,
    "start_time": "2022-09-08T17:07:53.922Z"
   },
   {
    "duration": 241,
    "start_time": "2022-09-08T17:07:53.930Z"
   },
   {
    "duration": 7,
    "start_time": "2022-09-08T17:07:54.175Z"
   },
   {
    "duration": 17,
    "start_time": "2022-09-08T17:07:54.184Z"
   },
   {
    "duration": 1412,
    "start_time": "2022-09-08T17:07:54.202Z"
   },
   {
    "duration": 1661,
    "start_time": "2022-09-08T17:07:55.616Z"
   },
   {
    "duration": 6,
    "start_time": "2022-09-08T17:07:57.279Z"
   },
   {
    "duration": 15,
    "start_time": "2022-09-08T17:07:57.286Z"
   },
   {
    "duration": 1865,
    "start_time": "2022-09-08T17:07:57.302Z"
   },
   {
    "duration": 6,
    "start_time": "2022-09-08T17:07:59.169Z"
   },
   {
    "duration": 29,
    "start_time": "2022-09-08T17:07:59.177Z"
   },
   {
    "duration": 8,
    "start_time": "2022-09-08T17:07:59.207Z"
   },
   {
    "duration": 5,
    "start_time": "2022-09-08T17:07:59.217Z"
   },
   {
    "duration": 10,
    "start_time": "2022-09-08T17:07:59.224Z"
   },
   {
    "duration": 7,
    "start_time": "2022-09-08T17:07:59.236Z"
   },
   {
    "duration": 7,
    "start_time": "2022-09-08T17:07:59.245Z"
   },
   {
    "duration": 6,
    "start_time": "2022-09-08T17:07:59.254Z"
   },
   {
    "duration": 6,
    "start_time": "2022-09-08T17:07:59.261Z"
   },
   {
    "duration": 37,
    "start_time": "2022-09-08T17:07:59.268Z"
   },
   {
    "duration": 8,
    "start_time": "2022-09-08T17:07:59.307Z"
   },
   {
    "duration": 79,
    "start_time": "2022-09-08T17:08:53.850Z"
   },
   {
    "duration": 65,
    "start_time": "2022-09-08T17:09:04.847Z"
   },
   {
    "duration": 26,
    "start_time": "2022-09-08T17:09:08.553Z"
   },
   {
    "duration": 11,
    "start_time": "2022-09-08T17:09:29.801Z"
   },
   {
    "duration": 722,
    "start_time": "2022-09-08T17:10:16.132Z"
   },
   {
    "duration": 10,
    "start_time": "2022-09-08T17:12:39.422Z"
   },
   {
    "duration": 14,
    "start_time": "2022-09-08T17:13:01.109Z"
   },
   {
    "duration": 60,
    "start_time": "2022-09-08T17:13:01.125Z"
   },
   {
    "duration": 16,
    "start_time": "2022-09-08T17:13:01.186Z"
   },
   {
    "duration": 26,
    "start_time": "2022-09-08T17:13:01.204Z"
   },
   {
    "duration": 26,
    "start_time": "2022-09-08T17:13:01.231Z"
   },
   {
    "duration": 21,
    "start_time": "2022-09-08T17:13:01.258Z"
   },
   {
    "duration": 16,
    "start_time": "2022-09-08T17:13:01.280Z"
   },
   {
    "duration": 16,
    "start_time": "2022-09-08T17:13:01.297Z"
   },
   {
    "duration": 29,
    "start_time": "2022-09-08T17:13:01.314Z"
   },
   {
    "duration": 9,
    "start_time": "2022-09-08T17:13:01.344Z"
   },
   {
    "duration": 14,
    "start_time": "2022-09-08T17:13:01.354Z"
   },
   {
    "duration": 24,
    "start_time": "2022-09-08T17:13:01.370Z"
   },
   {
    "duration": 33,
    "start_time": "2022-09-08T17:13:01.398Z"
   },
   {
    "duration": 6,
    "start_time": "2022-09-08T17:13:01.433Z"
   },
   {
    "duration": 13,
    "start_time": "2022-09-08T17:13:01.440Z"
   },
   {
    "duration": 28,
    "start_time": "2022-09-08T17:13:01.455Z"
   },
   {
    "duration": 24,
    "start_time": "2022-09-08T17:13:01.484Z"
   },
   {
    "duration": 235,
    "start_time": "2022-09-08T17:13:01.509Z"
   },
   {
    "duration": 7,
    "start_time": "2022-09-08T17:13:01.746Z"
   },
   {
    "duration": 85,
    "start_time": "2022-09-08T17:13:01.755Z"
   },
   {
    "duration": 51,
    "start_time": "2022-09-08T17:13:01.842Z"
   },
   {
    "duration": 6,
    "start_time": "2022-09-08T17:13:01.895Z"
   },
   {
    "duration": 18,
    "start_time": "2022-09-08T17:13:01.903Z"
   },
   {
    "duration": 52,
    "start_time": "2022-09-08T17:13:01.923Z"
   },
   {
    "duration": 1094,
    "start_time": "2022-09-08T17:13:01.976Z"
   },
   {
    "duration": 131,
    "start_time": "2022-09-08T17:13:03.071Z"
   },
   {
    "duration": 6,
    "start_time": "2022-09-08T17:13:03.203Z"
   },
   {
    "duration": 129,
    "start_time": "2022-09-08T17:13:03.211Z"
   },
   {
    "duration": 6,
    "start_time": "2022-09-08T17:13:03.342Z"
   },
   {
    "duration": 7,
    "start_time": "2022-09-08T17:13:03.349Z"
   },
   {
    "duration": 1559,
    "start_time": "2022-09-08T17:13:03.358Z"
   },
   {
    "duration": 1483,
    "start_time": "2022-09-08T17:13:04.919Z"
   },
   {
    "duration": 6,
    "start_time": "2022-09-08T17:13:06.404Z"
   },
   {
    "duration": 11,
    "start_time": "2022-09-08T17:13:06.412Z"
   },
   {
    "duration": 1797,
    "start_time": "2022-09-08T17:13:06.424Z"
   },
   {
    "duration": 5,
    "start_time": "2022-09-08T17:13:08.223Z"
   },
   {
    "duration": 32,
    "start_time": "2022-09-08T17:13:08.229Z"
   },
   {
    "duration": 21,
    "start_time": "2022-09-08T17:13:08.262Z"
   },
   {
    "duration": 15,
    "start_time": "2022-09-08T17:13:08.285Z"
   },
   {
    "duration": 20,
    "start_time": "2022-09-08T17:13:08.303Z"
   },
   {
    "duration": 29,
    "start_time": "2022-09-08T17:13:08.325Z"
   },
   {
    "duration": 19,
    "start_time": "2022-09-08T17:13:08.355Z"
   },
   {
    "duration": 22,
    "start_time": "2022-09-08T17:13:08.376Z"
   },
   {
    "duration": 25,
    "start_time": "2022-09-08T17:13:08.399Z"
   },
   {
    "duration": 13,
    "start_time": "2022-09-08T17:13:08.426Z"
   },
   {
    "duration": 12,
    "start_time": "2022-09-08T17:13:08.441Z"
   },
   {
    "duration": 20,
    "start_time": "2022-09-08T17:13:39.172Z"
   },
   {
    "duration": 11,
    "start_time": "2022-09-08T17:14:23.340Z"
   },
   {
    "duration": 56,
    "start_time": "2022-09-08T17:15:13.438Z"
   },
   {
    "duration": 10,
    "start_time": "2022-09-08T17:15:19.970Z"
   },
   {
    "duration": 3,
    "start_time": "2022-09-08T17:15:32.354Z"
   },
   {
    "duration": 57,
    "start_time": "2022-09-08T17:15:32.359Z"
   },
   {
    "duration": 18,
    "start_time": "2022-09-08T17:15:32.418Z"
   },
   {
    "duration": 17,
    "start_time": "2022-09-08T17:15:32.438Z"
   },
   {
    "duration": 9,
    "start_time": "2022-09-08T17:15:32.457Z"
   },
   {
    "duration": 40,
    "start_time": "2022-09-08T17:15:32.467Z"
   },
   {
    "duration": 14,
    "start_time": "2022-09-08T17:15:32.508Z"
   },
   {
    "duration": 19,
    "start_time": "2022-09-08T17:15:32.524Z"
   },
   {
    "duration": 20,
    "start_time": "2022-09-08T17:15:32.545Z"
   },
   {
    "duration": 7,
    "start_time": "2022-09-08T17:15:32.566Z"
   },
   {
    "duration": 39,
    "start_time": "2022-09-08T17:15:32.575Z"
   },
   {
    "duration": 45,
    "start_time": "2022-09-08T17:15:32.615Z"
   },
   {
    "duration": 34,
    "start_time": "2022-09-08T17:15:32.662Z"
   },
   {
    "duration": 7,
    "start_time": "2022-09-08T17:15:32.697Z"
   },
   {
    "duration": 20,
    "start_time": "2022-09-08T17:15:32.706Z"
   },
   {
    "duration": 19,
    "start_time": "2022-09-08T17:15:32.728Z"
   },
   {
    "duration": 18,
    "start_time": "2022-09-08T17:15:32.749Z"
   },
   {
    "duration": 265,
    "start_time": "2022-09-08T17:15:32.769Z"
   },
   {
    "duration": 10,
    "start_time": "2022-09-08T17:15:33.036Z"
   },
   {
    "duration": 12,
    "start_time": "2022-09-08T17:15:33.048Z"
   },
   {
    "duration": 17,
    "start_time": "2022-09-08T17:15:33.062Z"
   },
   {
    "duration": 23,
    "start_time": "2022-09-08T17:15:33.080Z"
   },
   {
    "duration": 11,
    "start_time": "2022-09-08T17:15:33.105Z"
   },
   {
    "duration": 29,
    "start_time": "2022-09-08T17:15:33.118Z"
   },
   {
    "duration": 1398,
    "start_time": "2022-09-08T17:15:33.149Z"
   },
   {
    "duration": 171,
    "start_time": "2022-09-08T17:15:34.549Z"
   },
   {
    "duration": 6,
    "start_time": "2022-09-08T17:15:34.722Z"
   },
   {
    "duration": 148,
    "start_time": "2022-09-08T17:15:34.729Z"
   },
   {
    "duration": 7,
    "start_time": "2022-09-08T17:15:34.880Z"
   },
   {
    "duration": 7,
    "start_time": "2022-09-08T17:15:34.900Z"
   },
   {
    "duration": 2003,
    "start_time": "2022-09-08T17:15:34.909Z"
   },
   {
    "duration": 1627,
    "start_time": "2022-09-08T17:15:36.913Z"
   },
   {
    "duration": 7,
    "start_time": "2022-09-08T17:15:38.542Z"
   },
   {
    "duration": 20,
    "start_time": "2022-09-08T17:15:38.551Z"
   },
   {
    "duration": 2148,
    "start_time": "2022-09-08T17:15:38.573Z"
   },
   {
    "duration": 7,
    "start_time": "2022-09-08T17:15:40.723Z"
   },
   {
    "duration": 39,
    "start_time": "2022-09-08T17:15:40.732Z"
   },
   {
    "duration": 35,
    "start_time": "2022-09-08T17:15:40.772Z"
   },
   {
    "duration": 28,
    "start_time": "2022-09-08T17:15:40.809Z"
   },
   {
    "duration": 51,
    "start_time": "2022-09-08T17:15:40.840Z"
   },
   {
    "duration": 43,
    "start_time": "2022-09-08T17:15:40.894Z"
   },
   {
    "duration": 32,
    "start_time": "2022-09-08T17:15:40.939Z"
   },
   {
    "duration": 15,
    "start_time": "2022-09-08T17:15:40.972Z"
   },
   {
    "duration": 31,
    "start_time": "2022-09-08T17:15:40.989Z"
   },
   {
    "duration": 27,
    "start_time": "2022-09-08T17:15:41.022Z"
   },
   {
    "duration": 31,
    "start_time": "2022-09-08T17:15:41.051Z"
   },
   {
    "duration": 11,
    "start_time": "2022-09-08T17:15:46.941Z"
   },
   {
    "duration": 3,
    "start_time": "2022-09-08T17:15:51.298Z"
   },
   {
    "duration": 74,
    "start_time": "2022-09-08T17:15:51.302Z"
   },
   {
    "duration": 20,
    "start_time": "2022-09-08T17:15:51.378Z"
   },
   {
    "duration": 20,
    "start_time": "2022-09-08T17:15:51.399Z"
   },
   {
    "duration": 32,
    "start_time": "2022-09-08T17:15:51.423Z"
   },
   {
    "duration": 32,
    "start_time": "2022-09-08T17:15:51.457Z"
   },
   {
    "duration": 18,
    "start_time": "2022-09-08T17:15:51.491Z"
   },
   {
    "duration": 21,
    "start_time": "2022-09-08T17:15:51.511Z"
   },
   {
    "duration": 23,
    "start_time": "2022-09-08T17:15:51.534Z"
   },
   {
    "duration": 8,
    "start_time": "2022-09-08T17:15:51.559Z"
   },
   {
    "duration": 30,
    "start_time": "2022-09-08T17:15:51.570Z"
   },
   {
    "duration": 2,
    "start_time": "2022-09-08T17:15:51.602Z"
   },
   {
    "duration": 45,
    "start_time": "2022-09-08T17:15:51.606Z"
   },
   {
    "duration": 7,
    "start_time": "2022-09-08T17:15:51.653Z"
   },
   {
    "duration": 11,
    "start_time": "2022-09-08T17:15:51.662Z"
   },
   {
    "duration": 13,
    "start_time": "2022-09-08T17:15:51.674Z"
   },
   {
    "duration": 38,
    "start_time": "2022-09-08T17:15:51.689Z"
   },
   {
    "duration": 250,
    "start_time": "2022-09-08T17:15:51.729Z"
   },
   {
    "duration": 21,
    "start_time": "2022-09-08T17:15:51.980Z"
   },
   {
    "duration": 25,
    "start_time": "2022-09-08T17:15:52.003Z"
   },
   {
    "duration": 24,
    "start_time": "2022-09-08T17:15:52.031Z"
   },
   {
    "duration": 4,
    "start_time": "2022-09-08T17:15:52.057Z"
   },
   {
    "duration": 15,
    "start_time": "2022-09-08T17:15:52.063Z"
   },
   {
    "duration": 28,
    "start_time": "2022-09-08T17:15:52.079Z"
   },
   {
    "duration": 1269,
    "start_time": "2022-09-08T17:15:52.108Z"
   },
   {
    "duration": 151,
    "start_time": "2022-09-08T17:15:53.379Z"
   },
   {
    "duration": 7,
    "start_time": "2022-09-08T17:15:53.532Z"
   },
   {
    "duration": 157,
    "start_time": "2022-09-08T17:15:53.541Z"
   },
   {
    "duration": 7,
    "start_time": "2022-09-08T17:15:53.702Z"
   },
   {
    "duration": 10,
    "start_time": "2022-09-08T17:15:53.711Z"
   },
   {
    "duration": 1412,
    "start_time": "2022-09-08T17:15:53.722Z"
   },
   {
    "duration": 2145,
    "start_time": "2022-09-08T17:15:55.136Z"
   },
   {
    "duration": 7,
    "start_time": "2022-09-08T17:15:57.282Z"
   },
   {
    "duration": 8,
    "start_time": "2022-09-08T17:15:57.301Z"
   },
   {
    "duration": 2346,
    "start_time": "2022-09-08T17:15:57.310Z"
   },
   {
    "duration": 8,
    "start_time": "2022-09-08T17:15:59.658Z"
   },
   {
    "duration": 30,
    "start_time": "2022-09-08T17:15:59.668Z"
   },
   {
    "duration": 21,
    "start_time": "2022-09-08T17:15:59.700Z"
   },
   {
    "duration": 36,
    "start_time": "2022-09-08T17:15:59.723Z"
   },
   {
    "duration": 29,
    "start_time": "2022-09-08T17:15:59.761Z"
   },
   {
    "duration": 31,
    "start_time": "2022-09-08T17:15:59.792Z"
   },
   {
    "duration": 24,
    "start_time": "2022-09-08T17:15:59.825Z"
   },
   {
    "duration": 31,
    "start_time": "2022-09-08T17:15:59.851Z"
   },
   {
    "duration": 40,
    "start_time": "2022-09-08T17:15:59.884Z"
   },
   {
    "duration": 31,
    "start_time": "2022-09-08T17:15:59.926Z"
   },
   {
    "duration": 20,
    "start_time": "2022-09-08T17:15:59.959Z"
   },
   {
    "duration": 13,
    "start_time": "2022-09-08T17:16:07.544Z"
   },
   {
    "duration": 3,
    "start_time": "2022-09-08T17:16:11.358Z"
   },
   {
    "duration": 54,
    "start_time": "2022-09-08T17:16:11.363Z"
   },
   {
    "duration": 18,
    "start_time": "2022-09-08T17:16:11.419Z"
   },
   {
    "duration": 19,
    "start_time": "2022-09-08T17:16:11.439Z"
   },
   {
    "duration": 10,
    "start_time": "2022-09-08T17:16:11.461Z"
   },
   {
    "duration": 41,
    "start_time": "2022-09-08T17:16:11.473Z"
   },
   {
    "duration": 12,
    "start_time": "2022-09-08T17:16:11.515Z"
   },
   {
    "duration": 14,
    "start_time": "2022-09-08T17:16:11.529Z"
   },
   {
    "duration": 20,
    "start_time": "2022-09-08T17:16:11.544Z"
   },
   {
    "duration": 40,
    "start_time": "2022-09-08T17:16:11.565Z"
   },
   {
    "duration": 14,
    "start_time": "2022-09-08T17:16:11.607Z"
   },
   {
    "duration": 5,
    "start_time": "2022-09-08T17:16:11.622Z"
   },
   {
    "duration": 26,
    "start_time": "2022-09-08T17:16:11.629Z"
   },
   {
    "duration": 6,
    "start_time": "2022-09-08T17:16:11.656Z"
   },
   {
    "duration": 37,
    "start_time": "2022-09-08T17:16:11.664Z"
   },
   {
    "duration": 12,
    "start_time": "2022-09-08T17:16:11.703Z"
   },
   {
    "duration": 21,
    "start_time": "2022-09-08T17:16:11.716Z"
   },
   {
    "duration": 276,
    "start_time": "2022-09-08T17:16:11.740Z"
   },
   {
    "duration": 10,
    "start_time": "2022-09-08T17:16:12.017Z"
   },
   {
    "duration": 17,
    "start_time": "2022-09-08T17:16:12.028Z"
   },
   {
    "duration": 15,
    "start_time": "2022-09-08T17:16:12.047Z"
   },
   {
    "duration": 36,
    "start_time": "2022-09-08T17:16:12.064Z"
   },
   {
    "duration": 7,
    "start_time": "2022-09-08T17:16:12.102Z"
   },
   {
    "duration": 21,
    "start_time": "2022-09-08T17:16:12.111Z"
   },
   {
    "duration": 1174,
    "start_time": "2022-09-08T17:16:12.134Z"
   },
   {
    "duration": 163,
    "start_time": "2022-09-08T17:16:13.310Z"
   },
   {
    "duration": 8,
    "start_time": "2022-09-08T17:16:13.475Z"
   },
   {
    "duration": 145,
    "start_time": "2022-09-08T17:16:13.484Z"
   },
   {
    "duration": 7,
    "start_time": "2022-09-08T17:16:13.632Z"
   },
   {
    "duration": 20,
    "start_time": "2022-09-08T17:16:13.641Z"
   },
   {
    "duration": 1460,
    "start_time": "2022-09-08T17:16:13.663Z"
   },
   {
    "duration": 1227,
    "start_time": "2022-09-08T17:16:15.125Z"
   },
   {
    "duration": 7,
    "start_time": "2022-09-08T17:16:16.353Z"
   },
   {
    "duration": 10,
    "start_time": "2022-09-08T17:16:16.362Z"
   },
   {
    "duration": 2009,
    "start_time": "2022-09-08T17:16:16.374Z"
   },
   {
    "duration": 8,
    "start_time": "2022-09-08T17:16:18.400Z"
   },
   {
    "duration": 9,
    "start_time": "2022-09-08T17:16:18.409Z"
   },
   {
    "duration": 6,
    "start_time": "2022-09-08T17:16:18.420Z"
   },
   {
    "duration": 6,
    "start_time": "2022-09-08T17:16:18.428Z"
   },
   {
    "duration": 7,
    "start_time": "2022-09-08T17:16:18.436Z"
   },
   {
    "duration": 9,
    "start_time": "2022-09-08T17:16:18.445Z"
   },
   {
    "duration": 45,
    "start_time": "2022-09-08T17:16:18.456Z"
   },
   {
    "duration": 10,
    "start_time": "2022-09-08T17:16:18.503Z"
   },
   {
    "duration": 8,
    "start_time": "2022-09-08T17:16:18.515Z"
   },
   {
    "duration": 15,
    "start_time": "2022-09-08T17:16:18.525Z"
   },
   {
    "duration": 24,
    "start_time": "2022-09-08T17:16:18.541Z"
   },
   {
    "duration": 38,
    "start_time": "2022-09-08T17:17:51.495Z"
   },
   {
    "duration": 37,
    "start_time": "2022-09-08T17:18:26.483Z"
   },
   {
    "duration": 8,
    "start_time": "2022-09-08T17:18:32.394Z"
   },
   {
    "duration": 23,
    "start_time": "2022-09-08T17:18:40.937Z"
   },
   {
    "duration": 3,
    "start_time": "2022-09-08T17:18:44.887Z"
   },
   {
    "duration": 72,
    "start_time": "2022-09-08T17:18:44.892Z"
   },
   {
    "duration": 21,
    "start_time": "2022-09-08T17:18:44.967Z"
   },
   {
    "duration": 21,
    "start_time": "2022-09-08T17:18:44.990Z"
   },
   {
    "duration": 21,
    "start_time": "2022-09-08T17:18:45.014Z"
   },
   {
    "duration": 25,
    "start_time": "2022-09-08T17:18:45.037Z"
   },
   {
    "duration": 40,
    "start_time": "2022-09-08T17:18:45.063Z"
   },
   {
    "duration": 20,
    "start_time": "2022-09-08T17:18:45.104Z"
   },
   {
    "duration": 18,
    "start_time": "2022-09-08T17:18:45.126Z"
   },
   {
    "duration": 9,
    "start_time": "2022-09-08T17:18:45.146Z"
   },
   {
    "duration": 44,
    "start_time": "2022-09-08T17:18:45.157Z"
   },
   {
    "duration": 3,
    "start_time": "2022-09-08T17:18:45.202Z"
   },
   {
    "duration": 30,
    "start_time": "2022-09-08T17:18:45.206Z"
   },
   {
    "duration": 8,
    "start_time": "2022-09-08T17:18:45.237Z"
   },
   {
    "duration": 16,
    "start_time": "2022-09-08T17:18:45.247Z"
   },
   {
    "duration": 13,
    "start_time": "2022-09-08T17:18:45.264Z"
   },
   {
    "duration": 40,
    "start_time": "2022-09-08T17:18:45.278Z"
   },
   {
    "duration": 281,
    "start_time": "2022-09-08T17:18:45.320Z"
   },
   {
    "duration": 8,
    "start_time": "2022-09-08T17:18:45.602Z"
   },
   {
    "duration": 46,
    "start_time": "2022-09-08T17:18:45.612Z"
   },
   {
    "duration": 15,
    "start_time": "2022-09-08T17:18:45.660Z"
   },
   {
    "duration": 5,
    "start_time": "2022-09-08T17:18:45.701Z"
   },
   {
    "duration": 18,
    "start_time": "2022-09-08T17:18:45.708Z"
   },
   {
    "duration": 24,
    "start_time": "2022-09-08T17:18:45.728Z"
   },
   {
    "duration": 1314,
    "start_time": "2022-09-08T17:18:45.755Z"
   },
   {
    "duration": 170,
    "start_time": "2022-09-08T17:18:47.072Z"
   },
   {
    "duration": 8,
    "start_time": "2022-09-08T17:18:47.244Z"
   },
   {
    "duration": 188,
    "start_time": "2022-09-08T17:18:47.254Z"
   },
   {
    "duration": 6,
    "start_time": "2022-09-08T17:18:47.501Z"
   },
   {
    "duration": 13,
    "start_time": "2022-09-08T17:18:47.509Z"
   },
   {
    "duration": 2309,
    "start_time": "2022-09-08T17:18:47.524Z"
   },
   {
    "duration": 1259,
    "start_time": "2022-09-08T17:18:49.835Z"
   },
   {
    "duration": 7,
    "start_time": "2022-09-08T17:18:51.099Z"
   },
   {
    "duration": 16,
    "start_time": "2022-09-08T17:18:51.108Z"
   },
   {
    "duration": 2087,
    "start_time": "2022-09-08T17:18:51.126Z"
   },
   {
    "duration": 6,
    "start_time": "2022-09-08T17:18:53.215Z"
   },
   {
    "duration": 15,
    "start_time": "2022-09-08T17:18:53.223Z"
   },
   {
    "duration": 8,
    "start_time": "2022-09-08T17:18:53.240Z"
   },
   {
    "duration": 8,
    "start_time": "2022-09-08T17:18:53.250Z"
   },
   {
    "duration": 41,
    "start_time": "2022-09-08T17:18:53.260Z"
   },
   {
    "duration": 9,
    "start_time": "2022-09-08T17:18:53.303Z"
   },
   {
    "duration": 19,
    "start_time": "2022-09-08T17:18:53.324Z"
   },
   {
    "duration": 15,
    "start_time": "2022-09-08T17:18:53.344Z"
   },
   {
    "duration": 9,
    "start_time": "2022-09-08T17:18:53.360Z"
   },
   {
    "duration": 10,
    "start_time": "2022-09-08T17:18:53.370Z"
   },
   {
    "duration": 24,
    "start_time": "2022-09-08T17:18:53.381Z"
   },
   {
    "duration": 22,
    "start_time": "2022-09-08T17:20:25.059Z"
   },
   {
    "duration": 3,
    "start_time": "2022-09-08T17:20:35.592Z"
   },
   {
    "duration": 58,
    "start_time": "2022-09-08T17:20:35.596Z"
   },
   {
    "duration": 17,
    "start_time": "2022-09-08T17:20:35.656Z"
   },
   {
    "duration": 17,
    "start_time": "2022-09-08T17:20:35.675Z"
   },
   {
    "duration": 11,
    "start_time": "2022-09-08T17:20:35.694Z"
   },
   {
    "duration": 15,
    "start_time": "2022-09-08T17:20:35.706Z"
   },
   {
    "duration": 15,
    "start_time": "2022-09-08T17:20:35.723Z"
   },
   {
    "duration": 17,
    "start_time": "2022-09-08T17:20:35.740Z"
   },
   {
    "duration": 50,
    "start_time": "2022-09-08T17:20:35.759Z"
   },
   {
    "duration": 10,
    "start_time": "2022-09-08T17:20:35.811Z"
   },
   {
    "duration": 20,
    "start_time": "2022-09-08T17:20:35.825Z"
   },
   {
    "duration": 8,
    "start_time": "2022-09-08T17:20:35.847Z"
   },
   {
    "duration": 47,
    "start_time": "2022-09-08T17:20:35.857Z"
   },
   {
    "duration": 7,
    "start_time": "2022-09-08T17:20:35.905Z"
   },
   {
    "duration": 14,
    "start_time": "2022-09-08T17:20:35.914Z"
   },
   {
    "duration": 42,
    "start_time": "2022-09-08T17:20:35.930Z"
   },
   {
    "duration": 19,
    "start_time": "2022-09-08T17:20:35.974Z"
   },
   {
    "duration": 257,
    "start_time": "2022-09-08T17:20:35.994Z"
   },
   {
    "duration": 8,
    "start_time": "2022-09-08T17:20:36.252Z"
   },
   {
    "duration": 59,
    "start_time": "2022-09-08T17:20:36.261Z"
   },
   {
    "duration": 16,
    "start_time": "2022-09-08T17:20:36.321Z"
   },
   {
    "duration": 8,
    "start_time": "2022-09-08T17:20:36.339Z"
   },
   {
    "duration": 10,
    "start_time": "2022-09-08T17:20:36.349Z"
   },
   {
    "duration": 45,
    "start_time": "2022-09-08T17:20:36.362Z"
   },
   {
    "duration": 1330,
    "start_time": "2022-09-08T17:20:36.409Z"
   },
   {
    "duration": 164,
    "start_time": "2022-09-08T17:20:37.741Z"
   },
   {
    "duration": 8,
    "start_time": "2022-09-08T17:20:37.907Z"
   },
   {
    "duration": 154,
    "start_time": "2022-09-08T17:20:37.916Z"
   },
   {
    "duration": 8,
    "start_time": "2022-09-08T17:20:38.073Z"
   },
   {
    "duration": 21,
    "start_time": "2022-09-08T17:20:38.082Z"
   },
   {
    "duration": 1298,
    "start_time": "2022-09-08T17:20:38.104Z"
   },
   {
    "duration": 1433,
    "start_time": "2022-09-08T17:20:39.404Z"
   },
   {
    "duration": 7,
    "start_time": "2022-09-08T17:20:40.839Z"
   },
   {
    "duration": 11,
    "start_time": "2022-09-08T17:20:40.848Z"
   },
   {
    "duration": 2103,
    "start_time": "2022-09-08T17:20:40.861Z"
   },
   {
    "duration": 6,
    "start_time": "2022-09-08T17:20:42.966Z"
   },
   {
    "duration": 31,
    "start_time": "2022-09-08T17:20:42.974Z"
   },
   {
    "duration": 9,
    "start_time": "2022-09-08T17:20:43.007Z"
   },
   {
    "duration": 14,
    "start_time": "2022-09-08T17:20:43.018Z"
   },
   {
    "duration": 10,
    "start_time": "2022-09-08T17:20:43.033Z"
   },
   {
    "duration": 12,
    "start_time": "2022-09-08T17:20:43.044Z"
   },
   {
    "duration": 6,
    "start_time": "2022-09-08T17:20:43.057Z"
   },
   {
    "duration": 37,
    "start_time": "2022-09-08T17:20:43.065Z"
   },
   {
    "duration": 12,
    "start_time": "2022-09-08T17:20:43.104Z"
   },
   {
    "duration": 11,
    "start_time": "2022-09-08T17:20:43.118Z"
   },
   {
    "duration": 9,
    "start_time": "2022-09-08T17:20:43.131Z"
   },
   {
    "duration": 0,
    "start_time": "2022-09-08T17:29:05.357Z"
   },
   {
    "duration": 3,
    "start_time": "2022-09-08T17:29:08.532Z"
   },
   {
    "duration": 52,
    "start_time": "2022-09-08T17:29:08.539Z"
   },
   {
    "duration": 20,
    "start_time": "2022-09-08T17:29:08.593Z"
   },
   {
    "duration": 15,
    "start_time": "2022-09-08T17:29:08.615Z"
   },
   {
    "duration": 8,
    "start_time": "2022-09-08T17:29:08.632Z"
   },
   {
    "duration": 15,
    "start_time": "2022-09-08T17:29:08.642Z"
   },
   {
    "duration": 44,
    "start_time": "2022-09-08T17:29:08.659Z"
   },
   {
    "duration": 16,
    "start_time": "2022-09-08T17:29:08.705Z"
   },
   {
    "duration": 16,
    "start_time": "2022-09-08T17:29:08.723Z"
   },
   {
    "duration": 7,
    "start_time": "2022-09-08T17:29:08.741Z"
   },
   {
    "duration": 14,
    "start_time": "2022-09-08T17:29:08.750Z"
   },
   {
    "duration": 34,
    "start_time": "2022-09-08T17:29:08.766Z"
   },
   {
    "duration": 21,
    "start_time": "2022-09-08T17:29:08.802Z"
   },
   {
    "duration": 7,
    "start_time": "2022-09-08T17:29:08.824Z"
   },
   {
    "duration": 8,
    "start_time": "2022-09-08T17:29:08.833Z"
   },
   {
    "duration": 9,
    "start_time": "2022-09-08T17:29:08.842Z"
   },
   {
    "duration": 19,
    "start_time": "2022-09-08T17:29:08.853Z"
   },
   {
    "duration": 274,
    "start_time": "2022-09-08T17:29:08.873Z"
   },
   {
    "duration": 10,
    "start_time": "2022-09-08T17:29:09.149Z"
   },
   {
    "duration": 56,
    "start_time": "2022-09-08T17:29:09.161Z"
   },
   {
    "duration": 10,
    "start_time": "2022-09-08T17:29:09.218Z"
   },
   {
    "duration": 0,
    "start_time": "2022-09-08T17:29:09.230Z"
   },
   {
    "duration": 0,
    "start_time": "2022-09-08T17:29:09.231Z"
   },
   {
    "duration": 0,
    "start_time": "2022-09-08T17:29:09.232Z"
   },
   {
    "duration": 0,
    "start_time": "2022-09-08T17:29:09.233Z"
   },
   {
    "duration": 0,
    "start_time": "2022-09-08T17:29:09.234Z"
   },
   {
    "duration": 0,
    "start_time": "2022-09-08T17:29:09.234Z"
   },
   {
    "duration": 0,
    "start_time": "2022-09-08T17:29:09.235Z"
   },
   {
    "duration": 0,
    "start_time": "2022-09-08T17:29:09.236Z"
   },
   {
    "duration": 0,
    "start_time": "2022-09-08T17:29:09.237Z"
   },
   {
    "duration": 0,
    "start_time": "2022-09-08T17:29:09.238Z"
   },
   {
    "duration": 0,
    "start_time": "2022-09-08T17:29:09.239Z"
   },
   {
    "duration": 0,
    "start_time": "2022-09-08T17:29:09.240Z"
   },
   {
    "duration": 0,
    "start_time": "2022-09-08T17:29:09.241Z"
   },
   {
    "duration": 0,
    "start_time": "2022-09-08T17:29:09.242Z"
   },
   {
    "duration": 0,
    "start_time": "2022-09-08T17:29:09.243Z"
   },
   {
    "duration": 0,
    "start_time": "2022-09-08T17:29:09.244Z"
   },
   {
    "duration": 0,
    "start_time": "2022-09-08T17:29:09.245Z"
   },
   {
    "duration": 0,
    "start_time": "2022-09-08T17:29:09.246Z"
   },
   {
    "duration": 0,
    "start_time": "2022-09-08T17:29:09.246Z"
   },
   {
    "duration": 0,
    "start_time": "2022-09-08T17:29:09.247Z"
   },
   {
    "duration": 0,
    "start_time": "2022-09-08T17:29:09.248Z"
   },
   {
    "duration": 0,
    "start_time": "2022-09-08T17:29:09.249Z"
   },
   {
    "duration": 0,
    "start_time": "2022-09-08T17:29:09.250Z"
   },
   {
    "duration": 0,
    "start_time": "2022-09-08T17:29:09.251Z"
   },
   {
    "duration": 0,
    "start_time": "2022-09-08T17:29:09.252Z"
   },
   {
    "duration": 0,
    "start_time": "2022-09-08T17:29:09.253Z"
   },
   {
    "duration": 0,
    "start_time": "2022-09-08T17:31:35.333Z"
   },
   {
    "duration": 3,
    "start_time": "2022-09-08T17:31:39.236Z"
   },
   {
    "duration": 54,
    "start_time": "2022-09-08T17:31:39.241Z"
   },
   {
    "duration": 16,
    "start_time": "2022-09-08T17:31:39.297Z"
   },
   {
    "duration": 14,
    "start_time": "2022-09-08T17:31:39.315Z"
   },
   {
    "duration": 7,
    "start_time": "2022-09-08T17:31:39.330Z"
   },
   {
    "duration": 16,
    "start_time": "2022-09-08T17:31:39.338Z"
   },
   {
    "duration": 16,
    "start_time": "2022-09-08T17:31:39.355Z"
   },
   {
    "duration": 18,
    "start_time": "2022-09-08T17:31:39.401Z"
   },
   {
    "duration": 18,
    "start_time": "2022-09-08T17:31:39.421Z"
   },
   {
    "duration": 10,
    "start_time": "2022-09-08T17:31:39.441Z"
   },
   {
    "duration": 46,
    "start_time": "2022-09-08T17:31:39.454Z"
   },
   {
    "duration": 2,
    "start_time": "2022-09-08T17:31:39.502Z"
   },
   {
    "duration": 24,
    "start_time": "2022-09-08T17:31:39.506Z"
   },
   {
    "duration": 5,
    "start_time": "2022-09-08T17:31:39.531Z"
   },
   {
    "duration": 8,
    "start_time": "2022-09-08T17:31:39.537Z"
   },
   {
    "duration": 11,
    "start_time": "2022-09-08T17:31:39.547Z"
   },
   {
    "duration": 23,
    "start_time": "2022-09-08T17:31:39.560Z"
   },
   {
    "duration": 239,
    "start_time": "2022-09-08T17:31:39.600Z"
   },
   {
    "duration": 7,
    "start_time": "2022-09-08T17:31:39.841Z"
   },
   {
    "duration": 52,
    "start_time": "2022-09-08T17:31:39.850Z"
   },
   {
    "duration": 7,
    "start_time": "2022-09-08T17:31:39.904Z"
   },
   {
    "duration": 0,
    "start_time": "2022-09-08T17:31:39.913Z"
   },
   {
    "duration": 0,
    "start_time": "2022-09-08T17:31:39.914Z"
   },
   {
    "duration": 0,
    "start_time": "2022-09-08T17:31:39.915Z"
   },
   {
    "duration": 0,
    "start_time": "2022-09-08T17:31:39.917Z"
   },
   {
    "duration": 0,
    "start_time": "2022-09-08T17:31:39.917Z"
   },
   {
    "duration": 0,
    "start_time": "2022-09-08T17:31:39.919Z"
   },
   {
    "duration": 0,
    "start_time": "2022-09-08T17:31:39.919Z"
   },
   {
    "duration": 0,
    "start_time": "2022-09-08T17:31:39.920Z"
   },
   {
    "duration": 0,
    "start_time": "2022-09-08T17:31:39.921Z"
   },
   {
    "duration": 0,
    "start_time": "2022-09-08T17:31:39.922Z"
   },
   {
    "duration": 0,
    "start_time": "2022-09-08T17:31:39.923Z"
   },
   {
    "duration": 0,
    "start_time": "2022-09-08T17:31:39.924Z"
   },
   {
    "duration": 0,
    "start_time": "2022-09-08T17:31:39.925Z"
   },
   {
    "duration": 0,
    "start_time": "2022-09-08T17:31:39.926Z"
   },
   {
    "duration": 0,
    "start_time": "2022-09-08T17:31:39.927Z"
   },
   {
    "duration": 0,
    "start_time": "2022-09-08T17:31:39.928Z"
   },
   {
    "duration": 0,
    "start_time": "2022-09-08T17:31:39.929Z"
   },
   {
    "duration": 0,
    "start_time": "2022-09-08T17:31:39.930Z"
   },
   {
    "duration": 0,
    "start_time": "2022-09-08T17:31:39.931Z"
   },
   {
    "duration": 0,
    "start_time": "2022-09-08T17:31:39.932Z"
   },
   {
    "duration": 0,
    "start_time": "2022-09-08T17:31:39.932Z"
   },
   {
    "duration": 0,
    "start_time": "2022-09-08T17:31:39.933Z"
   },
   {
    "duration": 0,
    "start_time": "2022-09-08T17:31:39.935Z"
   },
   {
    "duration": 0,
    "start_time": "2022-09-08T17:31:39.936Z"
   },
   {
    "duration": 0,
    "start_time": "2022-09-08T17:31:39.937Z"
   },
   {
    "duration": 0,
    "start_time": "2022-09-08T17:31:39.938Z"
   },
   {
    "duration": 8,
    "start_time": "2022-09-08T17:36:26.009Z"
   },
   {
    "duration": 36,
    "start_time": "2022-09-08T17:38:31.603Z"
   },
   {
    "duration": 8,
    "start_time": "2022-09-08T17:39:17.438Z"
   },
   {
    "duration": 20,
    "start_time": "2022-09-08T17:40:30.971Z"
   },
   {
    "duration": 17,
    "start_time": "2022-09-08T17:40:37.986Z"
   },
   {
    "duration": 8,
    "start_time": "2022-09-08T17:40:43.753Z"
   },
   {
    "duration": 9,
    "start_time": "2022-09-08T17:40:52.752Z"
   },
   {
    "duration": 8,
    "start_time": "2022-09-08T17:40:57.931Z"
   },
   {
    "duration": 11,
    "start_time": "2022-09-08T17:41:35.354Z"
   },
   {
    "duration": 10,
    "start_time": "2022-09-08T17:41:37.528Z"
   },
   {
    "duration": 24,
    "start_time": "2022-09-08T17:41:47.726Z"
   },
   {
    "duration": 24,
    "start_time": "2022-09-08T17:41:48.468Z"
   },
   {
    "duration": 25,
    "start_time": "2022-09-08T17:43:48.661Z"
   },
   {
    "duration": 22,
    "start_time": "2022-09-08T17:45:15.496Z"
   },
   {
    "duration": 8,
    "start_time": "2022-09-08T17:45:37.972Z"
   },
   {
    "duration": 7,
    "start_time": "2022-09-08T17:46:58.512Z"
   },
   {
    "duration": 8,
    "start_time": "2022-09-08T17:47:07.115Z"
   },
   {
    "duration": 7,
    "start_time": "2022-09-08T17:47:36.267Z"
   },
   {
    "duration": 25,
    "start_time": "2022-09-08T17:47:53.105Z"
   },
   {
    "duration": 25,
    "start_time": "2022-09-08T17:48:03.034Z"
   },
   {
    "duration": 24,
    "start_time": "2022-09-08T17:48:29.016Z"
   },
   {
    "duration": 24,
    "start_time": "2022-09-08T17:48:57.651Z"
   },
   {
    "duration": 28,
    "start_time": "2022-09-08T17:49:16.151Z"
   },
   {
    "duration": 28,
    "start_time": "2022-09-08T17:49:41.083Z"
   },
   {
    "duration": 24,
    "start_time": "2022-09-08T17:50:00.158Z"
   },
   {
    "duration": 29,
    "start_time": "2022-09-08T17:51:49.216Z"
   },
   {
    "duration": 9,
    "start_time": "2022-09-08T17:51:59.321Z"
   },
   {
    "duration": 8,
    "start_time": "2022-09-08T17:52:20.505Z"
   },
   {
    "duration": 8,
    "start_time": "2022-09-08T17:52:29.796Z"
   },
   {
    "duration": 52,
    "start_time": "2022-09-08T17:53:48.798Z"
   },
   {
    "duration": 30,
    "start_time": "2022-09-08T17:54:08.639Z"
   },
   {
    "duration": 50,
    "start_time": "2022-09-08T17:54:22.771Z"
   },
   {
    "duration": 49,
    "start_time": "2022-09-08T17:56:57.301Z"
   },
   {
    "duration": 0,
    "start_time": "2022-09-08T17:57:23.519Z"
   },
   {
    "duration": 2,
    "start_time": "2022-09-08T17:57:28.072Z"
   },
   {
    "duration": 54,
    "start_time": "2022-09-08T17:57:28.077Z"
   },
   {
    "duration": 16,
    "start_time": "2022-09-08T17:57:28.132Z"
   },
   {
    "duration": 21,
    "start_time": "2022-09-08T17:57:28.150Z"
   },
   {
    "duration": 8,
    "start_time": "2022-09-08T17:57:28.173Z"
   },
   {
    "duration": 27,
    "start_time": "2022-09-08T17:57:28.182Z"
   },
   {
    "duration": 14,
    "start_time": "2022-09-08T17:57:28.211Z"
   },
   {
    "duration": 16,
    "start_time": "2022-09-08T17:57:28.226Z"
   },
   {
    "duration": 16,
    "start_time": "2022-09-08T17:57:28.244Z"
   },
   {
    "duration": 7,
    "start_time": "2022-09-08T17:57:28.261Z"
   },
   {
    "duration": 39,
    "start_time": "2022-09-08T17:57:28.270Z"
   },
   {
    "duration": 2,
    "start_time": "2022-09-08T17:57:28.310Z"
   },
   {
    "duration": 24,
    "start_time": "2022-09-08T17:57:28.313Z"
   },
   {
    "duration": 12,
    "start_time": "2022-09-08T17:57:28.338Z"
   },
   {
    "duration": 12,
    "start_time": "2022-09-08T17:57:28.352Z"
   },
   {
    "duration": 13,
    "start_time": "2022-09-08T17:57:28.366Z"
   },
   {
    "duration": 24,
    "start_time": "2022-09-08T17:57:28.381Z"
   },
   {
    "duration": 237,
    "start_time": "2022-09-08T17:57:28.406Z"
   },
   {
    "duration": 7,
    "start_time": "2022-09-08T17:57:28.645Z"
   },
   {
    "duration": 48,
    "start_time": "2022-09-08T17:57:28.653Z"
   },
   {
    "duration": 1008,
    "start_time": "2022-09-08T17:57:28.702Z"
   },
   {
    "duration": 0,
    "start_time": "2022-09-08T17:57:29.713Z"
   },
   {
    "duration": 0,
    "start_time": "2022-09-08T17:57:29.714Z"
   },
   {
    "duration": 0,
    "start_time": "2022-09-08T17:57:29.714Z"
   },
   {
    "duration": 0,
    "start_time": "2022-09-08T17:57:29.716Z"
   },
   {
    "duration": 0,
    "start_time": "2022-09-08T17:57:29.717Z"
   },
   {
    "duration": 0,
    "start_time": "2022-09-08T17:57:29.718Z"
   },
   {
    "duration": 0,
    "start_time": "2022-09-08T17:57:29.719Z"
   },
   {
    "duration": 0,
    "start_time": "2022-09-08T17:57:29.720Z"
   },
   {
    "duration": 0,
    "start_time": "2022-09-08T17:57:29.720Z"
   },
   {
    "duration": 0,
    "start_time": "2022-09-08T17:57:29.721Z"
   },
   {
    "duration": 0,
    "start_time": "2022-09-08T17:57:29.722Z"
   },
   {
    "duration": 0,
    "start_time": "2022-09-08T17:57:29.723Z"
   },
   {
    "duration": 0,
    "start_time": "2022-09-08T17:57:29.724Z"
   },
   {
    "duration": 0,
    "start_time": "2022-09-08T17:57:29.725Z"
   },
   {
    "duration": 0,
    "start_time": "2022-09-08T17:57:29.726Z"
   },
   {
    "duration": 0,
    "start_time": "2022-09-08T17:57:29.726Z"
   },
   {
    "duration": 0,
    "start_time": "2022-09-08T17:57:29.727Z"
   },
   {
    "duration": 0,
    "start_time": "2022-09-08T17:57:29.729Z"
   },
   {
    "duration": 0,
    "start_time": "2022-09-08T17:57:29.729Z"
   },
   {
    "duration": 0,
    "start_time": "2022-09-08T17:57:29.730Z"
   },
   {
    "duration": 0,
    "start_time": "2022-09-08T17:57:29.731Z"
   },
   {
    "duration": 0,
    "start_time": "2022-09-08T17:57:29.732Z"
   },
   {
    "duration": 0,
    "start_time": "2022-09-08T17:57:29.733Z"
   },
   {
    "duration": 0,
    "start_time": "2022-09-08T17:57:29.734Z"
   },
   {
    "duration": 0,
    "start_time": "2022-09-08T17:57:29.735Z"
   },
   {
    "duration": 0,
    "start_time": "2022-09-08T17:57:29.736Z"
   },
   {
    "duration": 1,
    "start_time": "2022-09-08T17:57:29.736Z"
   },
   {
    "duration": 0,
    "start_time": "2022-09-08T17:57:29.738Z"
   },
   {
    "duration": 845,
    "start_time": "2022-09-08T17:57:56.653Z"
   },
   {
    "duration": 3,
    "start_time": "2022-09-08T18:00:50.195Z"
   },
   {
    "duration": 103,
    "start_time": "2022-09-08T18:01:04.524Z"
   },
   {
    "duration": 30,
    "start_time": "2022-09-08T18:01:36.442Z"
   },
   {
    "duration": 25,
    "start_time": "2022-09-08T18:02:04.022Z"
   },
   {
    "duration": 42,
    "start_time": "2022-09-08T18:03:05.258Z"
   },
   {
    "duration": 47,
    "start_time": "2022-09-08T18:03:34.898Z"
   },
   {
    "duration": 46,
    "start_time": "2022-09-08T18:03:51.427Z"
   },
   {
    "duration": 2,
    "start_time": "2022-09-08T18:04:01.663Z"
   },
   {
    "duration": 71,
    "start_time": "2022-09-08T18:04:01.667Z"
   },
   {
    "duration": 16,
    "start_time": "2022-09-08T18:04:01.740Z"
   },
   {
    "duration": 30,
    "start_time": "2022-09-08T18:04:01.758Z"
   },
   {
    "duration": 33,
    "start_time": "2022-09-08T18:04:01.790Z"
   },
   {
    "duration": 40,
    "start_time": "2022-09-08T18:04:01.824Z"
   },
   {
    "duration": 31,
    "start_time": "2022-09-08T18:04:01.866Z"
   },
   {
    "duration": 35,
    "start_time": "2022-09-08T18:04:01.900Z"
   },
   {
    "duration": 35,
    "start_time": "2022-09-08T18:04:01.937Z"
   },
   {
    "duration": 8,
    "start_time": "2022-09-08T18:04:01.974Z"
   },
   {
    "duration": 25,
    "start_time": "2022-09-08T18:04:01.985Z"
   },
   {
    "duration": 10,
    "start_time": "2022-09-08T18:04:02.012Z"
   },
   {
    "duration": 36,
    "start_time": "2022-09-08T18:04:02.023Z"
   },
   {
    "duration": 9,
    "start_time": "2022-09-08T18:04:02.060Z"
   },
   {
    "duration": 27,
    "start_time": "2022-09-08T18:04:02.071Z"
   },
   {
    "duration": 26,
    "start_time": "2022-09-08T18:04:02.099Z"
   },
   {
    "duration": 29,
    "start_time": "2022-09-08T18:04:02.127Z"
   },
   {
    "duration": 226,
    "start_time": "2022-09-08T18:04:02.157Z"
   },
   {
    "duration": 8,
    "start_time": "2022-09-08T18:04:02.384Z"
   },
   {
    "duration": 39,
    "start_time": "2022-09-08T18:04:02.400Z"
   },
   {
    "duration": 42,
    "start_time": "2022-09-08T18:04:02.441Z"
   },
   {
    "duration": 40,
    "start_time": "2022-09-08T18:04:02.500Z"
   },
   {
    "duration": 363,
    "start_time": "2022-09-08T18:04:02.542Z"
   },
   {
    "duration": 0,
    "start_time": "2022-09-08T18:04:02.906Z"
   },
   {
    "duration": 0,
    "start_time": "2022-09-08T18:04:02.907Z"
   },
   {
    "duration": 0,
    "start_time": "2022-09-08T18:04:02.908Z"
   },
   {
    "duration": 0,
    "start_time": "2022-09-08T18:04:02.909Z"
   },
   {
    "duration": 0,
    "start_time": "2022-09-08T18:04:02.910Z"
   },
   {
    "duration": 0,
    "start_time": "2022-09-08T18:04:02.911Z"
   },
   {
    "duration": 0,
    "start_time": "2022-09-08T18:04:02.912Z"
   },
   {
    "duration": 0,
    "start_time": "2022-09-08T18:04:02.913Z"
   },
   {
    "duration": 0,
    "start_time": "2022-09-08T18:04:02.913Z"
   },
   {
    "duration": 0,
    "start_time": "2022-09-08T18:04:02.914Z"
   },
   {
    "duration": 0,
    "start_time": "2022-09-08T18:04:02.915Z"
   },
   {
    "duration": 0,
    "start_time": "2022-09-08T18:04:02.916Z"
   },
   {
    "duration": 0,
    "start_time": "2022-09-08T18:04:02.917Z"
   },
   {
    "duration": 0,
    "start_time": "2022-09-08T18:04:02.918Z"
   },
   {
    "duration": 0,
    "start_time": "2022-09-08T18:04:02.919Z"
   },
   {
    "duration": 0,
    "start_time": "2022-09-08T18:04:02.920Z"
   },
   {
    "duration": 0,
    "start_time": "2022-09-08T18:04:02.920Z"
   },
   {
    "duration": 0,
    "start_time": "2022-09-08T18:04:02.921Z"
   },
   {
    "duration": 0,
    "start_time": "2022-09-08T18:04:02.922Z"
   },
   {
    "duration": 0,
    "start_time": "2022-09-08T18:04:02.923Z"
   },
   {
    "duration": 0,
    "start_time": "2022-09-08T18:04:02.924Z"
   },
   {
    "duration": 0,
    "start_time": "2022-09-08T18:04:02.924Z"
   },
   {
    "duration": 0,
    "start_time": "2022-09-08T18:04:02.925Z"
   },
   {
    "duration": 0,
    "start_time": "2022-09-08T18:04:02.926Z"
   },
   {
    "duration": 0,
    "start_time": "2022-09-08T18:04:02.927Z"
   },
   {
    "duration": 0,
    "start_time": "2022-09-08T18:04:02.927Z"
   },
   {
    "duration": 24,
    "start_time": "2022-09-08T18:04:34.638Z"
   },
   {
    "duration": 49,
    "start_time": "2022-09-08T18:04:44.361Z"
   },
   {
    "duration": 47,
    "start_time": "2022-09-08T18:07:04.149Z"
   },
   {
    "duration": 21,
    "start_time": "2022-09-08T18:10:18.917Z"
   },
   {
    "duration": 21,
    "start_time": "2022-09-08T18:10:59.642Z"
   },
   {
    "duration": 22,
    "start_time": "2022-09-08T18:11:21.505Z"
   },
   {
    "duration": 21,
    "start_time": "2022-09-08T18:12:08.962Z"
   },
   {
    "duration": 22,
    "start_time": "2022-09-08T18:12:26.258Z"
   },
   {
    "duration": 24,
    "start_time": "2022-09-08T18:12:49.049Z"
   },
   {
    "duration": 27,
    "start_time": "2022-09-08T18:13:00.948Z"
   },
   {
    "duration": 32,
    "start_time": "2022-09-08T18:17:10.723Z"
   },
   {
    "duration": 31,
    "start_time": "2022-09-08T18:17:27.489Z"
   },
   {
    "duration": 32,
    "start_time": "2022-09-08T18:17:58.647Z"
   },
   {
    "duration": 34,
    "start_time": "2022-09-08T18:19:10.542Z"
   },
   {
    "duration": 43,
    "start_time": "2022-09-08T18:19:41.792Z"
   },
   {
    "duration": 34,
    "start_time": "2022-09-08T18:20:42.110Z"
   },
   {
    "duration": 38,
    "start_time": "2022-09-08T18:21:58.885Z"
   },
   {
    "duration": 30,
    "start_time": "2022-09-08T18:22:17.642Z"
   },
   {
    "duration": 42,
    "start_time": "2022-09-08T18:22:37.243Z"
   },
   {
    "duration": 43,
    "start_time": "2022-09-08T18:23:03.286Z"
   },
   {
    "duration": 9,
    "start_time": "2022-09-08T18:23:59.955Z"
   },
   {
    "duration": 5,
    "start_time": "2022-09-08T18:24:25.526Z"
   },
   {
    "duration": 28,
    "start_time": "2022-09-08T18:24:59.210Z"
   },
   {
    "duration": 909,
    "start_time": "2022-09-08T18:28:13.296Z"
   },
   {
    "duration": 49,
    "start_time": "2022-09-08T18:28:14.207Z"
   },
   {
    "duration": 24,
    "start_time": "2022-09-08T18:28:14.257Z"
   },
   {
    "duration": 14,
    "start_time": "2022-09-08T18:28:14.282Z"
   },
   {
    "duration": 7,
    "start_time": "2022-09-08T18:28:14.298Z"
   },
   {
    "duration": 15,
    "start_time": "2022-09-08T18:28:14.307Z"
   },
   {
    "duration": 12,
    "start_time": "2022-09-08T18:28:14.324Z"
   },
   {
    "duration": 16,
    "start_time": "2022-09-08T18:28:14.338Z"
   },
   {
    "duration": 15,
    "start_time": "2022-09-08T18:28:14.356Z"
   },
   {
    "duration": 10,
    "start_time": "2022-09-08T18:28:14.399Z"
   },
   {
    "duration": 20,
    "start_time": "2022-09-08T18:28:14.411Z"
   },
   {
    "duration": 7,
    "start_time": "2022-09-08T18:28:14.432Z"
   },
   {
    "duration": 33,
    "start_time": "2022-09-08T18:28:14.441Z"
   },
   {
    "duration": 24,
    "start_time": "2022-09-08T18:28:14.479Z"
   },
   {
    "duration": 13,
    "start_time": "2022-09-08T18:28:14.506Z"
   },
   {
    "duration": 30,
    "start_time": "2022-09-08T18:28:14.521Z"
   },
   {
    "duration": 26,
    "start_time": "2022-09-08T18:28:14.553Z"
   },
   {
    "duration": 419,
    "start_time": "2022-09-08T18:28:14.581Z"
   },
   {
    "duration": 8,
    "start_time": "2022-09-08T18:28:15.001Z"
   },
   {
    "duration": 45,
    "start_time": "2022-09-08T18:28:15.010Z"
   },
   {
    "duration": 5,
    "start_time": "2022-09-08T18:28:15.056Z"
   },
   {
    "duration": 14,
    "start_time": "2022-09-08T18:28:15.063Z"
   },
   {
    "duration": 4,
    "start_time": "2022-09-08T18:28:15.078Z"
   },
   {
    "duration": 20,
    "start_time": "2022-09-08T18:28:15.083Z"
   },
   {
    "duration": 18,
    "start_time": "2022-09-08T18:28:15.105Z"
   },
   {
    "duration": 1046,
    "start_time": "2022-09-08T18:28:15.124Z"
   },
   {
    "duration": 131,
    "start_time": "2022-09-08T18:28:16.171Z"
   },
   {
    "duration": 7,
    "start_time": "2022-09-08T18:28:16.304Z"
   },
   {
    "duration": 129,
    "start_time": "2022-09-08T18:28:16.312Z"
   },
   {
    "duration": 7,
    "start_time": "2022-09-08T18:28:16.442Z"
   },
   {
    "duration": 8,
    "start_time": "2022-09-08T18:28:16.450Z"
   },
   {
    "duration": 1565,
    "start_time": "2022-09-08T18:28:16.459Z"
   },
   {
    "duration": 1467,
    "start_time": "2022-09-08T18:28:18.026Z"
   },
   {
    "duration": 6,
    "start_time": "2022-09-08T18:28:19.501Z"
   },
   {
    "duration": 10,
    "start_time": "2022-09-08T18:28:19.508Z"
   },
   {
    "duration": 1888,
    "start_time": "2022-09-08T18:28:19.520Z"
   },
   {
    "duration": 6,
    "start_time": "2022-09-08T18:28:21.410Z"
   },
   {
    "duration": 10,
    "start_time": "2022-09-08T18:28:21.417Z"
   },
   {
    "duration": 7,
    "start_time": "2022-09-08T18:28:21.429Z"
   },
   {
    "duration": 9,
    "start_time": "2022-09-08T18:28:21.438Z"
   },
   {
    "duration": 8,
    "start_time": "2022-09-08T18:28:21.450Z"
   },
   {
    "duration": 42,
    "start_time": "2022-09-08T18:28:21.459Z"
   },
   {
    "duration": 6,
    "start_time": "2022-09-08T18:28:21.503Z"
   },
   {
    "duration": 13,
    "start_time": "2022-09-08T18:28:21.511Z"
   },
   {
    "duration": 8,
    "start_time": "2022-09-08T18:28:21.526Z"
   },
   {
    "duration": 7,
    "start_time": "2022-09-08T18:28:21.536Z"
   },
   {
    "duration": 8,
    "start_time": "2022-09-08T18:28:21.545Z"
   },
   {
    "duration": 18,
    "start_time": "2022-09-08T18:28:30.837Z"
   },
   {
    "duration": 126,
    "start_time": "2022-09-08T18:28:41.018Z"
   },
   {
    "duration": 114,
    "start_time": "2022-09-08T18:28:45.822Z"
   },
   {
    "duration": 0,
    "start_time": "2022-09-08T18:30:23.888Z"
   },
   {
    "duration": 6,
    "start_time": "2022-09-08T18:32:36.102Z"
   },
   {
    "duration": 18,
    "start_time": "2022-09-08T18:35:04.946Z"
   },
   {
    "duration": 1142,
    "start_time": "2022-09-08T18:35:16.293Z"
   },
   {
    "duration": 8,
    "start_time": "2022-09-08T18:36:28.602Z"
   },
   {
    "duration": 3,
    "start_time": "2022-09-08T18:36:39.189Z"
   },
   {
    "duration": 59,
    "start_time": "2022-09-08T18:36:39.194Z"
   },
   {
    "duration": 16,
    "start_time": "2022-09-08T18:36:39.254Z"
   },
   {
    "duration": 14,
    "start_time": "2022-09-08T18:36:39.271Z"
   },
   {
    "duration": 14,
    "start_time": "2022-09-08T18:36:39.287Z"
   },
   {
    "duration": 16,
    "start_time": "2022-09-08T18:36:39.303Z"
   },
   {
    "duration": 12,
    "start_time": "2022-09-08T18:36:39.320Z"
   },
   {
    "duration": 15,
    "start_time": "2022-09-08T18:36:39.334Z"
   },
   {
    "duration": 32,
    "start_time": "2022-09-08T18:36:39.351Z"
   },
   {
    "duration": 25,
    "start_time": "2022-09-08T18:36:39.385Z"
   },
   {
    "duration": 20,
    "start_time": "2022-09-08T18:36:39.411Z"
   },
   {
    "duration": 3,
    "start_time": "2022-09-08T18:36:39.433Z"
   },
   {
    "duration": 30,
    "start_time": "2022-09-08T18:36:39.440Z"
   },
   {
    "duration": 29,
    "start_time": "2022-09-08T18:36:39.472Z"
   },
   {
    "duration": 8,
    "start_time": "2022-09-08T18:36:39.503Z"
   },
   {
    "duration": 9,
    "start_time": "2022-09-08T18:36:39.513Z"
   },
   {
    "duration": 17,
    "start_time": "2022-09-08T18:36:39.523Z"
   },
   {
    "duration": 236,
    "start_time": "2022-09-08T18:36:39.542Z"
   },
   {
    "duration": 7,
    "start_time": "2022-09-08T18:36:39.780Z"
   },
   {
    "duration": 44,
    "start_time": "2022-09-08T18:36:39.788Z"
   },
   {
    "duration": 6,
    "start_time": "2022-09-08T18:36:39.834Z"
   },
   {
    "duration": 16,
    "start_time": "2022-09-08T18:36:39.841Z"
   },
   {
    "duration": 4,
    "start_time": "2022-09-08T18:36:39.858Z"
   },
   {
    "duration": 7,
    "start_time": "2022-09-08T18:36:39.863Z"
   },
   {
    "duration": 44,
    "start_time": "2022-09-08T18:36:39.871Z"
   },
   {
    "duration": 1158,
    "start_time": "2022-09-08T18:36:39.917Z"
   },
   {
    "duration": 136,
    "start_time": "2022-09-08T18:36:41.077Z"
   },
   {
    "duration": 6,
    "start_time": "2022-09-08T18:36:41.215Z"
   },
   {
    "duration": 132,
    "start_time": "2022-09-08T18:36:41.223Z"
   },
   {
    "duration": 7,
    "start_time": "2022-09-08T18:36:41.357Z"
   },
   {
    "duration": 15,
    "start_time": "2022-09-08T18:36:41.366Z"
   },
   {
    "duration": 1138,
    "start_time": "2022-09-08T18:36:41.383Z"
   },
   {
    "duration": 1103,
    "start_time": "2022-09-08T18:36:42.523Z"
   },
   {
    "duration": 6,
    "start_time": "2022-09-08T18:36:43.628Z"
   },
   {
    "duration": 10,
    "start_time": "2022-09-08T18:36:43.636Z"
   },
   {
    "duration": 2058,
    "start_time": "2022-09-08T18:36:43.648Z"
   },
   {
    "duration": 7,
    "start_time": "2022-09-08T18:36:45.711Z"
   },
   {
    "duration": 14,
    "start_time": "2022-09-08T18:36:45.720Z"
   },
   {
    "duration": 14,
    "start_time": "2022-09-08T18:36:45.736Z"
   },
   {
    "duration": 7,
    "start_time": "2022-09-08T18:36:45.752Z"
   },
   {
    "duration": 11,
    "start_time": "2022-09-08T18:36:45.760Z"
   },
   {
    "duration": 34,
    "start_time": "2022-09-08T18:36:45.773Z"
   },
   {
    "duration": 8,
    "start_time": "2022-09-08T18:36:45.809Z"
   },
   {
    "duration": 19,
    "start_time": "2022-09-08T18:36:45.818Z"
   },
   {
    "duration": 10,
    "start_time": "2022-09-08T18:36:45.839Z"
   },
   {
    "duration": 9,
    "start_time": "2022-09-08T18:36:45.851Z"
   },
   {
    "duration": 10,
    "start_time": "2022-09-08T18:36:45.862Z"
   },
   {
    "duration": 7,
    "start_time": "2022-09-08T18:36:49.078Z"
   },
   {
    "duration": 3,
    "start_time": "2022-09-08T18:37:47.908Z"
   },
   {
    "duration": 55,
    "start_time": "2022-09-08T18:37:47.913Z"
   },
   {
    "duration": 16,
    "start_time": "2022-09-08T18:37:47.970Z"
   },
   {
    "duration": 14,
    "start_time": "2022-09-08T18:37:47.988Z"
   },
   {
    "duration": 7,
    "start_time": "2022-09-08T18:37:48.004Z"
   },
   {
    "duration": 22,
    "start_time": "2022-09-08T18:37:48.013Z"
   },
   {
    "duration": 12,
    "start_time": "2022-09-08T18:37:48.037Z"
   },
   {
    "duration": 15,
    "start_time": "2022-09-08T18:37:48.051Z"
   },
   {
    "duration": 42,
    "start_time": "2022-09-08T18:37:48.067Z"
   },
   {
    "duration": 7,
    "start_time": "2022-09-08T18:37:48.111Z"
   },
   {
    "duration": 15,
    "start_time": "2022-09-08T18:37:48.119Z"
   },
   {
    "duration": 2,
    "start_time": "2022-09-08T18:37:48.136Z"
   },
   {
    "duration": 22,
    "start_time": "2022-09-08T18:37:48.140Z"
   },
   {
    "duration": 6,
    "start_time": "2022-09-08T18:37:48.165Z"
   },
   {
    "duration": 33,
    "start_time": "2022-09-08T18:37:48.172Z"
   },
   {
    "duration": 9,
    "start_time": "2022-09-08T18:37:48.207Z"
   },
   {
    "duration": 17,
    "start_time": "2022-09-08T18:37:48.218Z"
   },
   {
    "duration": 249,
    "start_time": "2022-09-08T18:37:48.236Z"
   },
   {
    "duration": 15,
    "start_time": "2022-09-08T18:37:48.487Z"
   },
   {
    "duration": 31,
    "start_time": "2022-09-08T18:37:48.504Z"
   },
   {
    "duration": 6,
    "start_time": "2022-09-08T18:37:48.537Z"
   },
   {
    "duration": 26,
    "start_time": "2022-09-08T18:37:48.545Z"
   },
   {
    "duration": 5,
    "start_time": "2022-09-08T18:37:48.573Z"
   },
   {
    "duration": 24,
    "start_time": "2022-09-08T18:37:48.580Z"
   },
   {
    "duration": 17,
    "start_time": "2022-09-08T18:37:48.606Z"
   },
   {
    "duration": 1050,
    "start_time": "2022-09-08T18:37:48.625Z"
   },
   {
    "duration": 124,
    "start_time": "2022-09-08T18:37:49.676Z"
   },
   {
    "duration": 6,
    "start_time": "2022-09-08T18:37:49.802Z"
   },
   {
    "duration": 120,
    "start_time": "2022-09-08T18:37:49.809Z"
   },
   {
    "duration": 6,
    "start_time": "2022-09-08T18:37:49.930Z"
   },
   {
    "duration": 14,
    "start_time": "2022-09-08T18:37:49.938Z"
   },
   {
    "duration": 1140,
    "start_time": "2022-09-08T18:37:49.954Z"
   },
   {
    "duration": 1022,
    "start_time": "2022-09-08T18:37:51.099Z"
   },
   {
    "duration": 5,
    "start_time": "2022-09-08T18:37:52.123Z"
   },
   {
    "duration": 12,
    "start_time": "2022-09-08T18:37:52.129Z"
   },
   {
    "duration": 28,
    "start_time": "2022-09-08T18:37:52.142Z"
   },
   {
    "duration": 5,
    "start_time": "2022-09-08T18:37:52.172Z"
   },
   {
    "duration": 22,
    "start_time": "2022-09-08T18:37:52.179Z"
   },
   {
    "duration": 14,
    "start_time": "2022-09-08T18:37:52.202Z"
   },
   {
    "duration": 17,
    "start_time": "2022-09-08T18:37:52.217Z"
   },
   {
    "duration": 8,
    "start_time": "2022-09-08T18:37:52.237Z"
   },
   {
    "duration": 21,
    "start_time": "2022-09-08T18:37:52.246Z"
   },
   {
    "duration": 18,
    "start_time": "2022-09-08T18:37:52.269Z"
   },
   {
    "duration": 23,
    "start_time": "2022-09-08T18:37:52.288Z"
   },
   {
    "duration": 15,
    "start_time": "2022-09-08T18:37:52.312Z"
   },
   {
    "duration": 20,
    "start_time": "2022-09-08T18:37:52.329Z"
   },
   {
    "duration": 16,
    "start_time": "2022-09-08T18:37:52.350Z"
   },
   {
    "duration": 6,
    "start_time": "2022-09-08T18:39:20.684Z"
   },
   {
    "duration": 7,
    "start_time": "2022-09-08T18:39:40.392Z"
   },
   {
    "duration": 7,
    "start_time": "2022-09-08T18:40:33.186Z"
   },
   {
    "duration": 7,
    "start_time": "2022-09-08T18:43:43.050Z"
   },
   {
    "duration": 117,
    "start_time": "2022-09-08T18:44:15.988Z"
   },
   {
    "duration": 6,
    "start_time": "2022-09-08T18:44:23.745Z"
   },
   {
    "duration": 103,
    "start_time": "2022-09-08T18:44:44.332Z"
   },
   {
    "duration": 6,
    "start_time": "2022-09-08T18:44:55.200Z"
   },
   {
    "duration": 13,
    "start_time": "2022-09-08T18:47:42.834Z"
   },
   {
    "duration": 170,
    "start_time": "2022-09-08T18:48:14.072Z"
   },
   {
    "duration": 121,
    "start_time": "2022-09-08T18:48:36.138Z"
   },
   {
    "duration": 223,
    "start_time": "2022-09-08T18:59:21.634Z"
   },
   {
    "duration": 172,
    "start_time": "2022-09-08T18:59:44.165Z"
   },
   {
    "duration": 130,
    "start_time": "2022-09-08T18:59:56.456Z"
   },
   {
    "duration": 13,
    "start_time": "2022-09-08T19:00:12.623Z"
   },
   {
    "duration": 0,
    "start_time": "2022-09-08T19:04:01.600Z"
   },
   {
    "duration": 3,
    "start_time": "2022-09-08T19:04:26.386Z"
   },
   {
    "duration": 75,
    "start_time": "2022-09-08T19:04:26.391Z"
   },
   {
    "duration": 17,
    "start_time": "2022-09-08T19:04:26.468Z"
   },
   {
    "duration": 57,
    "start_time": "2022-09-08T19:04:26.487Z"
   },
   {
    "duration": 25,
    "start_time": "2022-09-08T19:04:26.547Z"
   },
   {
    "duration": 37,
    "start_time": "2022-09-08T19:04:26.575Z"
   },
   {
    "duration": 33,
    "start_time": "2022-09-08T19:04:26.617Z"
   },
   {
    "duration": 42,
    "start_time": "2022-09-08T19:04:26.652Z"
   },
   {
    "duration": 37,
    "start_time": "2022-09-08T19:04:26.695Z"
   },
   {
    "duration": 21,
    "start_time": "2022-09-08T19:04:26.733Z"
   },
   {
    "duration": 29,
    "start_time": "2022-09-08T19:04:26.755Z"
   },
   {
    "duration": 13,
    "start_time": "2022-09-08T19:04:26.786Z"
   },
   {
    "duration": 44,
    "start_time": "2022-09-08T19:04:26.807Z"
   },
   {
    "duration": 13,
    "start_time": "2022-09-08T19:04:26.855Z"
   },
   {
    "duration": 29,
    "start_time": "2022-09-08T19:04:26.870Z"
   },
   {
    "duration": 36,
    "start_time": "2022-09-08T19:04:26.908Z"
   },
   {
    "duration": 42,
    "start_time": "2022-09-08T19:04:26.947Z"
   },
   {
    "duration": 281,
    "start_time": "2022-09-08T19:04:26.991Z"
   },
   {
    "duration": 8,
    "start_time": "2022-09-08T19:04:27.274Z"
   },
   {
    "duration": 73,
    "start_time": "2022-09-08T19:04:27.284Z"
   },
   {
    "duration": 6,
    "start_time": "2022-09-08T19:04:27.358Z"
   },
   {
    "duration": 15,
    "start_time": "2022-09-08T19:04:27.366Z"
   },
   {
    "duration": 4,
    "start_time": "2022-09-08T19:04:27.382Z"
   },
   {
    "duration": 29,
    "start_time": "2022-09-08T19:04:27.388Z"
   },
   {
    "duration": 28,
    "start_time": "2022-09-08T19:04:27.419Z"
   },
   {
    "duration": 1204,
    "start_time": "2022-09-08T19:04:27.449Z"
   },
   {
    "duration": 137,
    "start_time": "2022-09-08T19:04:28.655Z"
   },
   {
    "duration": 21,
    "start_time": "2022-09-08T19:04:28.793Z"
   },
   {
    "duration": 126,
    "start_time": "2022-09-08T19:04:28.819Z"
   },
   {
    "duration": 8,
    "start_time": "2022-09-08T19:04:28.946Z"
   },
   {
    "duration": 9,
    "start_time": "2022-09-08T19:04:28.955Z"
   },
   {
    "duration": 1211,
    "start_time": "2022-09-08T19:04:28.967Z"
   },
   {
    "duration": 1395,
    "start_time": "2022-09-08T19:04:30.180Z"
   },
   {
    "duration": 6,
    "start_time": "2022-09-08T19:04:31.577Z"
   },
   {
    "duration": 41,
    "start_time": "2022-09-08T19:04:31.584Z"
   },
   {
    "duration": 54,
    "start_time": "2022-09-08T19:04:31.627Z"
   },
   {
    "duration": 7,
    "start_time": "2022-09-08T19:04:31.683Z"
   },
   {
    "duration": 14,
    "start_time": "2022-09-08T19:04:31.692Z"
   },
   {
    "duration": 889,
    "start_time": "2022-09-08T19:04:31.709Z"
   },
   {
    "duration": 0,
    "start_time": "2022-09-08T19:04:32.600Z"
   },
   {
    "duration": 0,
    "start_time": "2022-09-08T19:04:32.601Z"
   },
   {
    "duration": 0,
    "start_time": "2022-09-08T19:04:32.602Z"
   },
   {
    "duration": 0,
    "start_time": "2022-09-08T19:04:32.603Z"
   },
   {
    "duration": 0,
    "start_time": "2022-09-08T19:04:32.605Z"
   },
   {
    "duration": 0,
    "start_time": "2022-09-08T19:04:32.607Z"
   },
   {
    "duration": 0,
    "start_time": "2022-09-08T19:04:32.608Z"
   },
   {
    "duration": 0,
    "start_time": "2022-09-08T19:04:32.609Z"
   },
   {
    "duration": 16,
    "start_time": "2022-09-08T19:04:53.417Z"
   },
   {
    "duration": 825,
    "start_time": "2022-09-08T19:05:16.769Z"
   },
   {
    "duration": 13,
    "start_time": "2022-09-08T19:06:06.776Z"
   },
   {
    "duration": 171,
    "start_time": "2022-09-08T19:06:24.168Z"
   },
   {
    "duration": 104,
    "start_time": "2022-09-08T19:06:57.140Z"
   },
   {
    "duration": 13,
    "start_time": "2022-09-08T19:07:03.378Z"
   },
   {
    "duration": 10,
    "start_time": "2022-09-08T19:09:50.218Z"
   },
   {
    "duration": 16,
    "start_time": "2022-09-08T19:10:00.239Z"
   },
   {
    "duration": 14,
    "start_time": "2022-09-08T19:10:18.219Z"
   },
   {
    "duration": 7,
    "start_time": "2022-09-08T19:14:10.316Z"
   },
   {
    "duration": 6,
    "start_time": "2022-09-08T19:14:23.012Z"
   },
   {
    "duration": 68,
    "start_time": "2022-09-08T19:15:31.152Z"
   },
   {
    "duration": 6,
    "start_time": "2022-09-08T19:15:43.313Z"
   },
   {
    "duration": 6,
    "start_time": "2022-09-08T19:15:56.900Z"
   },
   {
    "duration": 6,
    "start_time": "2022-09-08T19:16:23.196Z"
   },
   {
    "duration": 1054,
    "start_time": "2022-09-08T19:17:00.871Z"
   },
   {
    "duration": 16,
    "start_time": "2022-09-08T19:17:16.513Z"
   },
   {
    "duration": 7,
    "start_time": "2022-09-08T19:19:28.037Z"
   },
   {
    "duration": 14,
    "start_time": "2022-09-08T19:20:14.306Z"
   },
   {
    "duration": 8,
    "start_time": "2022-09-08T19:20:37.793Z"
   },
   {
    "duration": 16,
    "start_time": "2022-09-08T19:21:19.739Z"
   },
   {
    "duration": 76,
    "start_time": "2022-09-08T19:21:33.943Z"
   },
   {
    "duration": 76,
    "start_time": "2022-09-08T19:21:49.853Z"
   },
   {
    "duration": 7,
    "start_time": "2022-09-08T19:21:58.293Z"
   },
   {
    "duration": 64,
    "start_time": "2022-09-08T19:26:27.589Z"
   },
   {
    "duration": 9,
    "start_time": "2022-09-08T19:26:37.604Z"
   },
   {
    "duration": 91,
    "start_time": "2022-09-08T19:28:19.300Z"
   },
   {
    "duration": 0,
    "start_time": "2022-09-08T19:28:19.393Z"
   },
   {
    "duration": 7,
    "start_time": "2022-09-08T19:28:23.769Z"
   },
   {
    "duration": 47,
    "start_time": "2023-01-20T19:56:06.618Z"
   },
   {
    "duration": 887,
    "start_time": "2023-01-20T19:56:09.464Z"
   },
   {
    "duration": 187,
    "start_time": "2023-01-20T19:56:10.353Z"
   },
   {
    "duration": 24,
    "start_time": "2023-01-20T19:56:10.542Z"
   },
   {
    "duration": 16,
    "start_time": "2023-01-20T19:56:10.568Z"
   },
   {
    "duration": 7,
    "start_time": "2023-01-20T19:56:10.585Z"
   },
   {
    "duration": 58,
    "start_time": "2023-01-20T19:56:10.594Z"
   },
   {
    "duration": 16,
    "start_time": "2023-01-20T19:56:10.654Z"
   },
   {
    "duration": 16,
    "start_time": "2023-01-20T19:56:10.671Z"
   },
   {
    "duration": 20,
    "start_time": "2023-01-20T19:56:10.689Z"
   },
   {
    "duration": 33,
    "start_time": "2023-01-20T19:56:10.711Z"
   },
   {
    "duration": 15,
    "start_time": "2023-01-20T19:56:10.746Z"
   },
   {
    "duration": 20,
    "start_time": "2023-01-20T19:56:10.762Z"
   },
   {
    "duration": 5,
    "start_time": "2023-01-20T19:56:10.784Z"
   },
   {
    "duration": 12,
    "start_time": "2023-01-20T19:56:10.791Z"
   },
   {
    "duration": 43,
    "start_time": "2023-01-20T19:56:10.804Z"
   },
   {
    "duration": 17,
    "start_time": "2023-01-20T19:56:10.848Z"
   },
   {
    "duration": 633,
    "start_time": "2023-01-20T19:56:10.866Z"
   },
   {
    "duration": 9,
    "start_time": "2023-01-20T19:56:11.500Z"
   },
   {
    "duration": 54,
    "start_time": "2023-01-20T19:56:11.510Z"
   },
   {
    "duration": 6,
    "start_time": "2023-01-20T19:56:11.566Z"
   },
   {
    "duration": 23,
    "start_time": "2023-01-20T19:56:11.574Z"
   },
   {
    "duration": 5,
    "start_time": "2023-01-20T19:56:11.599Z"
   },
   {
    "duration": 8,
    "start_time": "2023-01-20T19:56:11.606Z"
   },
   {
    "duration": 19,
    "start_time": "2023-01-20T19:56:11.644Z"
   },
   {
    "duration": 1190,
    "start_time": "2023-01-20T19:56:11.665Z"
   },
   {
    "duration": 0,
    "start_time": "2023-01-20T19:56:12.857Z"
   },
   {
    "duration": 0,
    "start_time": "2023-01-20T19:56:12.859Z"
   },
   {
    "duration": 0,
    "start_time": "2023-01-20T19:56:12.860Z"
   },
   {
    "duration": 0,
    "start_time": "2023-01-20T19:56:12.862Z"
   },
   {
    "duration": 0,
    "start_time": "2023-01-20T19:56:12.863Z"
   },
   {
    "duration": 0,
    "start_time": "2023-01-20T19:56:12.865Z"
   },
   {
    "duration": 0,
    "start_time": "2023-01-20T19:56:12.866Z"
   },
   {
    "duration": 0,
    "start_time": "2023-01-20T19:56:12.868Z"
   },
   {
    "duration": 0,
    "start_time": "2023-01-20T19:56:12.869Z"
   },
   {
    "duration": 0,
    "start_time": "2023-01-20T19:56:12.871Z"
   },
   {
    "duration": 0,
    "start_time": "2023-01-20T19:56:12.872Z"
   },
   {
    "duration": 0,
    "start_time": "2023-01-20T19:56:12.873Z"
   },
   {
    "duration": 0,
    "start_time": "2023-01-20T19:56:12.875Z"
   },
   {
    "duration": 0,
    "start_time": "2023-01-20T19:56:12.876Z"
   },
   {
    "duration": 0,
    "start_time": "2023-01-20T19:56:12.878Z"
   },
   {
    "duration": 0,
    "start_time": "2023-01-20T19:56:12.879Z"
   },
   {
    "duration": 0,
    "start_time": "2023-01-20T19:56:12.881Z"
   },
   {
    "duration": 0,
    "start_time": "2023-01-20T19:56:12.882Z"
   },
   {
    "duration": 0,
    "start_time": "2023-01-20T19:56:12.884Z"
   },
   {
    "duration": 0,
    "start_time": "2023-01-20T19:56:13.074Z"
   },
   {
    "duration": 0,
    "start_time": "2023-01-20T19:56:13.076Z"
   },
   {
    "duration": 1089,
    "start_time": "2023-01-20T19:56:48.443Z"
   },
   {
    "duration": 1151,
    "start_time": "2023-01-20T19:58:12.341Z"
   },
   {
    "duration": 54,
    "start_time": "2023-01-20T19:58:16.567Z"
   },
   {
    "duration": 51,
    "start_time": "2023-01-20T19:58:16.623Z"
   },
   {
    "duration": 16,
    "start_time": "2023-01-20T19:58:16.675Z"
   },
   {
    "duration": 14,
    "start_time": "2023-01-20T19:58:16.693Z"
   },
   {
    "duration": 7,
    "start_time": "2023-01-20T19:58:16.709Z"
   },
   {
    "duration": 35,
    "start_time": "2023-01-20T19:58:16.717Z"
   },
   {
    "duration": 13,
    "start_time": "2023-01-20T19:58:16.754Z"
   },
   {
    "duration": 16,
    "start_time": "2023-01-20T19:58:16.768Z"
   },
   {
    "duration": 19,
    "start_time": "2023-01-20T19:58:16.785Z"
   },
   {
    "duration": 7,
    "start_time": "2023-01-20T19:58:16.806Z"
   },
   {
    "duration": 40,
    "start_time": "2023-01-20T19:58:16.815Z"
   },
   {
    "duration": 19,
    "start_time": "2023-01-20T19:58:16.857Z"
   },
   {
    "duration": 5,
    "start_time": "2023-01-20T19:58:16.877Z"
   },
   {
    "duration": 11,
    "start_time": "2023-01-20T19:58:16.883Z"
   },
   {
    "duration": 8,
    "start_time": "2023-01-20T19:58:16.896Z"
   },
   {
    "duration": 49,
    "start_time": "2023-01-20T19:58:16.906Z"
   },
   {
    "duration": 254,
    "start_time": "2023-01-20T19:58:16.957Z"
   },
   {
    "duration": 8,
    "start_time": "2023-01-20T19:58:17.212Z"
   },
   {
    "duration": 51,
    "start_time": "2023-01-20T19:58:17.221Z"
   },
   {
    "duration": 5,
    "start_time": "2023-01-20T19:58:17.274Z"
   },
   {
    "duration": 14,
    "start_time": "2023-01-20T19:58:17.281Z"
   },
   {
    "duration": 4,
    "start_time": "2023-01-20T19:58:17.297Z"
   },
   {
    "duration": 20,
    "start_time": "2023-01-20T19:58:17.302Z"
   },
   {
    "duration": 20,
    "start_time": "2023-01-20T19:58:17.344Z"
   },
   {
    "duration": 1149,
    "start_time": "2023-01-20T19:58:17.365Z"
   },
   {
    "duration": 138,
    "start_time": "2023-01-20T19:58:18.516Z"
   },
   {
    "duration": 7,
    "start_time": "2023-01-20T19:58:18.655Z"
   },
   {
    "duration": 140,
    "start_time": "2023-01-20T19:58:18.666Z"
   },
   {
    "duration": 6,
    "start_time": "2023-01-20T19:58:18.808Z"
   },
   {
    "duration": 10,
    "start_time": "2023-01-20T19:58:18.815Z"
   },
   {
    "duration": 1088,
    "start_time": "2023-01-20T19:58:18.827Z"
   },
   {
    "duration": 1198,
    "start_time": "2023-01-20T19:58:19.916Z"
   },
   {
    "duration": 6,
    "start_time": "2023-01-20T19:58:21.116Z"
   },
   {
    "duration": 23,
    "start_time": "2023-01-20T19:58:21.124Z"
   },
   {
    "duration": 26,
    "start_time": "2023-01-20T19:58:21.148Z"
   },
   {
    "duration": 6,
    "start_time": "2023-01-20T19:58:21.175Z"
   },
   {
    "duration": 7,
    "start_time": "2023-01-20T19:58:21.183Z"
   },
   {
    "duration": 13,
    "start_time": "2023-01-20T19:58:21.192Z"
   },
   {
    "duration": 42,
    "start_time": "2023-01-20T19:58:21.207Z"
   },
   {
    "duration": 12,
    "start_time": "2023-01-20T19:58:21.250Z"
   },
   {
    "duration": 16,
    "start_time": "2023-01-20T19:58:21.264Z"
   },
   {
    "duration": 5,
    "start_time": "2023-01-20T19:58:21.282Z"
   },
   {
    "duration": 6,
    "start_time": "2023-01-20T19:58:21.289Z"
   },
   {
    "duration": 48,
    "start_time": "2023-01-20T19:58:21.297Z"
   },
   {
    "duration": 8,
    "start_time": "2023-01-20T19:58:21.347Z"
   },
   {
    "duration": 17,
    "start_time": "2023-01-20T19:58:21.356Z"
   },
   {
    "duration": 1163,
    "start_time": "2023-01-20T19:58:59.845Z"
   },
   {
    "duration": 1343,
    "start_time": "2023-01-20T19:59:23.596Z"
   },
   {
    "duration": 1153,
    "start_time": "2023-01-20T19:59:51.659Z"
   },
   {
    "duration": 1343,
    "start_time": "2023-01-20T20:00:11.024Z"
   },
   {
    "duration": 8,
    "start_time": "2023-01-20T20:01:59.726Z"
   },
   {
    "duration": 16,
    "start_time": "2023-01-20T20:03:20.227Z"
   },
   {
    "duration": 5,
    "start_time": "2023-01-20T20:04:33.269Z"
   },
   {
    "duration": 3,
    "start_time": "2023-01-20T20:04:39.946Z"
   },
   {
    "duration": 47,
    "start_time": "2023-01-20T20:04:39.956Z"
   },
   {
    "duration": 16,
    "start_time": "2023-01-20T20:04:40.006Z"
   },
   {
    "duration": 27,
    "start_time": "2023-01-20T20:04:40.025Z"
   },
   {
    "duration": 13,
    "start_time": "2023-01-20T20:04:40.055Z"
   },
   {
    "duration": 23,
    "start_time": "2023-01-20T20:04:40.070Z"
   },
   {
    "duration": 19,
    "start_time": "2023-01-20T20:04:40.095Z"
   },
   {
    "duration": 23,
    "start_time": "2023-01-20T20:04:40.143Z"
   },
   {
    "duration": 10,
    "start_time": "2023-01-20T20:04:40.168Z"
   },
   {
    "duration": 13,
    "start_time": "2023-01-20T20:04:40.180Z"
   },
   {
    "duration": 55,
    "start_time": "2023-01-20T20:04:40.196Z"
   },
   {
    "duration": 7,
    "start_time": "2023-01-20T20:04:40.253Z"
   },
   {
    "duration": 11,
    "start_time": "2023-01-20T20:04:40.262Z"
   },
   {
    "duration": 9,
    "start_time": "2023-01-20T20:04:40.275Z"
   },
   {
    "duration": 23,
    "start_time": "2023-01-20T20:04:40.285Z"
   },
   {
    "duration": 240,
    "start_time": "2023-01-20T20:04:40.310Z"
   },
   {
    "duration": 7,
    "start_time": "2023-01-20T20:04:40.552Z"
   },
   {
    "duration": 34,
    "start_time": "2023-01-20T20:04:40.561Z"
   },
   {
    "duration": 6,
    "start_time": "2023-01-20T20:04:40.597Z"
   },
   {
    "duration": 40,
    "start_time": "2023-01-20T20:04:40.604Z"
   },
   {
    "duration": 6,
    "start_time": "2023-01-20T20:04:40.645Z"
   },
   {
    "duration": 14,
    "start_time": "2023-01-20T20:04:40.652Z"
   },
   {
    "duration": 18,
    "start_time": "2023-01-20T20:04:40.667Z"
   },
   {
    "duration": 1170,
    "start_time": "2023-01-20T20:04:40.687Z"
   },
   {
    "duration": 130,
    "start_time": "2023-01-20T20:04:41.859Z"
   },
   {
    "duration": 6,
    "start_time": "2023-01-20T20:04:41.991Z"
   },
   {
    "duration": 183,
    "start_time": "2023-01-20T20:04:41.998Z"
   },
   {
    "duration": 6,
    "start_time": "2023-01-20T20:04:42.182Z"
   },
   {
    "duration": 57,
    "start_time": "2023-01-20T20:04:42.191Z"
   },
   {
    "duration": 1869,
    "start_time": "2023-01-20T20:04:42.250Z"
   },
   {
    "duration": 1356,
    "start_time": "2023-01-20T20:04:44.121Z"
   },
   {
    "duration": 6,
    "start_time": "2023-01-20T20:04:45.478Z"
   },
   {
    "duration": 8,
    "start_time": "2023-01-20T20:04:45.486Z"
   },
   {
    "duration": 56,
    "start_time": "2023-01-20T20:04:45.496Z"
   },
   {
    "duration": 6,
    "start_time": "2023-01-20T20:04:45.554Z"
   },
   {
    "duration": 33,
    "start_time": "2023-01-20T20:04:45.561Z"
   },
   {
    "duration": 28,
    "start_time": "2023-01-20T20:04:45.596Z"
   },
   {
    "duration": 17,
    "start_time": "2023-01-20T20:04:45.626Z"
   },
   {
    "duration": 23,
    "start_time": "2023-01-20T20:04:45.645Z"
   },
   {
    "duration": 25,
    "start_time": "2023-01-20T20:04:45.669Z"
   },
   {
    "duration": 14,
    "start_time": "2023-01-20T20:04:45.695Z"
   },
   {
    "duration": 14,
    "start_time": "2023-01-20T20:04:45.711Z"
   },
   {
    "duration": 23,
    "start_time": "2023-01-20T20:04:45.727Z"
   },
   {
    "duration": 10,
    "start_time": "2023-01-20T20:04:45.752Z"
   },
   {
    "duration": 11,
    "start_time": "2023-01-20T20:04:45.764Z"
   },
   {
    "duration": 13,
    "start_time": "2023-01-20T20:06:00.671Z"
   },
   {
    "duration": 4,
    "start_time": "2023-01-20T20:06:36.252Z"
   },
   {
    "duration": 213,
    "start_time": "2023-01-20T20:06:47.007Z"
   },
   {
    "duration": 3,
    "start_time": "2023-01-20T20:07:07.550Z"
   },
   {
    "duration": 54,
    "start_time": "2023-01-20T20:07:07.558Z"
   },
   {
    "duration": 17,
    "start_time": "2023-01-20T20:07:07.614Z"
   },
   {
    "duration": 17,
    "start_time": "2023-01-20T20:07:07.633Z"
   },
   {
    "duration": 7,
    "start_time": "2023-01-20T20:07:07.652Z"
   },
   {
    "duration": 14,
    "start_time": "2023-01-20T20:07:07.660Z"
   },
   {
    "duration": 12,
    "start_time": "2023-01-20T20:07:07.676Z"
   },
   {
    "duration": 14,
    "start_time": "2023-01-20T20:07:07.689Z"
   },
   {
    "duration": 44,
    "start_time": "2023-01-20T20:07:07.704Z"
   },
   {
    "duration": 16,
    "start_time": "2023-01-20T20:07:07.749Z"
   },
   {
    "duration": 23,
    "start_time": "2023-01-20T20:07:07.767Z"
   },
   {
    "duration": 24,
    "start_time": "2023-01-20T20:07:07.791Z"
   },
   {
    "duration": 27,
    "start_time": "2023-01-20T20:07:07.817Z"
   },
   {
    "duration": 14,
    "start_time": "2023-01-20T20:07:07.845Z"
   },
   {
    "duration": 241,
    "start_time": "2023-01-20T20:07:07.861Z"
   },
   {
    "duration": 1109,
    "start_time": "2023-01-20T20:08:28.588Z"
   },
   {
    "duration": 1102,
    "start_time": "2023-01-20T20:08:39.951Z"
   }
  ],
  "kernelspec": {
   "display_name": "Python 3 (ipykernel)",
   "language": "python",
   "name": "python3"
  },
  "language_info": {
   "codemirror_mode": {
    "name": "ipython",
    "version": 3
   },
   "file_extension": ".py",
   "mimetype": "text/x-python",
   "name": "python",
   "nbconvert_exporter": "python",
   "pygments_lexer": "ipython3",
   "version": "3.9.5"
  },
  "toc": {
   "base_numbering": 1,
   "nav_menu": {},
   "number_sections": true,
   "sideBar": true,
   "skip_h1_title": true,
   "title_cell": "Table of Contents",
   "title_sidebar": "Contents",
   "toc_cell": false,
   "toc_position": {},
   "toc_section_display": true,
   "toc_window_display": true
  }
 },
 "nbformat": 4,
 "nbformat_minor": 2
}
